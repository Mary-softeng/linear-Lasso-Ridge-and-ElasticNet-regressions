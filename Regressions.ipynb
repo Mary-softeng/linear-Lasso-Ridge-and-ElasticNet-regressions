{
  "cells": [
    {
      "cell_type": "markdown",
      "metadata": {
        "id": "R23fevfFDebv"
      },
      "source": [
        "## 1.Defining the Question\n",
        "\n",
        "As a Data Scientist, you work for Hass Consulting Company which is a real estate leader with over 25 years of experience. You have been tasked to study the factors that affect housing prices using the given information on real estate properties that was collected over the past few months. Later onwards, create a model that would allow the company to accurately predict the sale of prices upon being provided with the predictor variables. "
      ]
    },
    {
      "cell_type": "markdown",
      "metadata": {
        "id": "a7-n8Hf96cfX"
      },
      "source": [
        "###a) The Question\n",
        "\n",
        "- What are the most factors that affect house prices?\n",
        "- Which model would be effective for house sales prediction?"
      ]
    },
    {
      "cell_type": "markdown",
      "metadata": {
        "id": "v1NbyWkh6tuW"
      },
      "source": [
        "### b) The Metric Of Success\n",
        "\n",
        "the metric of success for regression models is R-Squared and RMSE.\n",
        "\n",
        "linear regression is the base model and it has an R-Squared of 0.975 while models lasso has 0.901,ridge and elascic Net has R-Squared of 0.695 . \n",
        "\n",
        "The succes of the model will be determined if the RMSe is lowest."
      ]
    },
    {
      "cell_type": "markdown",
      "metadata": {
        "id": "FMW0MGKy65cm"
      },
      "source": [
        "### c) The context\n",
        "\n",
        "the columns of the dataset are illusreated as follows:\n",
        "\n",
        "Id \n",
        "\n",
        "price  - Price of the house\n",
        "\n",
        "bedrooms - Number of Bedrooms\n",
        "\n",
        "bathrooms - Number of Bathrooms\n",
        "\n",
        "sqft_living - Square feet area of living area\n",
        "\n",
        "sqft_lot  - Square feet area of parking Layout\n",
        "\n",
        "floors - Number of Floors\n",
        "\n",
        "waterfront - Whether waterfront is there or not\n",
        "\n",
        "view - Number of Views\n",
        "\n",
        "grade - Grades\n",
        "\n",
        "sqft_above\n",
        "\n",
        "sqft_basement - Square feet area off basement\n",
        "\n",
        "yr_built - Year the house is built\n",
        "\n",
        "yr_renovated - Year the house is renovated\n",
        "\n",
        "zipcode - zipcode os the house\n",
        "\n",
        "lat : Latitude of the house\n",
        "\n",
        "lon : Longitude of the house\n",
        "\n",
        "sqft_living15\n",
        "\n",
        "sqft_lot15"
      ]
    },
    {
      "cell_type": "markdown",
      "metadata": {
        "id": "bNP0a4LL6_pe"
      },
      "source": [
        "### d) Experimental Design\n",
        "\n",
        "- Define the question\n",
        "\n",
        "- the metric for success\n",
        "\n",
        "- the context\n",
        " \n",
        "- experimental design taken.\n",
        "- Read and explore the given dataset.\n",
        "\n",
        "- Define the appropriateness of the available data to answer the given question.\n",
        "\n",
        "- Feature engineering\n",
        "\n",
        "- EDA(univariate and Bivariate analysis\n",
        "\n",
        "- Linear regression\n",
        "\n",
        "- Lasso regression\n",
        "\n",
        "- Ridge Regression\n",
        "\n",
        "- ElasticNet regression\n",
        "\n",
        "- conclusion\n",
        "\n",
        "- Recommendation\n",
        "\n"
      ]
    },
    {
      "cell_type": "markdown",
      "metadata": {
        "id": "ARP52M2HDqbO"
      },
      "source": [
        "##2.loading and previewing the dataset"
      ]
    },
    {
      "cell_type": "markdown",
      "metadata": {
        "id": "k4Xa9owkFy6h"
      },
      "source": [
        "### a) Importing libraries"
      ]
    },
    {
      "cell_type": "code",
      "execution_count": 1,
      "metadata": {
        "id": "qDahB09xXUjT",
        "colab": {
          "base_uri": "https://localhost:8080/"
        },
        "outputId": "220b9a98-77de-4177-8ec1-79c234b426c1"
      },
      "outputs": [
        {
          "output_type": "stream",
          "name": "stderr",
          "text": [
            "/usr/local/lib/python3.7/dist-packages/statsmodels/tools/_testing.py:19: FutureWarning: pandas.util.testing is deprecated. Use the functions in the public API at pandas.testing instead.\n",
            "  import pandas.util.testing as tm\n"
          ]
        }
      ],
      "source": [
        "#importing pandas\n",
        "import pandas as pd\n",
        "\n",
        "#importing numpy\n",
        "import numpy as np\n",
        "\n",
        "#importing matplotlib\n",
        "import matplotlib.pyplot as plt\n",
        "\n",
        "#importing sklearn.preprocessing\n",
        "from sklearn.preprocessing import PolynomialFeatures\n",
        "\n",
        "from sklearn.preprocessing import LabelEncoder\n",
        "#importing sklearn.model_selection\n",
        "from sklearn.model_selection import train_test_split\n",
        "\n",
        "# Import LinearRegression method from sklearn linear_model library\n",
        "from sklearn.linear_model import LinearRegression\n",
        "\n",
        "#importing sklearn.metrics\n",
        "from sklearn import metrics\n",
        "from sklearn.metrics import classification_report\n",
        "from sklearn.metrics import confusion_matrix\n",
        "from sklearn.metrics import accuracy_score\n",
        "from sklearn import model_selection\n",
        "\n",
        "#importing sklearn.ensemble\n",
        "from sklearn.ensemble import RandomForestClassifier\n",
        "#importing seaborn\n",
        "import seaborn as sns\n",
        "\n",
        "#importing scipy\n",
        "import scipy.stats as stats\n",
        "import scipy as sp\n",
        "import statsmodels.formula.api as smf\n",
        "from sklearn.model_selection import train_test_split\n",
        "from sklearn.model_selection import GridSearchCV\n",
        "import warnings\n",
        "warnings.filterwarnings(\"ignore\")\n",
        "from sklearn.model_selection import GridSearchCV\n",
        "from sklearn.linear_model import Ridge\n",
        "from sklearn.linear_model import LinearRegression\n",
        "from sklearn.metrics import mean_squared_error\n",
        "from sklearn.linear_model import ElasticNet\n"
      ]
    },
    {
      "cell_type": "markdown",
      "metadata": {
        "id": "D0d4adxrF4gY"
      },
      "source": [
        "### b) loading the dataset"
      ]
    },
    {
      "cell_type": "code",
      "execution_count": 2,
      "metadata": {
        "id": "y08QlgpgXksa"
      },
      "outputs": [],
      "source": [
        "#dataset\n",
        "house = pd.read_csv(\"/content/Independent Project Week 7 - house_data.csv\")"
      ]
    },
    {
      "cell_type": "markdown",
      "metadata": {
        "id": "AdrSIaRHF-5o"
      },
      "source": [
        "###c) Previewing the dataset"
      ]
    },
    {
      "cell_type": "code",
      "execution_count": 3,
      "metadata": {
        "colab": {
          "base_uri": "https://localhost:8080/",
          "height": 270
        },
        "id": "gzYvv-xNYHIx",
        "outputId": "a0cdc115-3229-4c86-8aa5-326339e8fd6c"
      },
      "outputs": [
        {
          "output_type": "execute_result",
          "data": {
            "text/plain": [
              "           id     price  bedrooms  bathrooms  sqft_living  sqft_lot  floors  \\\n",
              "0  7129300520  221900.0         3       1.00         1180      5650     1.0   \n",
              "1  6414100192  538000.0         3       2.25         2570      7242     2.0   \n",
              "2  5631500400  180000.0         2       1.00          770     10000     1.0   \n",
              "3  2487200875  604000.0         4       3.00         1960      5000     1.0   \n",
              "4  1954400510  510000.0         3       2.00         1680      8080     1.0   \n",
              "\n",
              "   waterfront  view  condition  grade  sqft_above  sqft_basement  yr_built  \\\n",
              "0           0     0          3      7        1180              0      1955   \n",
              "1           0     0          3      7        2170            400      1951   \n",
              "2           0     0          3      6         770              0      1933   \n",
              "3           0     0          5      7        1050            910      1965   \n",
              "4           0     0          3      8        1680              0      1987   \n",
              "\n",
              "   yr_renovated  zipcode      lat     long  sqft_living15  sqft_lot15  \n",
              "0             0    98178  47.5112 -122.257           1340        5650  \n",
              "1          1991    98125  47.7210 -122.319           1690        7639  \n",
              "2             0    98028  47.7379 -122.233           2720        8062  \n",
              "3             0    98136  47.5208 -122.393           1360        5000  \n",
              "4             0    98074  47.6168 -122.045           1800        7503  "
            ],
            "text/html": [
              "\n",
              "  <div id=\"df-4887e7e0-15d0-4861-a8f5-2b4c905d05c3\">\n",
              "    <div class=\"colab-df-container\">\n",
              "      <div>\n",
              "<style scoped>\n",
              "    .dataframe tbody tr th:only-of-type {\n",
              "        vertical-align: middle;\n",
              "    }\n",
              "\n",
              "    .dataframe tbody tr th {\n",
              "        vertical-align: top;\n",
              "    }\n",
              "\n",
              "    .dataframe thead th {\n",
              "        text-align: right;\n",
              "    }\n",
              "</style>\n",
              "<table border=\"1\" class=\"dataframe\">\n",
              "  <thead>\n",
              "    <tr style=\"text-align: right;\">\n",
              "      <th></th>\n",
              "      <th>id</th>\n",
              "      <th>price</th>\n",
              "      <th>bedrooms</th>\n",
              "      <th>bathrooms</th>\n",
              "      <th>sqft_living</th>\n",
              "      <th>sqft_lot</th>\n",
              "      <th>floors</th>\n",
              "      <th>waterfront</th>\n",
              "      <th>view</th>\n",
              "      <th>condition</th>\n",
              "      <th>grade</th>\n",
              "      <th>sqft_above</th>\n",
              "      <th>sqft_basement</th>\n",
              "      <th>yr_built</th>\n",
              "      <th>yr_renovated</th>\n",
              "      <th>zipcode</th>\n",
              "      <th>lat</th>\n",
              "      <th>long</th>\n",
              "      <th>sqft_living15</th>\n",
              "      <th>sqft_lot15</th>\n",
              "    </tr>\n",
              "  </thead>\n",
              "  <tbody>\n",
              "    <tr>\n",
              "      <th>0</th>\n",
              "      <td>7129300520</td>\n",
              "      <td>221900.0</td>\n",
              "      <td>3</td>\n",
              "      <td>1.00</td>\n",
              "      <td>1180</td>\n",
              "      <td>5650</td>\n",
              "      <td>1.0</td>\n",
              "      <td>0</td>\n",
              "      <td>0</td>\n",
              "      <td>3</td>\n",
              "      <td>7</td>\n",
              "      <td>1180</td>\n",
              "      <td>0</td>\n",
              "      <td>1955</td>\n",
              "      <td>0</td>\n",
              "      <td>98178</td>\n",
              "      <td>47.5112</td>\n",
              "      <td>-122.257</td>\n",
              "      <td>1340</td>\n",
              "      <td>5650</td>\n",
              "    </tr>\n",
              "    <tr>\n",
              "      <th>1</th>\n",
              "      <td>6414100192</td>\n",
              "      <td>538000.0</td>\n",
              "      <td>3</td>\n",
              "      <td>2.25</td>\n",
              "      <td>2570</td>\n",
              "      <td>7242</td>\n",
              "      <td>2.0</td>\n",
              "      <td>0</td>\n",
              "      <td>0</td>\n",
              "      <td>3</td>\n",
              "      <td>7</td>\n",
              "      <td>2170</td>\n",
              "      <td>400</td>\n",
              "      <td>1951</td>\n",
              "      <td>1991</td>\n",
              "      <td>98125</td>\n",
              "      <td>47.7210</td>\n",
              "      <td>-122.319</td>\n",
              "      <td>1690</td>\n",
              "      <td>7639</td>\n",
              "    </tr>\n",
              "    <tr>\n",
              "      <th>2</th>\n",
              "      <td>5631500400</td>\n",
              "      <td>180000.0</td>\n",
              "      <td>2</td>\n",
              "      <td>1.00</td>\n",
              "      <td>770</td>\n",
              "      <td>10000</td>\n",
              "      <td>1.0</td>\n",
              "      <td>0</td>\n",
              "      <td>0</td>\n",
              "      <td>3</td>\n",
              "      <td>6</td>\n",
              "      <td>770</td>\n",
              "      <td>0</td>\n",
              "      <td>1933</td>\n",
              "      <td>0</td>\n",
              "      <td>98028</td>\n",
              "      <td>47.7379</td>\n",
              "      <td>-122.233</td>\n",
              "      <td>2720</td>\n",
              "      <td>8062</td>\n",
              "    </tr>\n",
              "    <tr>\n",
              "      <th>3</th>\n",
              "      <td>2487200875</td>\n",
              "      <td>604000.0</td>\n",
              "      <td>4</td>\n",
              "      <td>3.00</td>\n",
              "      <td>1960</td>\n",
              "      <td>5000</td>\n",
              "      <td>1.0</td>\n",
              "      <td>0</td>\n",
              "      <td>0</td>\n",
              "      <td>5</td>\n",
              "      <td>7</td>\n",
              "      <td>1050</td>\n",
              "      <td>910</td>\n",
              "      <td>1965</td>\n",
              "      <td>0</td>\n",
              "      <td>98136</td>\n",
              "      <td>47.5208</td>\n",
              "      <td>-122.393</td>\n",
              "      <td>1360</td>\n",
              "      <td>5000</td>\n",
              "    </tr>\n",
              "    <tr>\n",
              "      <th>4</th>\n",
              "      <td>1954400510</td>\n",
              "      <td>510000.0</td>\n",
              "      <td>3</td>\n",
              "      <td>2.00</td>\n",
              "      <td>1680</td>\n",
              "      <td>8080</td>\n",
              "      <td>1.0</td>\n",
              "      <td>0</td>\n",
              "      <td>0</td>\n",
              "      <td>3</td>\n",
              "      <td>8</td>\n",
              "      <td>1680</td>\n",
              "      <td>0</td>\n",
              "      <td>1987</td>\n",
              "      <td>0</td>\n",
              "      <td>98074</td>\n",
              "      <td>47.6168</td>\n",
              "      <td>-122.045</td>\n",
              "      <td>1800</td>\n",
              "      <td>7503</td>\n",
              "    </tr>\n",
              "  </tbody>\n",
              "</table>\n",
              "</div>\n",
              "      <button class=\"colab-df-convert\" onclick=\"convertToInteractive('df-4887e7e0-15d0-4861-a8f5-2b4c905d05c3')\"\n",
              "              title=\"Convert this dataframe to an interactive table.\"\n",
              "              style=\"display:none;\">\n",
              "        \n",
              "  <svg xmlns=\"http://www.w3.org/2000/svg\" height=\"24px\"viewBox=\"0 0 24 24\"\n",
              "       width=\"24px\">\n",
              "    <path d=\"M0 0h24v24H0V0z\" fill=\"none\"/>\n",
              "    <path d=\"M18.56 5.44l.94 2.06.94-2.06 2.06-.94-2.06-.94-.94-2.06-.94 2.06-2.06.94zm-11 1L8.5 8.5l.94-2.06 2.06-.94-2.06-.94L8.5 2.5l-.94 2.06-2.06.94zm10 10l.94 2.06.94-2.06 2.06-.94-2.06-.94-.94-2.06-.94 2.06-2.06.94z\"/><path d=\"M17.41 7.96l-1.37-1.37c-.4-.4-.92-.59-1.43-.59-.52 0-1.04.2-1.43.59L10.3 9.45l-7.72 7.72c-.78.78-.78 2.05 0 2.83L4 21.41c.39.39.9.59 1.41.59.51 0 1.02-.2 1.41-.59l7.78-7.78 2.81-2.81c.8-.78.8-2.07 0-2.86zM5.41 20L4 18.59l7.72-7.72 1.47 1.35L5.41 20z\"/>\n",
              "  </svg>\n",
              "      </button>\n",
              "      \n",
              "  <style>\n",
              "    .colab-df-container {\n",
              "      display:flex;\n",
              "      flex-wrap:wrap;\n",
              "      gap: 12px;\n",
              "    }\n",
              "\n",
              "    .colab-df-convert {\n",
              "      background-color: #E8F0FE;\n",
              "      border: none;\n",
              "      border-radius: 50%;\n",
              "      cursor: pointer;\n",
              "      display: none;\n",
              "      fill: #1967D2;\n",
              "      height: 32px;\n",
              "      padding: 0 0 0 0;\n",
              "      width: 32px;\n",
              "    }\n",
              "\n",
              "    .colab-df-convert:hover {\n",
              "      background-color: #E2EBFA;\n",
              "      box-shadow: 0px 1px 2px rgba(60, 64, 67, 0.3), 0px 1px 3px 1px rgba(60, 64, 67, 0.15);\n",
              "      fill: #174EA6;\n",
              "    }\n",
              "\n",
              "    [theme=dark] .colab-df-convert {\n",
              "      background-color: #3B4455;\n",
              "      fill: #D2E3FC;\n",
              "    }\n",
              "\n",
              "    [theme=dark] .colab-df-convert:hover {\n",
              "      background-color: #434B5C;\n",
              "      box-shadow: 0px 1px 3px 1px rgba(0, 0, 0, 0.15);\n",
              "      filter: drop-shadow(0px 1px 2px rgba(0, 0, 0, 0.3));\n",
              "      fill: #FFFFFF;\n",
              "    }\n",
              "  </style>\n",
              "\n",
              "      <script>\n",
              "        const buttonEl =\n",
              "          document.querySelector('#df-4887e7e0-15d0-4861-a8f5-2b4c905d05c3 button.colab-df-convert');\n",
              "        buttonEl.style.display =\n",
              "          google.colab.kernel.accessAllowed ? 'block' : 'none';\n",
              "\n",
              "        async function convertToInteractive(key) {\n",
              "          const element = document.querySelector('#df-4887e7e0-15d0-4861-a8f5-2b4c905d05c3');\n",
              "          const dataTable =\n",
              "            await google.colab.kernel.invokeFunction('convertToInteractive',\n",
              "                                                     [key], {});\n",
              "          if (!dataTable) return;\n",
              "\n",
              "          const docLinkHtml = 'Like what you see? Visit the ' +\n",
              "            '<a target=\"_blank\" href=https://colab.research.google.com/notebooks/data_table.ipynb>data table notebook</a>'\n",
              "            + ' to learn more about interactive tables.';\n",
              "          element.innerHTML = '';\n",
              "          dataTable['output_type'] = 'display_data';\n",
              "          await google.colab.output.renderOutput(dataTable, element);\n",
              "          const docLink = document.createElement('div');\n",
              "          docLink.innerHTML = docLinkHtml;\n",
              "          element.appendChild(docLink);\n",
              "        }\n",
              "      </script>\n",
              "    </div>\n",
              "  </div>\n",
              "  "
            ]
          },
          "metadata": {},
          "execution_count": 3
        }
      ],
      "source": [
        "#previewing the first five entries\n",
        "house.head(5)"
      ]
    },
    {
      "cell_type": "code",
      "execution_count": 4,
      "metadata": {
        "colab": {
          "base_uri": "https://localhost:8080/",
          "height": 270
        },
        "id": "tfcCuSimYSm5",
        "outputId": "f0f23fb6-229b-454b-b7b8-17264ece18c4"
      },
      "outputs": [
        {
          "output_type": "execute_result",
          "data": {
            "text/plain": [
              "               id     price  bedrooms  bathrooms  sqft_living  sqft_lot  \\\n",
              "21608   263000018  360000.0         3       2.50         1530      1131   \n",
              "21609  6600060120  400000.0         4       2.50         2310      5813   \n",
              "21610  1523300141  402101.0         2       0.75         1020      1350   \n",
              "21611   291310100  400000.0         3       2.50         1600      2388   \n",
              "21612  1523300157  325000.0         2       0.75         1020      1076   \n",
              "\n",
              "       floors  waterfront  view  condition  grade  sqft_above  sqft_basement  \\\n",
              "21608     3.0           0     0          3      8        1530              0   \n",
              "21609     2.0           0     0          3      8        2310              0   \n",
              "21610     2.0           0     0          3      7        1020              0   \n",
              "21611     2.0           0     0          3      8        1600              0   \n",
              "21612     2.0           0     0          3      7        1020              0   \n",
              "\n",
              "       yr_built  yr_renovated  zipcode      lat     long  sqft_living15  \\\n",
              "21608      2009             0    98103  47.6993 -122.346           1530   \n",
              "21609      2014             0    98146  47.5107 -122.362           1830   \n",
              "21610      2009             0    98144  47.5944 -122.299           1020   \n",
              "21611      2004             0    98027  47.5345 -122.069           1410   \n",
              "21612      2008             0    98144  47.5941 -122.299           1020   \n",
              "\n",
              "       sqft_lot15  \n",
              "21608        1509  \n",
              "21609        7200  \n",
              "21610        2007  \n",
              "21611        1287  \n",
              "21612        1357  "
            ],
            "text/html": [
              "\n",
              "  <div id=\"df-58a3841a-034e-42bc-8fa4-a60420cc8a02\">\n",
              "    <div class=\"colab-df-container\">\n",
              "      <div>\n",
              "<style scoped>\n",
              "    .dataframe tbody tr th:only-of-type {\n",
              "        vertical-align: middle;\n",
              "    }\n",
              "\n",
              "    .dataframe tbody tr th {\n",
              "        vertical-align: top;\n",
              "    }\n",
              "\n",
              "    .dataframe thead th {\n",
              "        text-align: right;\n",
              "    }\n",
              "</style>\n",
              "<table border=\"1\" class=\"dataframe\">\n",
              "  <thead>\n",
              "    <tr style=\"text-align: right;\">\n",
              "      <th></th>\n",
              "      <th>id</th>\n",
              "      <th>price</th>\n",
              "      <th>bedrooms</th>\n",
              "      <th>bathrooms</th>\n",
              "      <th>sqft_living</th>\n",
              "      <th>sqft_lot</th>\n",
              "      <th>floors</th>\n",
              "      <th>waterfront</th>\n",
              "      <th>view</th>\n",
              "      <th>condition</th>\n",
              "      <th>grade</th>\n",
              "      <th>sqft_above</th>\n",
              "      <th>sqft_basement</th>\n",
              "      <th>yr_built</th>\n",
              "      <th>yr_renovated</th>\n",
              "      <th>zipcode</th>\n",
              "      <th>lat</th>\n",
              "      <th>long</th>\n",
              "      <th>sqft_living15</th>\n",
              "      <th>sqft_lot15</th>\n",
              "    </tr>\n",
              "  </thead>\n",
              "  <tbody>\n",
              "    <tr>\n",
              "      <th>21608</th>\n",
              "      <td>263000018</td>\n",
              "      <td>360000.0</td>\n",
              "      <td>3</td>\n",
              "      <td>2.50</td>\n",
              "      <td>1530</td>\n",
              "      <td>1131</td>\n",
              "      <td>3.0</td>\n",
              "      <td>0</td>\n",
              "      <td>0</td>\n",
              "      <td>3</td>\n",
              "      <td>8</td>\n",
              "      <td>1530</td>\n",
              "      <td>0</td>\n",
              "      <td>2009</td>\n",
              "      <td>0</td>\n",
              "      <td>98103</td>\n",
              "      <td>47.6993</td>\n",
              "      <td>-122.346</td>\n",
              "      <td>1530</td>\n",
              "      <td>1509</td>\n",
              "    </tr>\n",
              "    <tr>\n",
              "      <th>21609</th>\n",
              "      <td>6600060120</td>\n",
              "      <td>400000.0</td>\n",
              "      <td>4</td>\n",
              "      <td>2.50</td>\n",
              "      <td>2310</td>\n",
              "      <td>5813</td>\n",
              "      <td>2.0</td>\n",
              "      <td>0</td>\n",
              "      <td>0</td>\n",
              "      <td>3</td>\n",
              "      <td>8</td>\n",
              "      <td>2310</td>\n",
              "      <td>0</td>\n",
              "      <td>2014</td>\n",
              "      <td>0</td>\n",
              "      <td>98146</td>\n",
              "      <td>47.5107</td>\n",
              "      <td>-122.362</td>\n",
              "      <td>1830</td>\n",
              "      <td>7200</td>\n",
              "    </tr>\n",
              "    <tr>\n",
              "      <th>21610</th>\n",
              "      <td>1523300141</td>\n",
              "      <td>402101.0</td>\n",
              "      <td>2</td>\n",
              "      <td>0.75</td>\n",
              "      <td>1020</td>\n",
              "      <td>1350</td>\n",
              "      <td>2.0</td>\n",
              "      <td>0</td>\n",
              "      <td>0</td>\n",
              "      <td>3</td>\n",
              "      <td>7</td>\n",
              "      <td>1020</td>\n",
              "      <td>0</td>\n",
              "      <td>2009</td>\n",
              "      <td>0</td>\n",
              "      <td>98144</td>\n",
              "      <td>47.5944</td>\n",
              "      <td>-122.299</td>\n",
              "      <td>1020</td>\n",
              "      <td>2007</td>\n",
              "    </tr>\n",
              "    <tr>\n",
              "      <th>21611</th>\n",
              "      <td>291310100</td>\n",
              "      <td>400000.0</td>\n",
              "      <td>3</td>\n",
              "      <td>2.50</td>\n",
              "      <td>1600</td>\n",
              "      <td>2388</td>\n",
              "      <td>2.0</td>\n",
              "      <td>0</td>\n",
              "      <td>0</td>\n",
              "      <td>3</td>\n",
              "      <td>8</td>\n",
              "      <td>1600</td>\n",
              "      <td>0</td>\n",
              "      <td>2004</td>\n",
              "      <td>0</td>\n",
              "      <td>98027</td>\n",
              "      <td>47.5345</td>\n",
              "      <td>-122.069</td>\n",
              "      <td>1410</td>\n",
              "      <td>1287</td>\n",
              "    </tr>\n",
              "    <tr>\n",
              "      <th>21612</th>\n",
              "      <td>1523300157</td>\n",
              "      <td>325000.0</td>\n",
              "      <td>2</td>\n",
              "      <td>0.75</td>\n",
              "      <td>1020</td>\n",
              "      <td>1076</td>\n",
              "      <td>2.0</td>\n",
              "      <td>0</td>\n",
              "      <td>0</td>\n",
              "      <td>3</td>\n",
              "      <td>7</td>\n",
              "      <td>1020</td>\n",
              "      <td>0</td>\n",
              "      <td>2008</td>\n",
              "      <td>0</td>\n",
              "      <td>98144</td>\n",
              "      <td>47.5941</td>\n",
              "      <td>-122.299</td>\n",
              "      <td>1020</td>\n",
              "      <td>1357</td>\n",
              "    </tr>\n",
              "  </tbody>\n",
              "</table>\n",
              "</div>\n",
              "      <button class=\"colab-df-convert\" onclick=\"convertToInteractive('df-58a3841a-034e-42bc-8fa4-a60420cc8a02')\"\n",
              "              title=\"Convert this dataframe to an interactive table.\"\n",
              "              style=\"display:none;\">\n",
              "        \n",
              "  <svg xmlns=\"http://www.w3.org/2000/svg\" height=\"24px\"viewBox=\"0 0 24 24\"\n",
              "       width=\"24px\">\n",
              "    <path d=\"M0 0h24v24H0V0z\" fill=\"none\"/>\n",
              "    <path d=\"M18.56 5.44l.94 2.06.94-2.06 2.06-.94-2.06-.94-.94-2.06-.94 2.06-2.06.94zm-11 1L8.5 8.5l.94-2.06 2.06-.94-2.06-.94L8.5 2.5l-.94 2.06-2.06.94zm10 10l.94 2.06.94-2.06 2.06-.94-2.06-.94-.94-2.06-.94 2.06-2.06.94z\"/><path d=\"M17.41 7.96l-1.37-1.37c-.4-.4-.92-.59-1.43-.59-.52 0-1.04.2-1.43.59L10.3 9.45l-7.72 7.72c-.78.78-.78 2.05 0 2.83L4 21.41c.39.39.9.59 1.41.59.51 0 1.02-.2 1.41-.59l7.78-7.78 2.81-2.81c.8-.78.8-2.07 0-2.86zM5.41 20L4 18.59l7.72-7.72 1.47 1.35L5.41 20z\"/>\n",
              "  </svg>\n",
              "      </button>\n",
              "      \n",
              "  <style>\n",
              "    .colab-df-container {\n",
              "      display:flex;\n",
              "      flex-wrap:wrap;\n",
              "      gap: 12px;\n",
              "    }\n",
              "\n",
              "    .colab-df-convert {\n",
              "      background-color: #E8F0FE;\n",
              "      border: none;\n",
              "      border-radius: 50%;\n",
              "      cursor: pointer;\n",
              "      display: none;\n",
              "      fill: #1967D2;\n",
              "      height: 32px;\n",
              "      padding: 0 0 0 0;\n",
              "      width: 32px;\n",
              "    }\n",
              "\n",
              "    .colab-df-convert:hover {\n",
              "      background-color: #E2EBFA;\n",
              "      box-shadow: 0px 1px 2px rgba(60, 64, 67, 0.3), 0px 1px 3px 1px rgba(60, 64, 67, 0.15);\n",
              "      fill: #174EA6;\n",
              "    }\n",
              "\n",
              "    [theme=dark] .colab-df-convert {\n",
              "      background-color: #3B4455;\n",
              "      fill: #D2E3FC;\n",
              "    }\n",
              "\n",
              "    [theme=dark] .colab-df-convert:hover {\n",
              "      background-color: #434B5C;\n",
              "      box-shadow: 0px 1px 3px 1px rgba(0, 0, 0, 0.15);\n",
              "      filter: drop-shadow(0px 1px 2px rgba(0, 0, 0, 0.3));\n",
              "      fill: #FFFFFF;\n",
              "    }\n",
              "  </style>\n",
              "\n",
              "      <script>\n",
              "        const buttonEl =\n",
              "          document.querySelector('#df-58a3841a-034e-42bc-8fa4-a60420cc8a02 button.colab-df-convert');\n",
              "        buttonEl.style.display =\n",
              "          google.colab.kernel.accessAllowed ? 'block' : 'none';\n",
              "\n",
              "        async function convertToInteractive(key) {\n",
              "          const element = document.querySelector('#df-58a3841a-034e-42bc-8fa4-a60420cc8a02');\n",
              "          const dataTable =\n",
              "            await google.colab.kernel.invokeFunction('convertToInteractive',\n",
              "                                                     [key], {});\n",
              "          if (!dataTable) return;\n",
              "\n",
              "          const docLinkHtml = 'Like what you see? Visit the ' +\n",
              "            '<a target=\"_blank\" href=https://colab.research.google.com/notebooks/data_table.ipynb>data table notebook</a>'\n",
              "            + ' to learn more about interactive tables.';\n",
              "          element.innerHTML = '';\n",
              "          dataTable['output_type'] = 'display_data';\n",
              "          await google.colab.output.renderOutput(dataTable, element);\n",
              "          const docLink = document.createElement('div');\n",
              "          docLink.innerHTML = docLinkHtml;\n",
              "          element.appendChild(docLink);\n",
              "        }\n",
              "      </script>\n",
              "    </div>\n",
              "  </div>\n",
              "  "
            ]
          },
          "metadata": {},
          "execution_count": 4
        }
      ],
      "source": [
        "#previewing the last five entries\n",
        "house.tail(5)"
      ]
    },
    {
      "cell_type": "code",
      "execution_count": 5,
      "metadata": {
        "colab": {
          "base_uri": "https://localhost:8080/"
        },
        "id": "ApsJvP2uYZgp",
        "outputId": "b097dc0b-f422-4ce3-baae-cc99d13d9936"
      },
      "outputs": [
        {
          "output_type": "execute_result",
          "data": {
            "text/plain": [
              "(21613, 20)"
            ]
          },
          "metadata": {},
          "execution_count": 5
        }
      ],
      "source": [
        "#Shape of the dataset\n",
        "house.shape"
      ]
    },
    {
      "cell_type": "markdown",
      "metadata": {
        "id": "MmYbwsTXd6NH"
      },
      "source": [
        "house dataset has 21613 rows and 20 columns"
      ]
    },
    {
      "cell_type": "code",
      "execution_count": 6,
      "metadata": {
        "id": "dj31p-Jr4rjM"
      },
      "outputs": [],
      "source": [
        "#Dropping the ID since it has little significance in the analysis\n",
        "house=house.drop(columns=['id','zipcode'])\n"
      ]
    },
    {
      "cell_type": "code",
      "execution_count": 7,
      "metadata": {
        "colab": {
          "base_uri": "https://localhost:8080/"
        },
        "id": "WqnIT2n5YgFI",
        "outputId": "0011ed8d-3ba8-4468-d82f-404271d634d6"
      },
      "outputs": [
        {
          "output_type": "execute_result",
          "data": {
            "text/plain": [
              "Index(['price', 'bedrooms', 'bathrooms', 'sqft_living', 'sqft_lot', 'floors',\n",
              "       'waterfront', 'view', 'condition', 'grade', 'sqft_above',\n",
              "       'sqft_basement', 'yr_built', 'yr_renovated', 'lat', 'long',\n",
              "       'sqft_living15', 'sqft_lot15'],\n",
              "      dtype='object')"
            ]
          },
          "metadata": {},
          "execution_count": 7
        }
      ],
      "source": [
        "#columns in the dataset\n",
        "house.columns"
      ]
    },
    {
      "cell_type": "code",
      "execution_count": 8,
      "metadata": {
        "colab": {
          "base_uri": "https://localhost:8080/"
        },
        "id": "Myr1RhnDa-D9",
        "outputId": "97f1ca0b-d233-4147-f6b4-2a6867d5c4f3"
      },
      "outputs": [
        {
          "output_type": "execute_result",
          "data": {
            "text/plain": [
              "array([ 3,  2,  4,  5,  1,  6,  7,  0,  8,  9, 11, 10, 33])"
            ]
          },
          "metadata": {},
          "execution_count": 8
        }
      ],
      "source": [
        "#price column\n",
        "house['bedrooms'].unique()"
      ]
    },
    {
      "cell_type": "code",
      "execution_count": 9,
      "metadata": {
        "colab": {
          "base_uri": "https://localhost:8080/"
        },
        "id": "5jGPlbP5YmmQ",
        "outputId": "5ec26a99-e364-4e97-958b-8834e4e242ca"
      },
      "outputs": [
        {
          "output_type": "stream",
          "name": "stdout",
          "text": [
            "<class 'pandas.core.frame.DataFrame'>\n",
            "RangeIndex: 21613 entries, 0 to 21612\n",
            "Data columns (total 18 columns):\n",
            " #   Column         Non-Null Count  Dtype  \n",
            "---  ------         --------------  -----  \n",
            " 0   price          21613 non-null  float64\n",
            " 1   bedrooms       21613 non-null  int64  \n",
            " 2   bathrooms      21613 non-null  float64\n",
            " 3   sqft_living    21613 non-null  int64  \n",
            " 4   sqft_lot       21613 non-null  int64  \n",
            " 5   floors         21613 non-null  float64\n",
            " 6   waterfront     21613 non-null  int64  \n",
            " 7   view           21613 non-null  int64  \n",
            " 8   condition      21613 non-null  int64  \n",
            " 9   grade          21613 non-null  int64  \n",
            " 10  sqft_above     21613 non-null  int64  \n",
            " 11  sqft_basement  21613 non-null  int64  \n",
            " 12  yr_built       21613 non-null  int64  \n",
            " 13  yr_renovated   21613 non-null  int64  \n",
            " 14  lat            21613 non-null  float64\n",
            " 15  long           21613 non-null  float64\n",
            " 16  sqft_living15  21613 non-null  int64  \n",
            " 17  sqft_lot15     21613 non-null  int64  \n",
            "dtypes: float64(5), int64(13)\n",
            "memory usage: 3.0 MB\n"
          ]
        }
      ],
      "source": [
        "#information of the dataset\n",
        "house.info()"
      ]
    },
    {
      "cell_type": "markdown",
      "metadata": {
        "id": "MyDPY_ybeDz_"
      },
      "source": [
        "house dataset has all numeric variable and it does nit have categorical variables. The data typee of the variables are integers and float"
      ]
    },
    {
      "cell_type": "code",
      "execution_count": 10,
      "metadata": {
        "colab": {
          "base_uri": "https://localhost:8080/",
          "height": 364
        },
        "id": "2V_OHkAMYvuX",
        "outputId": "a5accf74-a036-4ffb-83d1-a698b539c954"
      },
      "outputs": [
        {
          "output_type": "execute_result",
          "data": {
            "text/plain": [
              "              price      bedrooms     bathrooms   sqft_living      sqft_lot  \\\n",
              "count  2.161300e+04  21613.000000  21613.000000  21613.000000  2.161300e+04   \n",
              "mean   5.401822e+05      3.370842      2.114757   2079.899736  1.510697e+04   \n",
              "std    3.673622e+05      0.930062      0.770163    918.440897  4.142051e+04   \n",
              "min    7.500000e+04      0.000000      0.000000    290.000000  5.200000e+02   \n",
              "25%    3.219500e+05      3.000000      1.750000   1427.000000  5.040000e+03   \n",
              "50%    4.500000e+05      3.000000      2.250000   1910.000000  7.618000e+03   \n",
              "75%    6.450000e+05      4.000000      2.500000   2550.000000  1.068800e+04   \n",
              "max    7.700000e+06     33.000000      8.000000  13540.000000  1.651359e+06   \n",
              "\n",
              "             floors    waterfront          view     condition         grade  \\\n",
              "count  21613.000000  21613.000000  21613.000000  21613.000000  21613.000000   \n",
              "mean       1.494309      0.007542      0.234303      3.409430      7.656873   \n",
              "std        0.539989      0.086517      0.766318      0.650743      1.175459   \n",
              "min        1.000000      0.000000      0.000000      1.000000      1.000000   \n",
              "25%        1.000000      0.000000      0.000000      3.000000      7.000000   \n",
              "50%        1.500000      0.000000      0.000000      3.000000      7.000000   \n",
              "75%        2.000000      0.000000      0.000000      4.000000      8.000000   \n",
              "max        3.500000      1.000000      4.000000      5.000000     13.000000   \n",
              "\n",
              "         sqft_above  sqft_basement      yr_built  yr_renovated           lat  \\\n",
              "count  21613.000000   21613.000000  21613.000000  21613.000000  21613.000000   \n",
              "mean    1788.390691     291.509045   1971.005136     84.402258     47.560053   \n",
              "std      828.090978     442.575043     29.373411    401.679240      0.138564   \n",
              "min      290.000000       0.000000   1900.000000      0.000000     47.155900   \n",
              "25%     1190.000000       0.000000   1951.000000      0.000000     47.471000   \n",
              "50%     1560.000000       0.000000   1975.000000      0.000000     47.571800   \n",
              "75%     2210.000000     560.000000   1997.000000      0.000000     47.678000   \n",
              "max     9410.000000    4820.000000   2015.000000   2015.000000     47.777600   \n",
              "\n",
              "               long  sqft_living15     sqft_lot15  \n",
              "count  21613.000000   21613.000000   21613.000000  \n",
              "mean    -122.213896    1986.552492   12768.455652  \n",
              "std        0.140828     685.391304   27304.179631  \n",
              "min     -122.519000     399.000000     651.000000  \n",
              "25%     -122.328000    1490.000000    5100.000000  \n",
              "50%     -122.230000    1840.000000    7620.000000  \n",
              "75%     -122.125000    2360.000000   10083.000000  \n",
              "max     -121.315000    6210.000000  871200.000000  "
            ],
            "text/html": [
              "\n",
              "  <div id=\"df-51659c76-6d81-4846-98ee-fcf96e31b9e6\">\n",
              "    <div class=\"colab-df-container\">\n",
              "      <div>\n",
              "<style scoped>\n",
              "    .dataframe tbody tr th:only-of-type {\n",
              "        vertical-align: middle;\n",
              "    }\n",
              "\n",
              "    .dataframe tbody tr th {\n",
              "        vertical-align: top;\n",
              "    }\n",
              "\n",
              "    .dataframe thead th {\n",
              "        text-align: right;\n",
              "    }\n",
              "</style>\n",
              "<table border=\"1\" class=\"dataframe\">\n",
              "  <thead>\n",
              "    <tr style=\"text-align: right;\">\n",
              "      <th></th>\n",
              "      <th>price</th>\n",
              "      <th>bedrooms</th>\n",
              "      <th>bathrooms</th>\n",
              "      <th>sqft_living</th>\n",
              "      <th>sqft_lot</th>\n",
              "      <th>floors</th>\n",
              "      <th>waterfront</th>\n",
              "      <th>view</th>\n",
              "      <th>condition</th>\n",
              "      <th>grade</th>\n",
              "      <th>sqft_above</th>\n",
              "      <th>sqft_basement</th>\n",
              "      <th>yr_built</th>\n",
              "      <th>yr_renovated</th>\n",
              "      <th>lat</th>\n",
              "      <th>long</th>\n",
              "      <th>sqft_living15</th>\n",
              "      <th>sqft_lot15</th>\n",
              "    </tr>\n",
              "  </thead>\n",
              "  <tbody>\n",
              "    <tr>\n",
              "      <th>count</th>\n",
              "      <td>2.161300e+04</td>\n",
              "      <td>21613.000000</td>\n",
              "      <td>21613.000000</td>\n",
              "      <td>21613.000000</td>\n",
              "      <td>2.161300e+04</td>\n",
              "      <td>21613.000000</td>\n",
              "      <td>21613.000000</td>\n",
              "      <td>21613.000000</td>\n",
              "      <td>21613.000000</td>\n",
              "      <td>21613.000000</td>\n",
              "      <td>21613.000000</td>\n",
              "      <td>21613.000000</td>\n",
              "      <td>21613.000000</td>\n",
              "      <td>21613.000000</td>\n",
              "      <td>21613.000000</td>\n",
              "      <td>21613.000000</td>\n",
              "      <td>21613.000000</td>\n",
              "      <td>21613.000000</td>\n",
              "    </tr>\n",
              "    <tr>\n",
              "      <th>mean</th>\n",
              "      <td>5.401822e+05</td>\n",
              "      <td>3.370842</td>\n",
              "      <td>2.114757</td>\n",
              "      <td>2079.899736</td>\n",
              "      <td>1.510697e+04</td>\n",
              "      <td>1.494309</td>\n",
              "      <td>0.007542</td>\n",
              "      <td>0.234303</td>\n",
              "      <td>3.409430</td>\n",
              "      <td>7.656873</td>\n",
              "      <td>1788.390691</td>\n",
              "      <td>291.509045</td>\n",
              "      <td>1971.005136</td>\n",
              "      <td>84.402258</td>\n",
              "      <td>47.560053</td>\n",
              "      <td>-122.213896</td>\n",
              "      <td>1986.552492</td>\n",
              "      <td>12768.455652</td>\n",
              "    </tr>\n",
              "    <tr>\n",
              "      <th>std</th>\n",
              "      <td>3.673622e+05</td>\n",
              "      <td>0.930062</td>\n",
              "      <td>0.770163</td>\n",
              "      <td>918.440897</td>\n",
              "      <td>4.142051e+04</td>\n",
              "      <td>0.539989</td>\n",
              "      <td>0.086517</td>\n",
              "      <td>0.766318</td>\n",
              "      <td>0.650743</td>\n",
              "      <td>1.175459</td>\n",
              "      <td>828.090978</td>\n",
              "      <td>442.575043</td>\n",
              "      <td>29.373411</td>\n",
              "      <td>401.679240</td>\n",
              "      <td>0.138564</td>\n",
              "      <td>0.140828</td>\n",
              "      <td>685.391304</td>\n",
              "      <td>27304.179631</td>\n",
              "    </tr>\n",
              "    <tr>\n",
              "      <th>min</th>\n",
              "      <td>7.500000e+04</td>\n",
              "      <td>0.000000</td>\n",
              "      <td>0.000000</td>\n",
              "      <td>290.000000</td>\n",
              "      <td>5.200000e+02</td>\n",
              "      <td>1.000000</td>\n",
              "      <td>0.000000</td>\n",
              "      <td>0.000000</td>\n",
              "      <td>1.000000</td>\n",
              "      <td>1.000000</td>\n",
              "      <td>290.000000</td>\n",
              "      <td>0.000000</td>\n",
              "      <td>1900.000000</td>\n",
              "      <td>0.000000</td>\n",
              "      <td>47.155900</td>\n",
              "      <td>-122.519000</td>\n",
              "      <td>399.000000</td>\n",
              "      <td>651.000000</td>\n",
              "    </tr>\n",
              "    <tr>\n",
              "      <th>25%</th>\n",
              "      <td>3.219500e+05</td>\n",
              "      <td>3.000000</td>\n",
              "      <td>1.750000</td>\n",
              "      <td>1427.000000</td>\n",
              "      <td>5.040000e+03</td>\n",
              "      <td>1.000000</td>\n",
              "      <td>0.000000</td>\n",
              "      <td>0.000000</td>\n",
              "      <td>3.000000</td>\n",
              "      <td>7.000000</td>\n",
              "      <td>1190.000000</td>\n",
              "      <td>0.000000</td>\n",
              "      <td>1951.000000</td>\n",
              "      <td>0.000000</td>\n",
              "      <td>47.471000</td>\n",
              "      <td>-122.328000</td>\n",
              "      <td>1490.000000</td>\n",
              "      <td>5100.000000</td>\n",
              "    </tr>\n",
              "    <tr>\n",
              "      <th>50%</th>\n",
              "      <td>4.500000e+05</td>\n",
              "      <td>3.000000</td>\n",
              "      <td>2.250000</td>\n",
              "      <td>1910.000000</td>\n",
              "      <td>7.618000e+03</td>\n",
              "      <td>1.500000</td>\n",
              "      <td>0.000000</td>\n",
              "      <td>0.000000</td>\n",
              "      <td>3.000000</td>\n",
              "      <td>7.000000</td>\n",
              "      <td>1560.000000</td>\n",
              "      <td>0.000000</td>\n",
              "      <td>1975.000000</td>\n",
              "      <td>0.000000</td>\n",
              "      <td>47.571800</td>\n",
              "      <td>-122.230000</td>\n",
              "      <td>1840.000000</td>\n",
              "      <td>7620.000000</td>\n",
              "    </tr>\n",
              "    <tr>\n",
              "      <th>75%</th>\n",
              "      <td>6.450000e+05</td>\n",
              "      <td>4.000000</td>\n",
              "      <td>2.500000</td>\n",
              "      <td>2550.000000</td>\n",
              "      <td>1.068800e+04</td>\n",
              "      <td>2.000000</td>\n",
              "      <td>0.000000</td>\n",
              "      <td>0.000000</td>\n",
              "      <td>4.000000</td>\n",
              "      <td>8.000000</td>\n",
              "      <td>2210.000000</td>\n",
              "      <td>560.000000</td>\n",
              "      <td>1997.000000</td>\n",
              "      <td>0.000000</td>\n",
              "      <td>47.678000</td>\n",
              "      <td>-122.125000</td>\n",
              "      <td>2360.000000</td>\n",
              "      <td>10083.000000</td>\n",
              "    </tr>\n",
              "    <tr>\n",
              "      <th>max</th>\n",
              "      <td>7.700000e+06</td>\n",
              "      <td>33.000000</td>\n",
              "      <td>8.000000</td>\n",
              "      <td>13540.000000</td>\n",
              "      <td>1.651359e+06</td>\n",
              "      <td>3.500000</td>\n",
              "      <td>1.000000</td>\n",
              "      <td>4.000000</td>\n",
              "      <td>5.000000</td>\n",
              "      <td>13.000000</td>\n",
              "      <td>9410.000000</td>\n",
              "      <td>4820.000000</td>\n",
              "      <td>2015.000000</td>\n",
              "      <td>2015.000000</td>\n",
              "      <td>47.777600</td>\n",
              "      <td>-121.315000</td>\n",
              "      <td>6210.000000</td>\n",
              "      <td>871200.000000</td>\n",
              "    </tr>\n",
              "  </tbody>\n",
              "</table>\n",
              "</div>\n",
              "      <button class=\"colab-df-convert\" onclick=\"convertToInteractive('df-51659c76-6d81-4846-98ee-fcf96e31b9e6')\"\n",
              "              title=\"Convert this dataframe to an interactive table.\"\n",
              "              style=\"display:none;\">\n",
              "        \n",
              "  <svg xmlns=\"http://www.w3.org/2000/svg\" height=\"24px\"viewBox=\"0 0 24 24\"\n",
              "       width=\"24px\">\n",
              "    <path d=\"M0 0h24v24H0V0z\" fill=\"none\"/>\n",
              "    <path d=\"M18.56 5.44l.94 2.06.94-2.06 2.06-.94-2.06-.94-.94-2.06-.94 2.06-2.06.94zm-11 1L8.5 8.5l.94-2.06 2.06-.94-2.06-.94L8.5 2.5l-.94 2.06-2.06.94zm10 10l.94 2.06.94-2.06 2.06-.94-2.06-.94-.94-2.06-.94 2.06-2.06.94z\"/><path d=\"M17.41 7.96l-1.37-1.37c-.4-.4-.92-.59-1.43-.59-.52 0-1.04.2-1.43.59L10.3 9.45l-7.72 7.72c-.78.78-.78 2.05 0 2.83L4 21.41c.39.39.9.59 1.41.59.51 0 1.02-.2 1.41-.59l7.78-7.78 2.81-2.81c.8-.78.8-2.07 0-2.86zM5.41 20L4 18.59l7.72-7.72 1.47 1.35L5.41 20z\"/>\n",
              "  </svg>\n",
              "      </button>\n",
              "      \n",
              "  <style>\n",
              "    .colab-df-container {\n",
              "      display:flex;\n",
              "      flex-wrap:wrap;\n",
              "      gap: 12px;\n",
              "    }\n",
              "\n",
              "    .colab-df-convert {\n",
              "      background-color: #E8F0FE;\n",
              "      border: none;\n",
              "      border-radius: 50%;\n",
              "      cursor: pointer;\n",
              "      display: none;\n",
              "      fill: #1967D2;\n",
              "      height: 32px;\n",
              "      padding: 0 0 0 0;\n",
              "      width: 32px;\n",
              "    }\n",
              "\n",
              "    .colab-df-convert:hover {\n",
              "      background-color: #E2EBFA;\n",
              "      box-shadow: 0px 1px 2px rgba(60, 64, 67, 0.3), 0px 1px 3px 1px rgba(60, 64, 67, 0.15);\n",
              "      fill: #174EA6;\n",
              "    }\n",
              "\n",
              "    [theme=dark] .colab-df-convert {\n",
              "      background-color: #3B4455;\n",
              "      fill: #D2E3FC;\n",
              "    }\n",
              "\n",
              "    [theme=dark] .colab-df-convert:hover {\n",
              "      background-color: #434B5C;\n",
              "      box-shadow: 0px 1px 3px 1px rgba(0, 0, 0, 0.15);\n",
              "      filter: drop-shadow(0px 1px 2px rgba(0, 0, 0, 0.3));\n",
              "      fill: #FFFFFF;\n",
              "    }\n",
              "  </style>\n",
              "\n",
              "      <script>\n",
              "        const buttonEl =\n",
              "          document.querySelector('#df-51659c76-6d81-4846-98ee-fcf96e31b9e6 button.colab-df-convert');\n",
              "        buttonEl.style.display =\n",
              "          google.colab.kernel.accessAllowed ? 'block' : 'none';\n",
              "\n",
              "        async function convertToInteractive(key) {\n",
              "          const element = document.querySelector('#df-51659c76-6d81-4846-98ee-fcf96e31b9e6');\n",
              "          const dataTable =\n",
              "            await google.colab.kernel.invokeFunction('convertToInteractive',\n",
              "                                                     [key], {});\n",
              "          if (!dataTable) return;\n",
              "\n",
              "          const docLinkHtml = 'Like what you see? Visit the ' +\n",
              "            '<a target=\"_blank\" href=https://colab.research.google.com/notebooks/data_table.ipynb>data table notebook</a>'\n",
              "            + ' to learn more about interactive tables.';\n",
              "          element.innerHTML = '';\n",
              "          dataTable['output_type'] = 'display_data';\n",
              "          await google.colab.output.renderOutput(dataTable, element);\n",
              "          const docLink = document.createElement('div');\n",
              "          docLink.innerHTML = docLinkHtml;\n",
              "          element.appendChild(docLink);\n",
              "        }\n",
              "      </script>\n",
              "    </div>\n",
              "  </div>\n",
              "  "
            ]
          },
          "metadata": {},
          "execution_count": 10
        }
      ],
      "source": [
        "#Description of the dataset\n",
        "house.describe()"
      ]
    },
    {
      "cell_type": "markdown",
      "metadata": {
        "id": "7hnJNG0oECD0"
      },
      "source": [
        "##4.Feature engineering"
      ]
    },
    {
      "cell_type": "markdown",
      "metadata": {
        "id": "XoU9M691GNVn"
      },
      "source": [
        "### a) Dealing with Null values"
      ]
    },
    {
      "cell_type": "code",
      "execution_count": 11,
      "metadata": {
        "colab": {
          "base_uri": "https://localhost:8080/"
        },
        "id": "fYLCK87Jdow-",
        "outputId": "33a024aa-54b0-40cb-97ee-3da8ba07aaed"
      },
      "outputs": [
        {
          "output_type": "execute_result",
          "data": {
            "text/plain": [
              "price            0\n",
              "bedrooms         0\n",
              "bathrooms        0\n",
              "sqft_living      0\n",
              "sqft_lot         0\n",
              "floors           0\n",
              "waterfront       0\n",
              "view             0\n",
              "condition        0\n",
              "grade            0\n",
              "sqft_above       0\n",
              "sqft_basement    0\n",
              "yr_built         0\n",
              "yr_renovated     0\n",
              "lat              0\n",
              "long             0\n",
              "sqft_living15    0\n",
              "sqft_lot15       0\n",
              "dtype: int64"
            ]
          },
          "metadata": {},
          "execution_count": 11
        }
      ],
      "source": [
        "#checking for null values\n",
        "house.isnull().sum()"
      ]
    },
    {
      "cell_type": "markdown",
      "metadata": {
        "id": "Nq-8W9pYdyTf"
      },
      "source": [
        "there is no null values in the house dataset"
      ]
    },
    {
      "cell_type": "markdown",
      "metadata": {
        "id": "Uqx5w6LUGUAv"
      },
      "source": [
        "### b) Dealing with Duplicates"
      ]
    },
    {
      "cell_type": "code",
      "execution_count": 12,
      "metadata": {
        "colab": {
          "base_uri": "https://localhost:8080/"
        },
        "id": "5GdTwUdhiCCX",
        "outputId": "773a885c-468c-4ca0-8232-ce9bb7b3bf2a"
      },
      "outputs": [
        {
          "output_type": "execute_result",
          "data": {
            "text/plain": [
              "5"
            ]
          },
          "metadata": {},
          "execution_count": 12
        }
      ],
      "source": [
        "#checking for duplicates\n",
        "house.duplicated().sum()"
      ]
    },
    {
      "cell_type": "code",
      "execution_count": 13,
      "metadata": {
        "id": "k50nxBYtiTuP"
      },
      "outputs": [],
      "source": [
        "#Removing the duplicates\n",
        "house=house.drop_duplicates()"
      ]
    },
    {
      "cell_type": "markdown",
      "metadata": {
        "id": "0zXFv5-riYsm"
      },
      "source": [
        "Duplicates have been removed since they are only 3 and they will not have great impact on the analysis"
      ]
    },
    {
      "cell_type": "markdown",
      "metadata": {
        "id": "XlMAF7diGcGu"
      },
      "source": [
        "###c) Dealing with Outliers"
      ]
    },
    {
      "cell_type": "code",
      "execution_count": 14,
      "metadata": {
        "colab": {
          "base_uri": "https://localhost:8080/",
          "height": 1000
        },
        "id": "i9UWZkmEkNEr",
        "outputId": "619188c9-e5fc-410b-c18b-2f7a5d1ea842"
      },
      "outputs": [
        {
          "output_type": "display_data",
          "data": {
            "text/plain": [
              "<Figure size 720x3600 with 18 Axes>"
            ],
            "image/png": "[encoded data removed]"
          },
          "metadata": {
            "needs_background": "light"
          }
        }
      ],
      "source": [
        "# Checking for Outliers\n",
        "col_names = ['price', 'bedrooms', 'bathrooms', 'sqft_living', 'sqft_lot',\n",
        "       'floors', 'waterfront', 'view', 'condition', 'grade', 'sqft_above',\n",
        "       'sqft_basement', 'yr_built', 'yr_renovated', 'lat', 'long',\n",
        "       'sqft_living15', 'sqft_lot15']\n",
        "\n",
        "fig, ax = plt.subplots(len(col_names), figsize=(10,50))\n",
        "\n",
        "for i, col_val in enumerate(col_names):\n",
        "\n",
        "    sns.boxplot(y=house[col_val], ax=ax[i])\n",
        "    ax[i].set_title('Box plot - '+col_val, fontsize=10)\n",
        "    ax[i].set_xlabel(col_val, fontsize=8)\n",
        "    \n",
        "plt.show()"
      ]
    },
    {
      "cell_type": "markdown",
      "metadata": {
        "id": "RHLjdE2ZvE9e"
      },
      "source": [
        "The dataset suffers alot from outliers will not be removed since quantile regression will be performed"
      ]
    },
    {
      "cell_type": "markdown",
      "metadata": {
        "id": "rsQsuljCRoOP"
      },
      "source": [
        "###d) dealing with Anomalies"
      ]
    },
    {
      "cell_type": "code",
      "execution_count": 15,
      "metadata": {
        "colab": {
          "base_uri": "https://localhost:8080/"
        },
        "id": "fkCvQhj0Rn04",
        "outputId": "700df0af-152d-4c41-d177-a67a1b429caa"
      },
      "outputs": [
        {
          "output_type": "execute_result",
          "data": {
            "text/plain": [
              "0       20695\n",
              "2014       91\n",
              "2013       37\n",
              "2003       36\n",
              "2005       35\n",
              "        ...  \n",
              "1951        1\n",
              "1959        1\n",
              "1948        1\n",
              "1954        1\n",
              "1944        1\n",
              "Name: yr_renovated, Length: 70, dtype: int64"
            ]
          },
          "metadata": {},
          "execution_count": 15
        }
      ],
      "source": [
        "#the column that has anomalies\n",
        "house['yr_renovated'].value_counts()"
      ]
    },
    {
      "cell_type": "markdown",
      "metadata": {
        "id": "NlWJ5OQtS0I1"
      },
      "source": [
        "20695 records has 0 as year. This means that that there are some houses were sold without being renovated and hence these rows will not be dropped."
      ]
    },
    {
      "cell_type": "markdown",
      "metadata": {
        "id": "7b8qQRjrGo02"
      },
      "source": [
        "### d) Multicolinearity"
      ]
    },
    {
      "cell_type": "code",
      "execution_count": 16,
      "metadata": {
        "colab": {
          "base_uri": "https://localhost:8080/",
          "height": 677
        },
        "id": "vp24xGu1vOof",
        "outputId": "0417ba1f-802d-4dd6-a20c-338cb6709f4b"
      },
      "outputs": [
        {
          "output_type": "execute_result",
          "data": {
            "text/plain": [
              "                  price  bedrooms  bathrooms  sqft_living  sqft_lot    floors  \\\n",
              "price          1.000000  0.308314   0.525143     0.702044  0.089647  0.256885   \n",
              "bedrooms       0.308314  1.000000   0.515956     0.576640  0.031671  0.175608   \n",
              "bathrooms      0.525143  0.515956   1.000000     0.754717  0.087751  0.500754   \n",
              "sqft_living    0.702044  0.576640   0.754717     1.000000  0.172809  0.354181   \n",
              "sqft_lot       0.089647  0.031671   0.087751     0.172809  1.000000 -0.005113   \n",
              "floors         0.256885  0.175608   0.500754     0.354181 -0.005113  1.000000   \n",
              "waterfront     0.266332 -0.006591   0.063747     0.103817  0.021598  0.023731   \n",
              "view           0.397462  0.079411   0.187892     0.284627  0.074744  0.029383   \n",
              "condition      0.036375  0.028370  -0.124941    -0.058825 -0.008988 -0.263728   \n",
              "grade          0.667570  0.357143   0.665029     0.762893  0.113688  0.458074   \n",
              "sqft_above     0.605557  0.477569   0.685376     0.876593  0.183508  0.524117   \n",
              "sqft_basement  0.323860  0.303093   0.283824     0.435061  0.015263 -0.245646   \n",
              "yr_built       0.054032  0.154410   0.506038     0.318253  0.053154  0.489244   \n",
              "yr_renovated   0.126498  0.018678   0.050880     0.055299  0.007671  0.006193   \n",
              "lat            0.306917 -0.008970   0.024587     0.052514 -0.085683  0.049595   \n",
              "long           0.021531  0.129395   0.223065     0.240150  0.229530  0.125592   \n",
              "sqft_living15  0.585373  0.391571   0.568692     0.756398  0.144596  0.280080   \n",
              "sqft_lot15     0.082443  0.029197   0.087192     0.183258  0.718552 -0.011180   \n",
              "\n",
              "               waterfront      view  condition     grade  sqft_above  \\\n",
              "price            0.266332  0.397462   0.036375  0.667570    0.605557   \n",
              "bedrooms        -0.006591  0.079411   0.028370  0.357143    0.477569   \n",
              "bathrooms        0.063747  0.187892  -0.124941  0.665029    0.685376   \n",
              "sqft_living      0.103817  0.284627  -0.058825  0.762893    0.876593   \n",
              "sqft_lot         0.021598  0.074744  -0.008988  0.113688    0.183508   \n",
              "floors           0.023731  0.029383  -0.263728  0.458074    0.524117   \n",
              "waterfront       1.000000  0.401992   0.016648  0.082799    0.072076   \n",
              "view             0.401992  1.000000   0.045819  0.251426    0.167642   \n",
              "condition        0.016648  0.045819   1.000000 -0.144599   -0.158273   \n",
              "grade            0.082799  0.251426  -0.144599  1.000000    0.756090   \n",
              "sqft_above       0.072076  0.167642  -0.158273  0.756090    1.000000   \n",
              "sqft_basement    0.080584  0.276993   0.174061  0.168483   -0.051932   \n",
              "yr_built        -0.026150 -0.053196  -0.361306  0.446887    0.424084   \n",
              "yr_renovated     0.092949  0.103203  -0.060875  0.014396    0.023217   \n",
              "lat             -0.014272  0.006047  -0.014975  0.114100   -0.000837   \n",
              "long            -0.041916 -0.078598  -0.106590  0.198496    0.343739   \n",
              "sqft_living15    0.086466  0.280391  -0.092920  0.713396    0.731846   \n",
              "sqft_lot15       0.030698  0.072566  -0.003449  0.119319    0.194035   \n",
              "\n",
              "               sqft_basement  yr_built  yr_renovated       lat      long  \\\n",
              "price               0.323860  0.054032      0.126498  0.306917  0.021531   \n",
              "bedrooms            0.303093  0.154410      0.018678 -0.008970  0.129395   \n",
              "bathrooms           0.283824  0.506038      0.050880  0.024587  0.223065   \n",
              "sqft_living         0.435061  0.318253      0.055299  0.052514  0.240150   \n",
              "sqft_lot            0.015263  0.053154      0.007671 -0.085683  0.229530   \n",
              "floors             -0.245646  0.489244      0.006193  0.049595  0.125592   \n",
              "waterfront          0.080584 -0.026150      0.092949 -0.014272 -0.041916   \n",
              "view                0.276993 -0.053196      0.103203  0.006047 -0.078598   \n",
              "condition           0.174061 -0.361306     -0.060875 -0.014975 -0.106590   \n",
              "grade               0.168483  0.446887      0.014396  0.114100  0.198496   \n",
              "sqft_above         -0.051932  0.424084      0.023217 -0.000837  0.343739   \n",
              "sqft_basement       1.000000 -0.133038      0.071315  0.110543 -0.144789   \n",
              "yr_built           -0.133038  1.000000     -0.224722 -0.148106  0.409606   \n",
              "yr_renovated        0.071315 -0.224722      1.000000  0.029270 -0.068622   \n",
              "lat                 0.110543 -0.148106      0.029270  1.000000 -0.135557   \n",
              "long               -0.144789  0.409606     -0.068622 -0.135557  1.000000   \n",
              "sqft_living15       0.200367  0.326468     -0.002861  0.048829  0.334525   \n",
              "sqft_lot15          0.017250  0.071059      0.007828 -0.086426  0.254448   \n",
              "\n",
              "               sqft_living15  sqft_lot15  \n",
              "price               0.585373    0.082443  \n",
              "bedrooms            0.391571    0.029197  \n",
              "bathrooms           0.568692    0.087192  \n",
              "sqft_living         0.756398    0.183258  \n",
              "sqft_lot            0.144596    0.718552  \n",
              "floors              0.280080   -0.011180  \n",
              "waterfront          0.086466    0.030698  \n",
              "view                0.280391    0.072566  \n",
              "condition          -0.092920   -0.003449  \n",
              "grade               0.713396    0.119319  \n",
              "sqft_above          0.731846    0.194035  \n",
              "sqft_basement       0.200367    0.017250  \n",
              "yr_built            0.326468    0.071059  \n",
              "yr_renovated       -0.002861    0.007828  \n",
              "lat                 0.048829   -0.086426  \n",
              "long                0.334525    0.254448  \n",
              "sqft_living15       1.000000    0.183165  \n",
              "sqft_lot15          0.183165    1.000000  "
            ],
            "text/html": [
              "\n",
              "  <div id=\"df-0c3bdc96-2374-41d7-8868-0c655ebb3ed9\">\n",
              "    <div class=\"colab-df-container\">\n",
              "      <div>\n",
              "<style scoped>\n",
              "    .dataframe tbody tr th:only-of-type {\n",
              "        vertical-align: middle;\n",
              "    }\n",
              "\n",
              "    .dataframe tbody tr th {\n",
              "        vertical-align: top;\n",
              "    }\n",
              "\n",
              "    .dataframe thead th {\n",
              "        text-align: right;\n",
              "    }\n",
              "</style>\n",
              "<table border=\"1\" class=\"dataframe\">\n",
              "  <thead>\n",
              "    <tr style=\"text-align: right;\">\n",
              "      <th></th>\n",
              "      <th>price</th>\n",
              "      <th>bedrooms</th>\n",
              "      <th>bathrooms</th>\n",
              "      <th>sqft_living</th>\n",
              "      <th>sqft_lot</th>\n",
              "      <th>floors</th>\n",
              "      <th>waterfront</th>\n",
              "      <th>view</th>\n",
              "      <th>condition</th>\n",
              "      <th>grade</th>\n",
              "      <th>sqft_above</th>\n",
              "      <th>sqft_basement</th>\n",
              "      <th>yr_built</th>\n",
              "      <th>yr_renovated</th>\n",
              "      <th>lat</th>\n",
              "      <th>long</th>\n",
              "      <th>sqft_living15</th>\n",
              "      <th>sqft_lot15</th>\n",
              "    </tr>\n",
              "  </thead>\n",
              "  <tbody>\n",
              "    <tr>\n",
              "      <th>price</th>\n",
              "      <td>1.000000</td>\n",
              "      <td>0.308314</td>\n",
              "      <td>0.525143</td>\n",
              "      <td>0.702044</td>\n",
              "      <td>0.089647</td>\n",
              "      <td>0.256885</td>\n",
              "      <td>0.266332</td>\n",
              "      <td>0.397462</td>\n",
              "      <td>0.036375</td>\n",
              "      <td>0.667570</td>\n",
              "      <td>0.605557</td>\n",
              "      <td>0.323860</td>\n",
              "      <td>0.054032</td>\n",
              "      <td>0.126498</td>\n",
              "      <td>0.306917</td>\n",
              "      <td>0.021531</td>\n",
              "      <td>0.585373</td>\n",
              "      <td>0.082443</td>\n",
              "    </tr>\n",
              "    <tr>\n",
              "      <th>bedrooms</th>\n",
              "      <td>0.308314</td>\n",
              "      <td>1.000000</td>\n",
              "      <td>0.515956</td>\n",
              "      <td>0.576640</td>\n",
              "      <td>0.031671</td>\n",
              "      <td>0.175608</td>\n",
              "      <td>-0.006591</td>\n",
              "      <td>0.079411</td>\n",
              "      <td>0.028370</td>\n",
              "      <td>0.357143</td>\n",
              "      <td>0.477569</td>\n",
              "      <td>0.303093</td>\n",
              "      <td>0.154410</td>\n",
              "      <td>0.018678</td>\n",
              "      <td>-0.008970</td>\n",
              "      <td>0.129395</td>\n",
              "      <td>0.391571</td>\n",
              "      <td>0.029197</td>\n",
              "    </tr>\n",
              "    <tr>\n",
              "      <th>bathrooms</th>\n",
              "      <td>0.525143</td>\n",
              "      <td>0.515956</td>\n",
              "      <td>1.000000</td>\n",
              "      <td>0.754717</td>\n",
              "      <td>0.087751</td>\n",
              "      <td>0.500754</td>\n",
              "      <td>0.063747</td>\n",
              "      <td>0.187892</td>\n",
              "      <td>-0.124941</td>\n",
              "      <td>0.665029</td>\n",
              "      <td>0.685376</td>\n",
              "      <td>0.283824</td>\n",
              "      <td>0.506038</td>\n",
              "      <td>0.050880</td>\n",
              "      <td>0.024587</td>\n",
              "      <td>0.223065</td>\n",
              "      <td>0.568692</td>\n",
              "      <td>0.087192</td>\n",
              "    </tr>\n",
              "    <tr>\n",
              "      <th>sqft_living</th>\n",
              "      <td>0.702044</td>\n",
              "      <td>0.576640</td>\n",
              "      <td>0.754717</td>\n",
              "      <td>1.000000</td>\n",
              "      <td>0.172809</td>\n",
              "      <td>0.354181</td>\n",
              "      <td>0.103817</td>\n",
              "      <td>0.284627</td>\n",
              "      <td>-0.058825</td>\n",
              "      <td>0.762893</td>\n",
              "      <td>0.876593</td>\n",
              "      <td>0.435061</td>\n",
              "      <td>0.318253</td>\n",
              "      <td>0.055299</td>\n",
              "      <td>0.052514</td>\n",
              "      <td>0.240150</td>\n",
              "      <td>0.756398</td>\n",
              "      <td>0.183258</td>\n",
              "    </tr>\n",
              "    <tr>\n",
              "      <th>sqft_lot</th>\n",
              "      <td>0.089647</td>\n",
              "      <td>0.031671</td>\n",
              "      <td>0.087751</td>\n",
              "      <td>0.172809</td>\n",
              "      <td>1.000000</td>\n",
              "      <td>-0.005113</td>\n",
              "      <td>0.021598</td>\n",
              "      <td>0.074744</td>\n",
              "      <td>-0.008988</td>\n",
              "      <td>0.113688</td>\n",
              "      <td>0.183508</td>\n",
              "      <td>0.015263</td>\n",
              "      <td>0.053154</td>\n",
              "      <td>0.007671</td>\n",
              "      <td>-0.085683</td>\n",
              "      <td>0.229530</td>\n",
              "      <td>0.144596</td>\n",
              "      <td>0.718552</td>\n",
              "    </tr>\n",
              "    <tr>\n",
              "      <th>floors</th>\n",
              "      <td>0.256885</td>\n",
              "      <td>0.175608</td>\n",
              "      <td>0.500754</td>\n",
              "      <td>0.354181</td>\n",
              "      <td>-0.005113</td>\n",
              "      <td>1.000000</td>\n",
              "      <td>0.023731</td>\n",
              "      <td>0.029383</td>\n",
              "      <td>-0.263728</td>\n",
              "      <td>0.458074</td>\n",
              "      <td>0.524117</td>\n",
              "      <td>-0.245646</td>\n",
              "      <td>0.489244</td>\n",
              "      <td>0.006193</td>\n",
              "      <td>0.049595</td>\n",
              "      <td>0.125592</td>\n",
              "      <td>0.280080</td>\n",
              "      <td>-0.011180</td>\n",
              "    </tr>\n",
              "    <tr>\n",
              "      <th>waterfront</th>\n",
              "      <td>0.266332</td>\n",
              "      <td>-0.006591</td>\n",
              "      <td>0.063747</td>\n",
              "      <td>0.103817</td>\n",
              "      <td>0.021598</td>\n",
              "      <td>0.023731</td>\n",
              "      <td>1.000000</td>\n",
              "      <td>0.401992</td>\n",
              "      <td>0.016648</td>\n",
              "      <td>0.082799</td>\n",
              "      <td>0.072076</td>\n",
              "      <td>0.080584</td>\n",
              "      <td>-0.026150</td>\n",
              "      <td>0.092949</td>\n",
              "      <td>-0.014272</td>\n",
              "      <td>-0.041916</td>\n",
              "      <td>0.086466</td>\n",
              "      <td>0.030698</td>\n",
              "    </tr>\n",
              "    <tr>\n",
              "      <th>view</th>\n",
              "      <td>0.397462</td>\n",
              "      <td>0.079411</td>\n",
              "      <td>0.187892</td>\n",
              "      <td>0.284627</td>\n",
              "      <td>0.074744</td>\n",
              "      <td>0.029383</td>\n",
              "      <td>0.401992</td>\n",
              "      <td>1.000000</td>\n",
              "      <td>0.045819</td>\n",
              "      <td>0.251426</td>\n",
              "      <td>0.167642</td>\n",
              "      <td>0.276993</td>\n",
              "      <td>-0.053196</td>\n",
              "      <td>0.103203</td>\n",
              "      <td>0.006047</td>\n",
              "      <td>-0.078598</td>\n",
              "      <td>0.280391</td>\n",
              "      <td>0.072566</td>\n",
              "    </tr>\n",
              "    <tr>\n",
              "      <th>condition</th>\n",
              "      <td>0.036375</td>\n",
              "      <td>0.028370</td>\n",
              "      <td>-0.124941</td>\n",
              "      <td>-0.058825</td>\n",
              "      <td>-0.008988</td>\n",
              "      <td>-0.263728</td>\n",
              "      <td>0.016648</td>\n",
              "      <td>0.045819</td>\n",
              "      <td>1.000000</td>\n",
              "      <td>-0.144599</td>\n",
              "      <td>-0.158273</td>\n",
              "      <td>0.174061</td>\n",
              "      <td>-0.361306</td>\n",
              "      <td>-0.060875</td>\n",
              "      <td>-0.014975</td>\n",
              "      <td>-0.106590</td>\n",
              "      <td>-0.092920</td>\n",
              "      <td>-0.003449</td>\n",
              "    </tr>\n",
              "    <tr>\n",
              "      <th>grade</th>\n",
              "      <td>0.667570</td>\n",
              "      <td>0.357143</td>\n",
              "      <td>0.665029</td>\n",
              "      <td>0.762893</td>\n",
              "      <td>0.113688</td>\n",
              "      <td>0.458074</td>\n",
              "      <td>0.082799</td>\n",
              "      <td>0.251426</td>\n",
              "      <td>-0.144599</td>\n",
              "      <td>1.000000</td>\n",
              "      <td>0.756090</td>\n",
              "      <td>0.168483</td>\n",
              "      <td>0.446887</td>\n",
              "      <td>0.014396</td>\n",
              "      <td>0.114100</td>\n",
              "      <td>0.198496</td>\n",
              "      <td>0.713396</td>\n",
              "      <td>0.119319</td>\n",
              "    </tr>\n",
              "    <tr>\n",
              "      <th>sqft_above</th>\n",
              "      <td>0.605557</td>\n",
              "      <td>0.477569</td>\n",
              "      <td>0.685376</td>\n",
              "      <td>0.876593</td>\n",
              "      <td>0.183508</td>\n",
              "      <td>0.524117</td>\n",
              "      <td>0.072076</td>\n",
              "      <td>0.167642</td>\n",
              "      <td>-0.158273</td>\n",
              "      <td>0.756090</td>\n",
              "      <td>1.000000</td>\n",
              "      <td>-0.051932</td>\n",
              "      <td>0.424084</td>\n",
              "      <td>0.023217</td>\n",
              "      <td>-0.000837</td>\n",
              "      <td>0.343739</td>\n",
              "      <td>0.731846</td>\n",
              "      <td>0.194035</td>\n",
              "    </tr>\n",
              "    <tr>\n",
              "      <th>sqft_basement</th>\n",
              "      <td>0.323860</td>\n",
              "      <td>0.303093</td>\n",
              "      <td>0.283824</td>\n",
              "      <td>0.435061</td>\n",
              "      <td>0.015263</td>\n",
              "      <td>-0.245646</td>\n",
              "      <td>0.080584</td>\n",
              "      <td>0.276993</td>\n",
              "      <td>0.174061</td>\n",
              "      <td>0.168483</td>\n",
              "      <td>-0.051932</td>\n",
              "      <td>1.000000</td>\n",
              "      <td>-0.133038</td>\n",
              "      <td>0.071315</td>\n",
              "      <td>0.110543</td>\n",
              "      <td>-0.144789</td>\n",
              "      <td>0.200367</td>\n",
              "      <td>0.017250</td>\n",
              "    </tr>\n",
              "    <tr>\n",
              "      <th>yr_built</th>\n",
              "      <td>0.054032</td>\n",
              "      <td>0.154410</td>\n",
              "      <td>0.506038</td>\n",
              "      <td>0.318253</td>\n",
              "      <td>0.053154</td>\n",
              "      <td>0.489244</td>\n",
              "      <td>-0.026150</td>\n",
              "      <td>-0.053196</td>\n",
              "      <td>-0.361306</td>\n",
              "      <td>0.446887</td>\n",
              "      <td>0.424084</td>\n",
              "      <td>-0.133038</td>\n",
              "      <td>1.000000</td>\n",
              "      <td>-0.224722</td>\n",
              "      <td>-0.148106</td>\n",
              "      <td>0.409606</td>\n",
              "      <td>0.326468</td>\n",
              "      <td>0.071059</td>\n",
              "    </tr>\n",
              "    <tr>\n",
              "      <th>yr_renovated</th>\n",
              "      <td>0.126498</td>\n",
              "      <td>0.018678</td>\n",
              "      <td>0.050880</td>\n",
              "      <td>0.055299</td>\n",
              "      <td>0.007671</td>\n",
              "      <td>0.006193</td>\n",
              "      <td>0.092949</td>\n",
              "      <td>0.103203</td>\n",
              "      <td>-0.060875</td>\n",
              "      <td>0.014396</td>\n",
              "      <td>0.023217</td>\n",
              "      <td>0.071315</td>\n",
              "      <td>-0.224722</td>\n",
              "      <td>1.000000</td>\n",
              "      <td>0.029270</td>\n",
              "      <td>-0.068622</td>\n",
              "      <td>-0.002861</td>\n",
              "      <td>0.007828</td>\n",
              "    </tr>\n",
              "    <tr>\n",
              "      <th>lat</th>\n",
              "      <td>0.306917</td>\n",
              "      <td>-0.008970</td>\n",
              "      <td>0.024587</td>\n",
              "      <td>0.052514</td>\n",
              "      <td>-0.085683</td>\n",
              "      <td>0.049595</td>\n",
              "      <td>-0.014272</td>\n",
              "      <td>0.006047</td>\n",
              "      <td>-0.014975</td>\n",
              "      <td>0.114100</td>\n",
              "      <td>-0.000837</td>\n",
              "      <td>0.110543</td>\n",
              "      <td>-0.148106</td>\n",
              "      <td>0.029270</td>\n",
              "      <td>1.000000</td>\n",
              "      <td>-0.135557</td>\n",
              "      <td>0.048829</td>\n",
              "      <td>-0.086426</td>\n",
              "    </tr>\n",
              "    <tr>\n",
              "      <th>long</th>\n",
              "      <td>0.021531</td>\n",
              "      <td>0.129395</td>\n",
              "      <td>0.223065</td>\n",
              "      <td>0.240150</td>\n",
              "      <td>0.229530</td>\n",
              "      <td>0.125592</td>\n",
              "      <td>-0.041916</td>\n",
              "      <td>-0.078598</td>\n",
              "      <td>-0.106590</td>\n",
              "      <td>0.198496</td>\n",
              "      <td>0.343739</td>\n",
              "      <td>-0.144789</td>\n",
              "      <td>0.409606</td>\n",
              "      <td>-0.068622</td>\n",
              "      <td>-0.135557</td>\n",
              "      <td>1.000000</td>\n",
              "      <td>0.334525</td>\n",
              "      <td>0.254448</td>\n",
              "    </tr>\n",
              "    <tr>\n",
              "      <th>sqft_living15</th>\n",
              "      <td>0.585373</td>\n",
              "      <td>0.391571</td>\n",
              "      <td>0.568692</td>\n",
              "      <td>0.756398</td>\n",
              "      <td>0.144596</td>\n",
              "      <td>0.280080</td>\n",
              "      <td>0.086466</td>\n",
              "      <td>0.280391</td>\n",
              "      <td>-0.092920</td>\n",
              "      <td>0.713396</td>\n",
              "      <td>0.731846</td>\n",
              "      <td>0.200367</td>\n",
              "      <td>0.326468</td>\n",
              "      <td>-0.002861</td>\n",
              "      <td>0.048829</td>\n",
              "      <td>0.334525</td>\n",
              "      <td>1.000000</td>\n",
              "      <td>0.183165</td>\n",
              "    </tr>\n",
              "    <tr>\n",
              "      <th>sqft_lot15</th>\n",
              "      <td>0.082443</td>\n",
              "      <td>0.029197</td>\n",
              "      <td>0.087192</td>\n",
              "      <td>0.183258</td>\n",
              "      <td>0.718552</td>\n",
              "      <td>-0.011180</td>\n",
              "      <td>0.030698</td>\n",
              "      <td>0.072566</td>\n",
              "      <td>-0.003449</td>\n",
              "      <td>0.119319</td>\n",
              "      <td>0.194035</td>\n",
              "      <td>0.017250</td>\n",
              "      <td>0.071059</td>\n",
              "      <td>0.007828</td>\n",
              "      <td>-0.086426</td>\n",
              "      <td>0.254448</td>\n",
              "      <td>0.183165</td>\n",
              "      <td>1.000000</td>\n",
              "    </tr>\n",
              "  </tbody>\n",
              "</table>\n",
              "</div>\n",
              "      <button class=\"colab-df-convert\" onclick=\"convertToInteractive('df-0c3bdc96-2374-41d7-8868-0c655ebb3ed9')\"\n",
              "              title=\"Convert this dataframe to an interactive table.\"\n",
              "              style=\"display:none;\">\n",
              "        \n",
              "  <svg xmlns=\"http://www.w3.org/2000/svg\" height=\"24px\"viewBox=\"0 0 24 24\"\n",
              "       width=\"24px\">\n",
              "    <path d=\"M0 0h24v24H0V0z\" fill=\"none\"/>\n",
              "    <path d=\"M18.56 5.44l.94 2.06.94-2.06 2.06-.94-2.06-.94-.94-2.06-.94 2.06-2.06.94zm-11 1L8.5 8.5l.94-2.06 2.06-.94-2.06-.94L8.5 2.5l-.94 2.06-2.06.94zm10 10l.94 2.06.94-2.06 2.06-.94-2.06-.94-.94-2.06-.94 2.06-2.06.94z\"/><path d=\"M17.41 7.96l-1.37-1.37c-.4-.4-.92-.59-1.43-.59-.52 0-1.04.2-1.43.59L10.3 9.45l-7.72 7.72c-.78.78-.78 2.05 0 2.83L4 21.41c.39.39.9.59 1.41.59.51 0 1.02-.2 1.41-.59l7.78-7.78 2.81-2.81c.8-.78.8-2.07 0-2.86zM5.41 20L4 18.59l7.72-7.72 1.47 1.35L5.41 20z\"/>\n",
              "  </svg>\n",
              "      </button>\n",
              "      \n",
              "  <style>\n",
              "    .colab-df-container {\n",
              "      display:flex;\n",
              "      flex-wrap:wrap;\n",
              "      gap: 12px;\n",
              "    }\n",
              "\n",
              "    .colab-df-convert {\n",
              "      background-color: #E8F0FE;\n",
              "      border: none;\n",
              "      border-radius: 50%;\n",
              "      cursor: pointer;\n",
              "      display: none;\n",
              "      fill: #1967D2;\n",
              "      height: 32px;\n",
              "      padding: 0 0 0 0;\n",
              "      width: 32px;\n",
              "    }\n",
              "\n",
              "    .colab-df-convert:hover {\n",
              "      background-color: #E2EBFA;\n",
              "      box-shadow: 0px 1px 2px rgba(60, 64, 67, 0.3), 0px 1px 3px 1px rgba(60, 64, 67, 0.15);\n",
              "      fill: #174EA6;\n",
              "    }\n",
              "\n",
              "    [theme=dark] .colab-df-convert {\n",
              "      background-color: #3B4455;\n",
              "      fill: #D2E3FC;\n",
              "    }\n",
              "\n",
              "    [theme=dark] .colab-df-convert:hover {\n",
              "      background-color: #434B5C;\n",
              "      box-shadow: 0px 1px 3px 1px rgba(0, 0, 0, 0.15);\n",
              "      filter: drop-shadow(0px 1px 2px rgba(0, 0, 0, 0.3));\n",
              "      fill: #FFFFFF;\n",
              "    }\n",
              "  </style>\n",
              "\n",
              "      <script>\n",
              "        const buttonEl =\n",
              "          document.querySelector('#df-0c3bdc96-2374-41d7-8868-0c655ebb3ed9 button.colab-df-convert');\n",
              "        buttonEl.style.display =\n",
              "          google.colab.kernel.accessAllowed ? 'block' : 'none';\n",
              "\n",
              "        async function convertToInteractive(key) {\n",
              "          const element = document.querySelector('#df-0c3bdc96-2374-41d7-8868-0c655ebb3ed9');\n",
              "          const dataTable =\n",
              "            await google.colab.kernel.invokeFunction('convertToInteractive',\n",
              "                                                     [key], {});\n",
              "          if (!dataTable) return;\n",
              "\n",
              "          const docLinkHtml = 'Like what you see? Visit the ' +\n",
              "            '<a target=\"_blank\" href=https://colab.research.google.com/notebooks/data_table.ipynb>data table notebook</a>'\n",
              "            + ' to learn more about interactive tables.';\n",
              "          element.innerHTML = '';\n",
              "          dataTable['output_type'] = 'display_data';\n",
              "          await google.colab.output.renderOutput(dataTable, element);\n",
              "          const docLink = document.createElement('div');\n",
              "          docLink.innerHTML = docLinkHtml;\n",
              "          element.appendChild(docLink);\n",
              "        }\n",
              "      </script>\n",
              "    </div>\n",
              "  </div>\n",
              "  "
            ]
          },
          "metadata": {},
          "execution_count": 16
        }
      ],
      "source": [
        "#Checking for correlation\n",
        "correlation = house.corr()\n",
        "correlation"
      ]
    },
    {
      "cell_type": "code",
      "execution_count": 17,
      "metadata": {
        "colab": {
          "base_uri": "https://localhost:8080/",
          "height": 677
        },
        "id": "fpP9Nj6ovfZ_",
        "outputId": "8f712f0f-e699-481b-f2b0-8bafbb9a6448"
      },
      "outputs": [
        {
          "output_type": "execute_result",
          "data": {
            "text/plain": [
              "                price  bedrooms  bathrooms           sqft_living  sqft_lot  \\\n",
              "price           3.284     0.284     -0.290               -20.291    -0.047   \n",
              "bedrooms        0.284     1.673     -0.489                 0.692     0.045   \n",
              "bathrooms      -0.290    -0.489      3.376                23.476    -0.020   \n",
              "sqft_living   -19.942     1.038     23.626  1337499971677819.500    -4.997   \n",
              "sqft_lot       -0.047     0.045     -0.020                -5.059     2.103   \n",
              "floors         -0.004     0.058     -0.671                 1.901     0.045   \n",
              "waterfront     -0.454     0.023      0.050                 4.891     0.034   \n",
              "view           -0.340     0.092     -0.009                -2.171    -0.054   \n",
              "condition      -0.181    -0.074     -0.125                -0.427     0.033   \n",
              "grade          -1.023     0.214     -0.180                33.679    -0.039   \n",
              "sqft_above     16.651    -1.922    -22.455 -1205913740984560.250     4.325   \n",
              "sqft_basement   9.029    -1.031    -12.411  -644518829470314.375     2.374   \n",
              "yr_built        0.645     0.178     -0.999               -16.993     0.090   \n",
              "yr_renovated   -0.078     0.037     -0.254                -2.996     0.022   \n",
              "lat            -0.695     0.006      0.028                 0.147     0.063   \n",
              "long            0.147    -0.005      0.022                 6.640    -0.134   \n",
              "sqft_living15  -0.168     0.001      0.102                -7.261     0.167   \n",
              "sqft_lot15      0.096     0.094      0.063                 5.807    -1.461   \n",
              "\n",
              "               floors  waterfront   view  condition   grade  \\\n",
              "price          -0.004      -0.454 -0.340     -0.181  -1.023   \n",
              "bedrooms        0.058       0.023  0.092     -0.074   0.214   \n",
              "bathrooms      -0.671       0.050 -0.009     -0.125  -0.180   \n",
              "sqft_living     2.153       4.898 -2.354     -0.408  33.267   \n",
              "sqft_lot        0.045       0.034 -0.054      0.033  -0.039   \n",
              "floors          1.994      -0.003 -0.054      0.107  -0.220   \n",
              "waterfront     -0.003       1.267 -0.444      0.010   0.190   \n",
              "view           -0.054      -0.444  1.459      0.011  -0.073   \n",
              "condition       0.107       0.010  0.011      1.244  -0.006   \n",
              "grade          -0.220       0.190 -0.073     -0.006   3.733   \n",
              "sqft_above     -2.453      -4.343  2.293      0.504 -31.188   \n",
              "sqft_basement  -0.430      -2.283  0.931      0.139 -16.332   \n",
              "yr_built       -0.455      -0.114  0.107      0.501  -0.852   \n",
              "yr_renovated   -0.076      -0.056 -0.028      0.208  -0.049   \n",
              "lat            -0.158       0.110  0.164      0.132  -0.099   \n",
              "long            0.239      -0.003  0.119     -0.086   0.311   \n",
              "sqft_living15   0.294       0.075 -0.290      0.065  -0.870   \n",
              "sqft_lot15      0.071      -0.032 -0.019     -0.032   0.043   \n",
              "\n",
              "                         sqft_above        sqft_basement  yr_built  \\\n",
              "price                        16.819                9.057     0.645   \n",
              "bedrooms                     -1.565               -0.903     0.178   \n",
              "bathrooms                   -22.302              -12.432    -0.999   \n",
              "sqft_living   -1205913740984562.250 -644518829470314.750   -16.789   \n",
              "sqft_lot                      4.389                2.410     0.090   \n",
              "floors                       -2.190               -0.273    -0.455   \n",
              "waterfront                   -4.336               -2.278    -0.114   \n",
              "view                          2.120                0.836     0.107   \n",
              "condition                     0.516                0.144     0.501   \n",
              "grade                       -31.555              -16.517    -0.852   \n",
              "sqft_above     1087273257188288.625  581109629338191.500    15.407   \n",
              "sqft_basement   581109629338192.000  310582826421061.875     8.234   \n",
              "yr_built                     15.591                8.333     2.517   \n",
              "yr_renovated                  2.733                1.445     0.513   \n",
              "lat                           0.316               -0.044     0.221   \n",
              "long                         -6.354               -3.042    -0.590   \n",
              "sqft_living15                 5.089                3.068     0.012   \n",
              "sqft_lot15                   -5.451               -2.875    -0.012   \n",
              "\n",
              "               yr_renovated    lat   long  sqft_living15  sqft_lot15  \n",
              "price                -0.078 -0.695  0.147         -0.168       0.096  \n",
              "bedrooms              0.037  0.006 -0.005          0.001       0.094  \n",
              "bathrooms            -0.254  0.028  0.022          0.102       0.063  \n",
              "sqft_living          -2.909  0.040  6.398         -5.331       5.751  \n",
              "sqft_lot              0.022  0.063 -0.134          0.167      -1.461  \n",
              "floors               -0.076 -0.158  0.239          0.294       0.071  \n",
              "waterfront           -0.056  0.110 -0.003          0.075      -0.032  \n",
              "view                 -0.028  0.164  0.119         -0.290      -0.019  \n",
              "condition             0.208  0.132 -0.086          0.065      -0.032  \n",
              "grade                -0.049 -0.099  0.311         -0.870       0.043  \n",
              "sqft_above            2.655  0.413 -6.136          3.349      -5.401  \n",
              "sqft_basement         1.403  0.007 -2.925          2.138      -2.849  \n",
              "yr_built              0.513  0.221 -0.590          0.012      -0.012  \n",
              "yr_renovated          1.152  0.069 -0.074          0.099      -0.024  \n",
              "lat                   0.069  1.271  0.004         -0.020       0.013  \n",
              "long                 -0.074  0.004  1.508         -0.455      -0.150  \n",
              "sqft_living15         0.099 -0.020 -0.455          2.962      -0.129  \n",
              "sqft_lot15           -0.024  0.013 -0.150         -0.129       2.138  "
            ],
            "text/html": [
              "\n",
              "  <div id=\"df-59e70e1c-0dab-4b5e-abc9-930db9054353\">\n",
              "    <div class=\"colab-df-container\">\n",
              "      <div>\n",
              "<style scoped>\n",
              "    .dataframe tbody tr th:only-of-type {\n",
              "        vertical-align: middle;\n",
              "    }\n",
              "\n",
              "    .dataframe tbody tr th {\n",
              "        vertical-align: top;\n",
              "    }\n",
              "\n",
              "    .dataframe thead th {\n",
              "        text-align: right;\n",
              "    }\n",
              "</style>\n",
              "<table border=\"1\" class=\"dataframe\">\n",
              "  <thead>\n",
              "    <tr style=\"text-align: right;\">\n",
              "      <th></th>\n",
              "      <th>price</th>\n",
              "      <th>bedrooms</th>\n",
              "      <th>bathrooms</th>\n",
              "      <th>sqft_living</th>\n",
              "      <th>sqft_lot</th>\n",
              "      <th>floors</th>\n",
              "      <th>waterfront</th>\n",
              "      <th>view</th>\n",
              "      <th>condition</th>\n",
              "      <th>grade</th>\n",
              "      <th>sqft_above</th>\n",
              "      <th>sqft_basement</th>\n",
              "      <th>yr_built</th>\n",
              "      <th>yr_renovated</th>\n",
              "      <th>lat</th>\n",
              "      <th>long</th>\n",
              "      <th>sqft_living15</th>\n",
              "      <th>sqft_lot15</th>\n",
              "    </tr>\n",
              "  </thead>\n",
              "  <tbody>\n",
              "    <tr>\n",
              "      <th>price</th>\n",
              "      <td>3.284</td>\n",
              "      <td>0.284</td>\n",
              "      <td>-0.290</td>\n",
              "      <td>-20.291</td>\n",
              "      <td>-0.047</td>\n",
              "      <td>-0.004</td>\n",
              "      <td>-0.454</td>\n",
              "      <td>-0.340</td>\n",
              "      <td>-0.181</td>\n",
              "      <td>-1.023</td>\n",
              "      <td>16.819</td>\n",
              "      <td>9.057</td>\n",
              "      <td>0.645</td>\n",
              "      <td>-0.078</td>\n",
              "      <td>-0.695</td>\n",
              "      <td>0.147</td>\n",
              "      <td>-0.168</td>\n",
              "      <td>0.096</td>\n",
              "    </tr>\n",
              "    <tr>\n",
              "      <th>bedrooms</th>\n",
              "      <td>0.284</td>\n",
              "      <td>1.673</td>\n",
              "      <td>-0.489</td>\n",
              "      <td>0.692</td>\n",
              "      <td>0.045</td>\n",
              "      <td>0.058</td>\n",
              "      <td>0.023</td>\n",
              "      <td>0.092</td>\n",
              "      <td>-0.074</td>\n",
              "      <td>0.214</td>\n",
              "      <td>-1.565</td>\n",
              "      <td>-0.903</td>\n",
              "      <td>0.178</td>\n",
              "      <td>0.037</td>\n",
              "      <td>0.006</td>\n",
              "      <td>-0.005</td>\n",
              "      <td>0.001</td>\n",
              "      <td>0.094</td>\n",
              "    </tr>\n",
              "    <tr>\n",
              "      <th>bathrooms</th>\n",
              "      <td>-0.290</td>\n",
              "      <td>-0.489</td>\n",
              "      <td>3.376</td>\n",
              "      <td>23.476</td>\n",
              "      <td>-0.020</td>\n",
              "      <td>-0.671</td>\n",
              "      <td>0.050</td>\n",
              "      <td>-0.009</td>\n",
              "      <td>-0.125</td>\n",
              "      <td>-0.180</td>\n",
              "      <td>-22.302</td>\n",
              "      <td>-12.432</td>\n",
              "      <td>-0.999</td>\n",
              "      <td>-0.254</td>\n",
              "      <td>0.028</td>\n",
              "      <td>0.022</td>\n",
              "      <td>0.102</td>\n",
              "      <td>0.063</td>\n",
              "    </tr>\n",
              "    <tr>\n",
              "      <th>sqft_living</th>\n",
              "      <td>-19.942</td>\n",
              "      <td>1.038</td>\n",
              "      <td>23.626</td>\n",
              "      <td>1337499971677819.500</td>\n",
              "      <td>-4.997</td>\n",
              "      <td>2.153</td>\n",
              "      <td>4.898</td>\n",
              "      <td>-2.354</td>\n",
              "      <td>-0.408</td>\n",
              "      <td>33.267</td>\n",
              "      <td>-1205913740984562.250</td>\n",
              "      <td>-644518829470314.750</td>\n",
              "      <td>-16.789</td>\n",
              "      <td>-2.909</td>\n",
              "      <td>0.040</td>\n",
              "      <td>6.398</td>\n",
              "      <td>-5.331</td>\n",
              "      <td>5.751</td>\n",
              "    </tr>\n",
              "    <tr>\n",
              "      <th>sqft_lot</th>\n",
              "      <td>-0.047</td>\n",
              "      <td>0.045</td>\n",
              "      <td>-0.020</td>\n",
              "      <td>-5.059</td>\n",
              "      <td>2.103</td>\n",
              "      <td>0.045</td>\n",
              "      <td>0.034</td>\n",
              "      <td>-0.054</td>\n",
              "      <td>0.033</td>\n",
              "      <td>-0.039</td>\n",
              "      <td>4.389</td>\n",
              "      <td>2.410</td>\n",
              "      <td>0.090</td>\n",
              "      <td>0.022</td>\n",
              "      <td>0.063</td>\n",
              "      <td>-0.134</td>\n",
              "      <td>0.167</td>\n",
              "      <td>-1.461</td>\n",
              "    </tr>\n",
              "    <tr>\n",
              "      <th>floors</th>\n",
              "      <td>-0.004</td>\n",
              "      <td>0.058</td>\n",
              "      <td>-0.671</td>\n",
              "      <td>1.901</td>\n",
              "      <td>0.045</td>\n",
              "      <td>1.994</td>\n",
              "      <td>-0.003</td>\n",
              "      <td>-0.054</td>\n",
              "      <td>0.107</td>\n",
              "      <td>-0.220</td>\n",
              "      <td>-2.190</td>\n",
              "      <td>-0.273</td>\n",
              "      <td>-0.455</td>\n",
              "      <td>-0.076</td>\n",
              "      <td>-0.158</td>\n",
              "      <td>0.239</td>\n",
              "      <td>0.294</td>\n",
              "      <td>0.071</td>\n",
              "    </tr>\n",
              "    <tr>\n",
              "      <th>waterfront</th>\n",
              "      <td>-0.454</td>\n",
              "      <td>0.023</td>\n",
              "      <td>0.050</td>\n",
              "      <td>4.891</td>\n",
              "      <td>0.034</td>\n",
              "      <td>-0.003</td>\n",
              "      <td>1.267</td>\n",
              "      <td>-0.444</td>\n",
              "      <td>0.010</td>\n",
              "      <td>0.190</td>\n",
              "      <td>-4.336</td>\n",
              "      <td>-2.278</td>\n",
              "      <td>-0.114</td>\n",
              "      <td>-0.056</td>\n",
              "      <td>0.110</td>\n",
              "      <td>-0.003</td>\n",
              "      <td>0.075</td>\n",
              "      <td>-0.032</td>\n",
              "    </tr>\n",
              "    <tr>\n",
              "      <th>view</th>\n",
              "      <td>-0.340</td>\n",
              "      <td>0.092</td>\n",
              "      <td>-0.009</td>\n",
              "      <td>-2.171</td>\n",
              "      <td>-0.054</td>\n",
              "      <td>-0.054</td>\n",
              "      <td>-0.444</td>\n",
              "      <td>1.459</td>\n",
              "      <td>0.011</td>\n",
              "      <td>-0.073</td>\n",
              "      <td>2.120</td>\n",
              "      <td>0.836</td>\n",
              "      <td>0.107</td>\n",
              "      <td>-0.028</td>\n",
              "      <td>0.164</td>\n",
              "      <td>0.119</td>\n",
              "      <td>-0.290</td>\n",
              "      <td>-0.019</td>\n",
              "    </tr>\n",
              "    <tr>\n",
              "      <th>condition</th>\n",
              "      <td>-0.181</td>\n",
              "      <td>-0.074</td>\n",
              "      <td>-0.125</td>\n",
              "      <td>-0.427</td>\n",
              "      <td>0.033</td>\n",
              "      <td>0.107</td>\n",
              "      <td>0.010</td>\n",
              "      <td>0.011</td>\n",
              "      <td>1.244</td>\n",
              "      <td>-0.006</td>\n",
              "      <td>0.516</td>\n",
              "      <td>0.144</td>\n",
              "      <td>0.501</td>\n",
              "      <td>0.208</td>\n",
              "      <td>0.132</td>\n",
              "      <td>-0.086</td>\n",
              "      <td>0.065</td>\n",
              "      <td>-0.032</td>\n",
              "    </tr>\n",
              "    <tr>\n",
              "      <th>grade</th>\n",
              "      <td>-1.023</td>\n",
              "      <td>0.214</td>\n",
              "      <td>-0.180</td>\n",
              "      <td>33.679</td>\n",
              "      <td>-0.039</td>\n",
              "      <td>-0.220</td>\n",
              "      <td>0.190</td>\n",
              "      <td>-0.073</td>\n",
              "      <td>-0.006</td>\n",
              "      <td>3.733</td>\n",
              "      <td>-31.555</td>\n",
              "      <td>-16.517</td>\n",
              "      <td>-0.852</td>\n",
              "      <td>-0.049</td>\n",
              "      <td>-0.099</td>\n",
              "      <td>0.311</td>\n",
              "      <td>-0.870</td>\n",
              "      <td>0.043</td>\n",
              "    </tr>\n",
              "    <tr>\n",
              "      <th>sqft_above</th>\n",
              "      <td>16.651</td>\n",
              "      <td>-1.922</td>\n",
              "      <td>-22.455</td>\n",
              "      <td>-1205913740984560.250</td>\n",
              "      <td>4.325</td>\n",
              "      <td>-2.453</td>\n",
              "      <td>-4.343</td>\n",
              "      <td>2.293</td>\n",
              "      <td>0.504</td>\n",
              "      <td>-31.188</td>\n",
              "      <td>1087273257188288.625</td>\n",
              "      <td>581109629338191.500</td>\n",
              "      <td>15.407</td>\n",
              "      <td>2.655</td>\n",
              "      <td>0.413</td>\n",
              "      <td>-6.136</td>\n",
              "      <td>3.349</td>\n",
              "      <td>-5.401</td>\n",
              "    </tr>\n",
              "    <tr>\n",
              "      <th>sqft_basement</th>\n",
              "      <td>9.029</td>\n",
              "      <td>-1.031</td>\n",
              "      <td>-12.411</td>\n",
              "      <td>-644518829470314.375</td>\n",
              "      <td>2.374</td>\n",
              "      <td>-0.430</td>\n",
              "      <td>-2.283</td>\n",
              "      <td>0.931</td>\n",
              "      <td>0.139</td>\n",
              "      <td>-16.332</td>\n",
              "      <td>581109629338192.000</td>\n",
              "      <td>310582826421061.875</td>\n",
              "      <td>8.234</td>\n",
              "      <td>1.403</td>\n",
              "      <td>0.007</td>\n",
              "      <td>-2.925</td>\n",
              "      <td>2.138</td>\n",
              "      <td>-2.849</td>\n",
              "    </tr>\n",
              "    <tr>\n",
              "      <th>yr_built</th>\n",
              "      <td>0.645</td>\n",
              "      <td>0.178</td>\n",
              "      <td>-0.999</td>\n",
              "      <td>-16.993</td>\n",
              "      <td>0.090</td>\n",
              "      <td>-0.455</td>\n",
              "      <td>-0.114</td>\n",
              "      <td>0.107</td>\n",
              "      <td>0.501</td>\n",
              "      <td>-0.852</td>\n",
              "      <td>15.591</td>\n",
              "      <td>8.333</td>\n",
              "      <td>2.517</td>\n",
              "      <td>0.513</td>\n",
              "      <td>0.221</td>\n",
              "      <td>-0.590</td>\n",
              "      <td>0.012</td>\n",
              "      <td>-0.012</td>\n",
              "    </tr>\n",
              "    <tr>\n",
              "      <th>yr_renovated</th>\n",
              "      <td>-0.078</td>\n",
              "      <td>0.037</td>\n",
              "      <td>-0.254</td>\n",
              "      <td>-2.996</td>\n",
              "      <td>0.022</td>\n",
              "      <td>-0.076</td>\n",
              "      <td>-0.056</td>\n",
              "      <td>-0.028</td>\n",
              "      <td>0.208</td>\n",
              "      <td>-0.049</td>\n",
              "      <td>2.733</td>\n",
              "      <td>1.445</td>\n",
              "      <td>0.513</td>\n",
              "      <td>1.152</td>\n",
              "      <td>0.069</td>\n",
              "      <td>-0.074</td>\n",
              "      <td>0.099</td>\n",
              "      <td>-0.024</td>\n",
              "    </tr>\n",
              "    <tr>\n",
              "      <th>lat</th>\n",
              "      <td>-0.695</td>\n",
              "      <td>0.006</td>\n",
              "      <td>0.028</td>\n",
              "      <td>0.147</td>\n",
              "      <td>0.063</td>\n",
              "      <td>-0.158</td>\n",
              "      <td>0.110</td>\n",
              "      <td>0.164</td>\n",
              "      <td>0.132</td>\n",
              "      <td>-0.099</td>\n",
              "      <td>0.316</td>\n",
              "      <td>-0.044</td>\n",
              "      <td>0.221</td>\n",
              "      <td>0.069</td>\n",
              "      <td>1.271</td>\n",
              "      <td>0.004</td>\n",
              "      <td>-0.020</td>\n",
              "      <td>0.013</td>\n",
              "    </tr>\n",
              "    <tr>\n",
              "      <th>long</th>\n",
              "      <td>0.147</td>\n",
              "      <td>-0.005</td>\n",
              "      <td>0.022</td>\n",
              "      <td>6.640</td>\n",
              "      <td>-0.134</td>\n",
              "      <td>0.239</td>\n",
              "      <td>-0.003</td>\n",
              "      <td>0.119</td>\n",
              "      <td>-0.086</td>\n",
              "      <td>0.311</td>\n",
              "      <td>-6.354</td>\n",
              "      <td>-3.042</td>\n",
              "      <td>-0.590</td>\n",
              "      <td>-0.074</td>\n",
              "      <td>0.004</td>\n",
              "      <td>1.508</td>\n",
              "      <td>-0.455</td>\n",
              "      <td>-0.150</td>\n",
              "    </tr>\n",
              "    <tr>\n",
              "      <th>sqft_living15</th>\n",
              "      <td>-0.168</td>\n",
              "      <td>0.001</td>\n",
              "      <td>0.102</td>\n",
              "      <td>-7.261</td>\n",
              "      <td>0.167</td>\n",
              "      <td>0.294</td>\n",
              "      <td>0.075</td>\n",
              "      <td>-0.290</td>\n",
              "      <td>0.065</td>\n",
              "      <td>-0.870</td>\n",
              "      <td>5.089</td>\n",
              "      <td>3.068</td>\n",
              "      <td>0.012</td>\n",
              "      <td>0.099</td>\n",
              "      <td>-0.020</td>\n",
              "      <td>-0.455</td>\n",
              "      <td>2.962</td>\n",
              "      <td>-0.129</td>\n",
              "    </tr>\n",
              "    <tr>\n",
              "      <th>sqft_lot15</th>\n",
              "      <td>0.096</td>\n",
              "      <td>0.094</td>\n",
              "      <td>0.063</td>\n",
              "      <td>5.807</td>\n",
              "      <td>-1.461</td>\n",
              "      <td>0.071</td>\n",
              "      <td>-0.032</td>\n",
              "      <td>-0.019</td>\n",
              "      <td>-0.032</td>\n",
              "      <td>0.043</td>\n",
              "      <td>-5.451</td>\n",
              "      <td>-2.875</td>\n",
              "      <td>-0.012</td>\n",
              "      <td>-0.024</td>\n",
              "      <td>0.013</td>\n",
              "      <td>-0.150</td>\n",
              "      <td>-0.129</td>\n",
              "      <td>2.138</td>\n",
              "    </tr>\n",
              "  </tbody>\n",
              "</table>\n",
              "</div>\n",
              "      <button class=\"colab-df-convert\" onclick=\"convertToInteractive('df-59e70e1c-0dab-4b5e-abc9-930db9054353')\"\n",
              "              title=\"Convert this dataframe to an interactive table.\"\n",
              "              style=\"display:none;\">\n",
              "        \n",
              "  <svg xmlns=\"http://www.w3.org/2000/svg\" height=\"24px\"viewBox=\"0 0 24 24\"\n",
              "       width=\"24px\">\n",
              "    <path d=\"M0 0h24v24H0V0z\" fill=\"none\"/>\n",
              "    <path d=\"M18.56 5.44l.94 2.06.94-2.06 2.06-.94-2.06-.94-.94-2.06-.94 2.06-2.06.94zm-11 1L8.5 8.5l.94-2.06 2.06-.94-2.06-.94L8.5 2.5l-.94 2.06-2.06.94zm10 10l.94 2.06.94-2.06 2.06-.94-2.06-.94-.94-2.06-.94 2.06-2.06.94z\"/><path d=\"M17.41 7.96l-1.37-1.37c-.4-.4-.92-.59-1.43-.59-.52 0-1.04.2-1.43.59L10.3 9.45l-7.72 7.72c-.78.78-.78 2.05 0 2.83L4 21.41c.39.39.9.59 1.41.59.51 0 1.02-.2 1.41-.59l7.78-7.78 2.81-2.81c.8-.78.8-2.07 0-2.86zM5.41 20L4 18.59l7.72-7.72 1.47 1.35L5.41 20z\"/>\n",
              "  </svg>\n",
              "      </button>\n",
              "      \n",
              "  <style>\n",
              "    .colab-df-container {\n",
              "      display:flex;\n",
              "      flex-wrap:wrap;\n",
              "      gap: 12px;\n",
              "    }\n",
              "\n",
              "    .colab-df-convert {\n",
              "      background-color: #E8F0FE;\n",
              "      border: none;\n",
              "      border-radius: 50%;\n",
              "      cursor: pointer;\n",
              "      display: none;\n",
              "      fill: #1967D2;\n",
              "      height: 32px;\n",
              "      padding: 0 0 0 0;\n",
              "      width: 32px;\n",
              "    }\n",
              "\n",
              "    .colab-df-convert:hover {\n",
              "      background-color: #E2EBFA;\n",
              "      box-shadow: 0px 1px 2px rgba(60, 64, 67, 0.3), 0px 1px 3px 1px rgba(60, 64, 67, 0.15);\n",
              "      fill: #174EA6;\n",
              "    }\n",
              "\n",
              "    [theme=dark] .colab-df-convert {\n",
              "      background-color: #3B4455;\n",
              "      fill: #D2E3FC;\n",
              "    }\n",
              "\n",
              "    [theme=dark] .colab-df-convert:hover {\n",
              "      background-color: #434B5C;\n",
              "      box-shadow: 0px 1px 3px 1px rgba(0, 0, 0, 0.15);\n",
              "      filter: drop-shadow(0px 1px 2px rgba(0, 0, 0, 0.3));\n",
              "      fill: #FFFFFF;\n",
              "    }\n",
              "  </style>\n",
              "\n",
              "      <script>\n",
              "        const buttonEl =\n",
              "          document.querySelector('#df-59e70e1c-0dab-4b5e-abc9-930db9054353 button.colab-df-convert');\n",
              "        buttonEl.style.display =\n",
              "          google.colab.kernel.accessAllowed ? 'block' : 'none';\n",
              "\n",
              "        async function convertToInteractive(key) {\n",
              "          const element = document.querySelector('#df-59e70e1c-0dab-4b5e-abc9-930db9054353');\n",
              "          const dataTable =\n",
              "            await google.colab.kernel.invokeFunction('convertToInteractive',\n",
              "                                                     [key], {});\n",
              "          if (!dataTable) return;\n",
              "\n",
              "          const docLinkHtml = 'Like what you see? Visit the ' +\n",
              "            '<a target=\"_blank\" href=https://colab.research.google.com/notebooks/data_table.ipynb>data table notebook</a>'\n",
              "            + ' to learn more about interactive tables.';\n",
              "          element.innerHTML = '';\n",
              "          dataTable['output_type'] = 'display_data';\n",
              "          await google.colab.output.renderOutput(dataTable, element);\n",
              "          const docLink = document.createElement('div');\n",
              "          docLink.innerHTML = docLinkHtml;\n",
              "          element.appendChild(docLink);\n",
              "        }\n",
              "      </script>\n",
              "    </div>\n",
              "  </div>\n",
              "  "
            ]
          },
          "metadata": {},
          "execution_count": 17
        }
      ],
      "source": [
        "#Vif score\n",
        "pd.set_option('display.float_format', lambda x: '%.3f' % x)\n",
        "pd.DataFrame(np.linalg.inv(correlation.values), index = correlation.index, columns=correlation.columns)"
      ]
    },
    {
      "cell_type": "markdown",
      "metadata": {
        "id": "rkmBHean0dfs"
      },
      "source": [
        "The dataset has multicinearity and this will be solved by the use of ridge regression"
      ]
    },
    {
      "cell_type": "markdown",
      "metadata": {
        "id": "nBg7xjX_G1V-"
      },
      "source": [
        "### e) Encoding"
      ]
    },
    {
      "cell_type": "markdown",
      "metadata": {
        "id": "aS_kCqpSu1fm"
      },
      "source": [
        "there is no encoding will be performed since all tha variables are in numeric form"
      ]
    },
    {
      "cell_type": "markdown",
      "metadata": {
        "id": "iYXdM4lV3zX9"
      },
      "source": [
        "##Exploratory Data Analysis"
      ]
    },
    {
      "cell_type": "markdown",
      "metadata": {
        "id": "9ucdBBrk3-D1"
      },
      "source": [
        "### a)Univariate Analysis"
      ]
    },
    {
      "cell_type": "markdown",
      "metadata": {
        "id": "aVf1RYtF1LrC"
      },
      "source": [
        "**Viewing the unique values for each column for better visualization**"
      ]
    },
    {
      "cell_type": "code",
      "execution_count": 18,
      "metadata": {
        "colab": {
          "base_uri": "https://localhost:8080/"
        },
        "id": "sPsmXFJl7SHQ",
        "outputId": "b44b4596-e7d7-4060-e583-2c5ed14fb026"
      },
      "outputs": [
        {
          "output_type": "execute_result",
          "data": {
            "text/plain": [
              "array([0, 3, 4, 2, 1])"
            ]
          },
          "metadata": {},
          "execution_count": 18
        }
      ],
      "source": [
        "##House view\n",
        "house['view'].unique()"
      ]
    },
    {
      "cell_type": "markdown",
      "metadata": {
        "id": "S1ehN2PS1c-t"
      },
      "source": [
        "visualized using pie chart"
      ]
    },
    {
      "cell_type": "code",
      "execution_count": 19,
      "metadata": {
        "colab": {
          "base_uri": "https://localhost:8080/"
        },
        "id": "Wt2P84kA7c-P",
        "outputId": "5b02c8ff-8e66-46e7-c68f-0960a1e5647d"
      },
      "outputs": [
        {
          "output_type": "execute_result",
          "data": {
            "text/plain": [
              "array([3, 5, 4, 1, 2])"
            ]
          },
          "metadata": {},
          "execution_count": 19
        }
      ],
      "source": [
        "#house condition\n",
        "house['condition'].unique()"
      ]
    },
    {
      "cell_type": "markdown",
      "metadata": {
        "id": "GdijP-IN1tPJ"
      },
      "source": [
        "visualized using pie chart"
      ]
    },
    {
      "cell_type": "code",
      "execution_count": 20,
      "metadata": {
        "colab": {
          "base_uri": "https://localhost:8080/"
        },
        "id": "E8kkOJNU7dnH",
        "outputId": "251e22ce-cd0b-4450-95d3-2460727b0b82"
      },
      "outputs": [
        {
          "output_type": "execute_result",
          "data": {
            "text/plain": [
              "array([ 7,  6,  8, 11,  9,  5, 10, 12,  4,  3, 13,  1])"
            ]
          },
          "metadata": {},
          "execution_count": 20
        }
      ],
      "source": [
        "#House grade\n",
        "house['grade'].unique()"
      ]
    },
    {
      "cell_type": "markdown",
      "metadata": {
        "id": "L_mEtD0E1zhb"
      },
      "source": [
        "visualized using bar chart"
      ]
    },
    {
      "cell_type": "code",
      "execution_count": 21,
      "metadata": {
        "colab": {
          "base_uri": "https://localhost:8080/"
        },
        "id": "SspCKKlO7ejX",
        "outputId": "e38f0fd4-afc7-4287-c443-562fa69d71ae"
      },
      "outputs": [
        {
          "output_type": "execute_result",
          "data": {
            "text/plain": [
              "array([1. , 2. , 1.5, 3. , 2.5, 3.5])"
            ]
          },
          "metadata": {},
          "execution_count": 21
        }
      ],
      "source": [
        "#House floors\n",
        "house['floors'].unique()"
      ]
    },
    {
      "cell_type": "markdown",
      "metadata": {
        "id": "L2m2-cr318My"
      },
      "source": [
        "visualized using pie chart"
      ]
    },
    {
      "cell_type": "code",
      "execution_count": 22,
      "metadata": {
        "colab": {
          "base_uri": "https://localhost:8080/"
        },
        "id": "giWDmBsQ7xj-",
        "outputId": "1828aab4-e9ae-4f23-cbb7-3a21909d18f8"
      },
      "outputs": [
        {
          "output_type": "execute_result",
          "data": {
            "text/plain": [
              "array([0, 1])"
            ]
          },
          "metadata": {},
          "execution_count": 22
        }
      ],
      "source": [
        "#whether waterfront or not\n",
        "house['waterfront'].unique()"
      ]
    },
    {
      "cell_type": "markdown",
      "metadata": {
        "id": "x38DIZl13tuC"
      },
      "source": [
        "visualized using pie chart"
      ]
    },
    {
      "cell_type": "code",
      "execution_count": 23,
      "metadata": {
        "colab": {
          "base_uri": "https://localhost:8080/"
        },
        "id": "cPQmyW1R7wqe",
        "outputId": "a3995959-bd99-441f-bf6e-510e13bbbf0d"
      },
      "outputs": [
        {
          "output_type": "execute_result",
          "data": {
            "text/plain": [
              "array([ 5650,  7242, 10000, ...,  5813,  2388,  1076])"
            ]
          },
          "metadata": {},
          "execution_count": 23
        }
      ],
      "source": [
        "#Square feet area of packing layout\n",
        "house['sqft_lot'].unique()"
      ]
    },
    {
      "cell_type": "markdown",
      "metadata": {
        "id": "R9s9DlC_2Mu6"
      },
      "source": [
        "visualized using histograph"
      ]
    },
    {
      "cell_type": "code",
      "execution_count": 24,
      "metadata": {
        "colab": {
          "base_uri": "https://localhost:8080/"
        },
        "id": "3o5OruY09rZ7",
        "outputId": "353482b9-ec44-479a-dbaa-63beb372e582"
      },
      "outputs": [
        {
          "output_type": "execute_result",
          "data": {
            "text/plain": [
              "array([1180, 2170,  770, 1050, 1680, 3890, 1715, 1060, 1890, 1860,  860,\n",
              "       1430, 1370, 1810, 1980, 1600, 1200, 1250, 2330, 2270, 1070, 2450,\n",
              "       1710, 1750, 1400,  790, 2570, 2320, 1190, 1510, 1090, 1280,  930,\n",
              "       2360,  890, 2620, 2600, 3595, 1570,  920, 3160,  990, 2290, 2165,\n",
              "       1640, 1000, 2130, 2830, 2250, 2420, 3250, 1850, 1590, 1260, 2519,\n",
              "       1540, 1110, 1770, 2720, 2240, 3070, 2380, 2390,  880, 1040,  910,\n",
              "       3450, 2350, 1900, 1010,  960, 2660, 1610,  765, 3520, 1290, 1960,\n",
              "       1160, 1210, 1270, 1440, 2190, 2920, 1460, 1170, 1240, 3140, 2030,\n",
              "       2310,  700, 1080, 2520, 2780, 1560, 1450, 1720, 2910, 1620, 1360,\n",
              "       2070, 2460, 1390, 2140, 1320, 1340, 1550,  940, 1380, 3670, 2370,\n",
              "       1130,  980, 3540, 2500, 1760, 1030, 1780, 3400, 2680, 1670, 2590,\n",
              "        820, 1220, 2440, 2090, 1100, 1330, 1420, 1690, 2150, 1910, 1350,\n",
              "       1940,  900, 1630, 2714,  850, 1870, 1950, 2760, 2020, 1120, 1480,\n",
              "       1230, 2280, 3760, 3530,  830, 1300, 2740, 1830,  720, 2010, 3360,\n",
              "        800, 1730,  760, 1700, 4750, 5310,  580, 2653, 2850, 2210, 2630,\n",
              "       3500, 1740, 1140, 2160, 2650,  970, 2040, 2180, 2220, 1660, 3370,\n",
              "       2690, 1930, 3150, 3030, 2050, 2490, 2560, 1275, 2580,  560, 1820,\n",
              "       1840, 2990, 3230, 1580, 3480, 2510, 1410, 2120, 3300, 3840, 1500,\n",
              "       1530, 2840,  833, 2000, 6070,  950, 2200, 4040, 1920, 1490, 3470,\n",
              "       3130, 2610, 3260, 2260,  430, 3390,  630, 4860, 3860, 2810,  870,\n",
              "       3180, 2770, 4030, 4410, 2400, 1520, 3040, 6050, 4740, 1970, 5403,\n",
              "       3350, 3580, 1790,  750, 2860, 2750, 2340, 2870, 4120, 3200, 2550,\n",
              "       1805, 4150, 1384, 2060, 2110, 3590, 2100, 2540, 1880, 1150, 1470,\n",
              "       1255, 1800, 4370, 3190, 2730, 4570, 2470,  670, 2900, 4670, 4230,\n",
              "       2156, 1020, 2940, 2640, 2710, 3100, 3610, 4270,  840, 3090, 2300,\n",
              "        380, 2480, 3460, 3060, 3064, 3000, 1654, 2790, 1310, 2230, 2430,\n",
              "       3680, 2670, 2208,  810,  740, 1422,  490, 2080, 3440, 5670, 4475,\n",
              "        730, 3410, 3010,  600, 2960, 3570, 4300, 3990,  780, 3020, 5990,\n",
              "        440, 4460, 4190, 2800, 2530, 1650, 3690, 2932, 3720, 4250, 3110,\n",
              "       2963, 4930, 2950, 5000, 2452, 2820, 1981,  640, 2495, 2403, 5320,\n",
              "       6720,  660, 2341, 4210, 3830, 3280, 2980, 5153, 1990, 1646,  610,\n",
              "        710, 5450, 3504, 3210, 1782, 2930,  590, 4280,  680, 3880, 3430,\n",
              "       3750, 4130, 5710, 3380, 3330, 4700, 3220, 3362, 3510, 3810,  620,\n",
              "       4490, 2410, 3050, 1008, 3488, 4070, 3420, 5770, 1605,  520, 1088,\n",
              "       3555, 4360, 3960, 2700, 4340, 1552, 3850, 2303, 3270, 4350, 3640,\n",
              "       2174, 4160, 2496, 5180, 5130, 6350, 3770, 2153, 3780, 2890, 1714,\n",
              "       2201, 2970,  992, 3950, 3527, 2835, 3915, 1427, 4870, 3340, 3620,\n",
              "       4310, 3930, 4080, 5400,  570, 3310, 6110, 3320, 3490, 3859, 3710,\n",
              "       1798, 4600, 3560, 3940, 3600, 3800, 1105, 2305, 3290, 5050, 1556,\n",
              "       1553, 4000, 1657, 3001, 4220,  480, 3120, 3740,  530, 3700, 5230,\n",
              "       5370, 3080, 4140, 4430, 3550, 1159, 1288, 2880, 4610, 1122, 3052,\n",
              "       1479, 7680, 3820, 1934, 5080, 2675, 2506, 5760, 2154, 4390, 3240,\n",
              "       1995, 1689, 2782, 2395, 4400, 6200, 3526, 4320, 2483, 4380, 4580,\n",
              "       4180, 2064, 3650, 1726, 2019, 4240, 1256,  500, 1355, 1747, 1678,\n",
              "       1833, 1414, 4115, 3597, 3170,  390, 1976, 5830, 2601, 3920, 2641,\n",
              "       5070, 2518, 3910, 3660, 3695, 4020, 2803, 2074, 2038, 4060, 4890,\n",
              "       2329, 1264, 1095,  690, 4090, 1392, 2844,  902, 4560, 2811, 4720,\n",
              "       2168, 5610, 2683, 4900, 2095, 4290, 4050, 4260, 4440, 6220, 1175,\n",
              "        998, 2356, 4500, 3900, 3831, 1315, 4470, 4810, 2286, 2927, 4760,\n",
              "       8570, 5140, 1679, 1811, 2849, 1676, 1757, 3730, 2441, 2163, 5250,\n",
              "       2795, 2415, 3970, 4200, 1068, 5240, 1509, 1954, 4820, 1651, 4100,\n",
              "       1752, 3630, 2885, 3154, 1129, 2632, 1996, 4010,  550,  410, 6430,\n",
              "       3790, 2031, 1652, 2434, 3316, 1899, 2331, 2497, 2216, 4170, 1341,\n",
              "       1961, 5584, 8860, 2507, 5220, 4850, 5844, 5530, 2145,  650, 1982,\n",
              "       4910, 3605, 1778, 1463, 2783, 1946, 1358, 3870, 1864, 1845, 6290,\n",
              "       3980, 2382, 2979, 3674, 2726, 5440, 1295, 2115, 6085, 3265, 3136,\n",
              "       6640, 4620, 3361, 2245, 2242, 1078, 2577, 1329,  420, 4330, 1975,\n",
              "       7420, 1788, 2299, 1092, 4225, 1087, 1904,  470, 2966, 2192, 2253,\n",
              "       5550, 4133, 4285, 1216,  540, 9410, 2075, 5330, 2166, 1628, 1808,\n",
              "       1352, 2557, 6380, 7880, 2734, 1363, 1769, 2093, 1677, 2588, 5190,\n",
              "       2298, 1491, 2961, 5020, 5980, 4540,  844, 6120, 2233, 4480, 4110,\n",
              "       4770, 2473,  995, 5160, 1494, 2007, 1048, 3002, 4780, 2155, 2014,\n",
              "       4980, 2665, 4830, 4790, 5010,  370, 2105, 3006, 3004, 2689, 4660,\n",
              "       1746, 2678, 2755, 2414,  901, 4630, 2068, 2807, 2643, 2181, 4510,\n",
              "       4420, 1604, 1435, 3045, 2717, 2905, 4940, 5110, 2533, 6660, 3485,\n",
              "       2659, 5090, 2375, 1964,  866, 1595,  944, 5480,  809, 5040, 1764,\n",
              "       1656, 1802,  460, 2692, 1544, 2044, 1212, 4083, 8020, 3905, 1502,\n",
              "       4590,  384, 2092, 6090, 1615, 7320, 1396, 1484, 1765, 5490, 1453,\n",
              "       1643, 5300, 1381, 4065,  290, 1313, 5430, 1397, 2793, 2475, 1936,\n",
              "       3028,  798, 2575, 3276, 1584, 2393, 2029, 3222, 1072, 1785, 1984,\n",
              "        962, 2423, 2052, 2538, 2437, 2789, 2906, 4800, 7850, 2196, 1847,\n",
              "       2658, 2655, 3855, 1728,  963, 2223, 1611, 2015, 2448, 1489, 1116,\n",
              "       3745, 1002, 3202, 1347, 1481, 2311, 2544, 2584, 2217, 3569, 3181,\n",
              "       1921, 2612, 2671, 2598, 3284, 3266, 1076, 2594, 2718, 1794, 2481,\n",
              "       3845, 1413, 1876, 3148, 2413, 1767, 5060,  806, 2547, 1834, 2024,\n",
              "       1165, 2134, 1741, 2798, 1852, 2099, 3216, 1094, 2891, 2432, 2283,\n",
              "       2701, 1658,  893, 2009, 1444, 2744, 3078, 3065, 1578, 2815, 4960,\n",
              "       1571, 6530, 4640, 1536, 3172, 6370, 3223, 1608, 2229, 3135, 1408,\n",
              "       1763, 4840, 1232, 2502, 2424, 1296, 1914,  988, 3828, 3056, 2267,\n",
              "       1131, 2796, 1812, 1084, 2025, 1564, 1239, 2568, 1528, 2628, 2185,\n",
              "       2478, 2669, 1912, 2828, 2425, 1446, 3206, 2406, 1419, 2056, 1144,\n",
              "       2456, 4950, 3192,  828, 2529, 2732, 1987, 3906, 4073, 2578, 2738,\n",
              "       3691, 1061, 2846, 2542, 1889, 3336, 3236, 1451, 1983, 2313, 1824,\n",
              "       1322, 1766, 2301, 3274, 1108, 2864, 2716, 1572, 3281, 2656, 2398,\n",
              "       1867, 1613, 2587, 2623,  894, 1606, 2244, 2026, 2238, 2517, 2708,\n",
              "       2555, 1405, 4450, 1248, 6420, 2531, 1333, 2198, 3087, 3118, 1425])"
            ]
          },
          "metadata": {},
          "execution_count": 24
        }
      ],
      "source": [
        "#Square feet above\n",
        "house['sqft_above'].unique()"
      ]
    },
    {
      "cell_type": "markdown",
      "metadata": {
        "id": "VsY50KaL2bJ7"
      },
      "source": [
        "visualized using histograph"
      ]
    },
    {
      "cell_type": "code",
      "execution_count": 25,
      "metadata": {
        "colab": {
          "base_uri": "https://localhost:8080/"
        },
        "id": "0I2Omrt09saq",
        "outputId": "8c245eed-5659-4215-a0c1-8fff8129bb5c"
      },
      "outputs": [
        {
          "output_type": "execute_result",
          "data": {
            "text/plain": [
              "array([   0,  400,  910, 1530,  730, 1700,  300,  970,  760,  720,  700,\n",
              "        820,  780,  790,  330, 1620,  360,  588, 1510,  410,  990,  600,\n",
              "        560,  550, 1000, 1600,  500, 1040,  880, 1010,  240,  265,  290,\n",
              "        800,  540,  380,  710,  840,  770,  480,  570, 1490,  620, 1250,\n",
              "       1270,  120,  650,  180, 1130,  450, 1640, 1460, 1020, 1030,  750,\n",
              "        640, 1070,  490, 1310,  630, 2000,  390,  430,  850,  210, 1430,\n",
              "       1950,  440,  220, 1160,  860,  580, 2060, 1820, 1180,  200, 1150,\n",
              "       1200,  680,  530, 1450, 1170, 1080,  960, 1100,  280,  870,  460,\n",
              "       1400, 1320,  660, 1220,  900,  420, 1580, 1380,  475,  690,  270,\n",
              "        350,  935, 1370,  980, 1470,  160,  950,   50,  740, 1780, 1900,\n",
              "        340,  470,  370,  140, 1760,  130,  610,  520,  890, 1110,  150,\n",
              "       1720,  810,  190, 1290,  670, 1800, 1120, 1810,   60, 1050,  940,\n",
              "        310,  930, 1390, 1830, 1300,  510, 1330, 1590,  920, 1420, 1240,\n",
              "       1960, 1560, 2020, 1190, 2110, 1280,  250, 2390, 1230,  170,  830,\n",
              "       1260, 1410, 1340,  590, 1500, 1140,  260,  100,  320, 1480, 1060,\n",
              "       1284, 1670, 1350, 2570, 2590, 1090,  110, 2500,   90, 1940, 1550,\n",
              "       2350, 2490, 1481, 1360, 1135, 1520, 1850, 1660, 2130, 2600, 1690,\n",
              "        243, 1210, 2620, 1024, 1798, 1610, 1440, 1570, 1650,  704, 1910,\n",
              "       1630, 2360, 1852, 2090, 2400, 1790, 2150,  230,   70, 1680, 2100,\n",
              "       3000, 1870, 1710, 2030,  875, 1540, 2850, 2170,  506,  906,  145,\n",
              "       2040,  784, 1750,  374,  518, 2720, 2730, 1840, 3480, 2160, 1920,\n",
              "       2330, 1860, 2050, 4820, 1913,   80, 2010, 3260, 2200,  415, 1730,\n",
              "        652, 2196, 1930,  515,   40, 2080, 2580, 1548, 1740,  235,  861,\n",
              "       1890, 2220,  792, 2070, 4130, 2250, 2240,  894, 1990,  768, 2550,\n",
              "        435, 1008, 2300, 2610,  666, 3500,  172, 1816, 2190, 1245, 1525,\n",
              "       1880,  862,  946, 1281,  414, 2180,  276, 1248,  602,  516,  176,\n",
              "        225, 1275,  266,  283,   65, 2310,   10, 1770, 2120,  295,  207,\n",
              "        915,  556,  417,  143,  508, 2810,   20,  274,  248])"
            ]
          },
          "metadata": {},
          "execution_count": 25
        }
      ],
      "source": [
        "#squire feet area off basement\n",
        "house['sqft_basement'].unique()"
      ]
    },
    {
      "cell_type": "markdown",
      "metadata": {
        "id": "1zk2iLLT2lHj"
      },
      "source": [
        "visualized using histograph"
      ]
    },
    {
      "cell_type": "code",
      "execution_count": 26,
      "metadata": {
        "colab": {
          "base_uri": "https://localhost:8080/"
        },
        "id": "emOlYV-t7y1O",
        "outputId": "5e0a9c15-3c9d-4997-f4a6-8f2668596c47"
      },
      "outputs": [
        {
          "output_type": "execute_result",
          "data": {
            "text/plain": [
              "array([47.5112, 47.721 , 47.7379, ..., 47.3906, 47.3339, 47.6502])"
            ]
          },
          "metadata": {},
          "execution_count": 26
        }
      ],
      "source": [
        "#latitude\n",
        "house['lat'].unique()"
      ]
    },
    {
      "cell_type": "markdown",
      "metadata": {
        "id": "5yPFkLL12nGz"
      },
      "source": [
        "visualized using histograph"
      ]
    },
    {
      "cell_type": "code",
      "execution_count": 27,
      "metadata": {
        "colab": {
          "base_uri": "https://localhost:8080/"
        },
        "id": "VSHEroCQ9Gqk",
        "outputId": "3b8eddbc-cbd7-4847-f03a-5ac71c499ef8"
      },
      "outputs": [
        {
          "output_type": "execute_result",
          "data": {
            "text/plain": [
              "array([1340, 1690, 2720, 1360, 1800, 4760, 2238, 1650, 1780, 2390, 2210,\n",
              "       1330, 1370, 2140, 1890, 1610, 1060, 1280, 1400, 4110, 2240, 1220,\n",
              "       2200, 1030, 1760, 1860, 1520, 2630, 2580, 1390, 1460, 1570, 2020,\n",
              "       1590, 2160, 1730, 1290, 2620, 2470, 2410, 3625, 1580, 3050, 1228,\n",
              "       2680,  970, 1190, 1990, 1410, 1480, 2730, 1950, 2250, 2690, 2960,\n",
              "       2270, 2570, 2500, 1440, 2750, 2221, 1010, 3390, 3530, 1640, 1510,\n",
              "       2420, 1940, 3240, 1680,  890, 1130, 3350, 2350, 1870, 1720, 1850,\n",
              "       1900, 1980, 2520, 1350, 1750, 1160, 2550, 2370, 1240, 1270, 2990,\n",
              "       1380, 1540, 2090, 2640, 1830, 1620, 1880, 2340, 1710, 2700, 3060,\n",
              "       2660, 1700, 1970, 1420, 2060, 2480, 1550, 1170, 2820, 1560, 2230,\n",
              "       2840, 1450, 1500, 3160, 1200, 3400, 2110, 2920, 1770, 1070, 1930,\n",
              "       3740, 2260, 1670, 2290, 1050, 2540, 2190, 2030, 1230, 2330, 1300,\n",
              "       1430, 2770, 1250, 1630, 2590, 2130, 1100, 3836, 1320, 2120, 3070,\n",
              "       1910, 2080, 1960, 2280, 1150, 3430, 2070, 2600,  830, 1260, 3120,\n",
              "       2010, 1660, 1600, 2380, 3890, 4180, 2653, 2670, 3920, 2300, 2310,\n",
              "       2320, 3150, 1740, 2400, 4550, 2510, 2440, 2880, 3860, 2150, 1310,\n",
              "       1820, 3080,  880, 2560, 3470, 1020, 2040, 2610, 1810, 2860, 3480,\n",
              "       3130, 3360, 4050, 2450, 1790, 3180, 3600, 2000, 2430, 2850, 4680,\n",
              "       2360, 3930, 1490, 2460, 2077, 1920, 3630, 3220, 2100, 3230, 4300,\n",
              "       3850, 2424, 2530, 3030, 2830, 2900, 2950, 1470,  940, 2740, 4210,\n",
              "       3340, 3980, 2180, 3715, 2050, 1080, 2095, 1000, 3330, 2170, 1408,\n",
              "       1530, 2760, 3110,  950, 3000, 1307, 2220, 4190, 3440, 3250, 1110,\n",
              "       2870, 1210, 2910, 1120, 4230, 1708, 3090, 3270, 2970, 1180, 3100,\n",
              "       4100, 2930, 3510, 2688, 1840, 2490, 4090, 2810, 3260, 3680, 3420,\n",
              "       1654, 1365,  980, 1677, 1140, 3640, 3460, 3140, 1502, 3720, 2790,\n",
              "       2940,  990, 2890,  860, 4750, 1525, 3950, 5790,  760, 2234,  960,\n",
              "       3210, 2780, 2800, 2305, 2665, 3620, 2710, 4320, 2650, 3370, 1509,\n",
              "       1277, 1981, 2434, 4640, 2242, 3040, 3970, 3200, 4600,  840, 3290,\n",
              "       2214, 1162, 3010, 5600, 3820, 3540, 1975, 4800,  740, 3990, 3170,\n",
              "       1576, 1768, 3310, 2980, 1429, 3900, 3380,  820, 1090, 4060, 3910,\n",
              "       3190, 3450, 3730,  620, 3020, 3760, 3320, 1132, 3300, 3770, 3960,\n",
              "        870, 3560, 4620, 3520, 1572, 3490, 1088, 3159, 4470, 3570, 4890,\n",
              "       3690, 3280, 2083, 3780,  920, 1941, 1566,  850, 2496, 1040, 3410,\n",
              "       4240, 4670, 4350, 1714, 5380, 4330, 3830, 5000, 2144, 1494, 1357,\n",
              "        930, 3580, 4250, 4080, 3660, 1458, 3736, 1894, 2037, 1295, 4170,\n",
              "       3750, 3550, 4630, 1439, 3500, 2091,  900, 3880, 3710, 1616,  720,\n",
              "        800, 2315, 1564, 2767, 3721, 4650, 4020,  780, 1728, 2027, 1264,\n",
              "       1404, 1459, 2028, 3639, 1943, 3425, 2641, 2114, 1309, 2412, 2517,\n",
              "       1802, 2011, 1466, 1414, 3193, 1845, 1156, 3670, 1696, 5340, 4440,\n",
              "       1745, 1884, 4690, 4920, 2406, 4160, 3810, 4480, 2848, 1746, 2634,\n",
              "       2049, 5330, 1536, 2273, 3056, 4010, 4700,  910, 2125, 1665, 2683,\n",
              "       3790,  700, 1855,  750, 1078, 4150, 4340, 2344, 1098, 1175, 1188,\n",
              "       3700, 3840, 4042, 2518, 3800, 2488, 3590, 2052,  810, 1528, 5030,\n",
              "       4740, 5070, 2967, 4280, 2724, 3610, 3940, 4940, 4770, 1811, 4830,\n",
              "       2876, 1805, 1216, 5170, 1304, 2474, 4590, 4130, 1492, 1364, 2168,\n",
              "       4140, 3543, 1303, 2005, 3650, 2583, 4310, 2451, 1448, 2955, 2142,\n",
              "        790, 1638, 2554, 2441, 2216, 4220, 1961, 4540,  770, 4200, 3413,\n",
              "       1664, 2136, 3568, 4510, 1484, 1358, 2106, 1834, 2014, 4390, 4570,\n",
              "       2175, 6110, 4260,  710, 2112, 1934, 1518, 1302, 2622, 2619, 2382,\n",
              "       4290, 4560, 4000, 1336, 3112, 4070, 1468, 1571, 2605, 1138, 5110,\n",
              "       4850, 2165, 4410, 1678, 5610, 1984, 4660, 3870, 4370,  460, 4610,\n",
              "       1914, 3515, 2246, 1786, 2109, 2326, 2728, 4400, 4950, 1767, 2054,\n",
              "       5500, 2555, 3674, 2765, 1862, 1352, 4030,  399, 2415, 2901, 1815,\n",
              "       2236, 2253, 2004, 1356, 2403, 1137, 1256, 4930, 4040, 2376, 4520,\n",
              "       4490, 2189, 2566, 2396, 1282, 2155, 1056, 2389, 2256, 3618, 1326,\n",
              "       1168, 4913,  806, 1369, 2405, 2875, 1425, 5220, 1442, 2333, 3335,\n",
              "       1321, 3045, 1546, 4730, 2697, 2822, 2076, 1757, 4780,  952, 4270,\n",
              "       2075, 2667, 1092, 1217, 1716, 1792, 2961, 1125, 1463, 1886,  670,\n",
              "       4460, 2336, 3557, 5200, 2258, 1377, 2019, 2092, 4900, 2615, 1639,\n",
              "       1765, 1554, 1381, 4120, 5080, 1445, 2793, 2475,  998, 2384, 2575,\n",
              "       1398, 1584, 2439, 2197, 2029, 4362, 1443, 4420, 1691, 2495, 2437,\n",
              "       2547, 6210, 2009, 1847, 1346, 2578, 2879, 2255, 2815, 1608,  690,\n",
              "       2425, 1481, 2458, 2358, 2056, 1921, 2419, 2996, 2502, 1798, 3087,\n",
              "       1076, 2981, 2363, 3191, 1763, 1876, 1949, 2598, 1979, 1415, 2002,\n",
              "       2574, 2166, 3726, 2099, 2154, 1522, 1544, 2912, 2648, 1658, 2755,\n",
              "       2798, 1405, 2704, 2738, 3008, 2586, 2873, 1232, 2597, 2516, 1537,\n",
              "       1128, 2849, 1399, 1131, 1569, 2381, 1084, 2304, 4530, 2297, 2279,\n",
              "       2303, 2669, 4225, 2513, 2725, 1955, 2527, 4443, 2478, 1919, 1813,\n",
              "       2533,  828, 2015, 3078, 4495, 2673, 2316, 2647, 3402, 3494, 2156,\n",
              "       3236, 2612, 2323, 2409, 2354, 1285, 2616, 1427, 1516, 2456, 2844,\n",
              "       1495, 2594, 2604, 1268, 2198, 3038, 2927])"
            ]
          },
          "metadata": {},
          "execution_count": 27
        }
      ],
      "source": [
        "house['sqft_living15'].unique()"
      ]
    },
    {
      "cell_type": "markdown",
      "metadata": {
        "id": "ES5ZJsRb2pIK"
      },
      "source": [
        "visualized using histograph"
      ]
    },
    {
      "cell_type": "code",
      "execution_count": 28,
      "metadata": {
        "colab": {
          "base_uri": "https://localhost:8080/"
        },
        "id": "YldGmbCh-AwL",
        "outputId": "ccfae26c-1b26-40b7-9076-08777317d8fd"
      },
      "outputs": [
        {
          "output_type": "execute_result",
          "data": {
            "text/plain": [
              "array([5650, 7639, 8062, ..., 5731, 1509, 2007])"
            ]
          },
          "metadata": {},
          "execution_count": 28
        }
      ],
      "source": [
        "#sqft_lot15\n",
        "house['sqft_lot15'].unique()"
      ]
    },
    {
      "cell_type": "code",
      "execution_count": 29,
      "metadata": {
        "colab": {
          "base_uri": "https://localhost:8080/"
        },
        "id": "8f7pmdxl-BaK",
        "outputId": "f94e3039-5945-40b8-959d-4cef11291344"
      },
      "outputs": [
        {
          "output_type": "execute_result",
          "data": {
            "text/plain": [
              "array([1955, 1951, 1933, 1965, 1987, 2001, 1995, 1963, 1960, 2003, 1942,\n",
              "       1927, 1977, 1900, 1979, 1994, 1916, 1921, 1969, 1947, 1968, 1985,\n",
              "       1941, 1915, 1909, 1948, 2005, 1929, 1981, 1930, 1904, 1996, 2000,\n",
              "       1984, 2014, 1922, 1959, 1966, 1953, 1950, 2008, 1991, 1954, 1973,\n",
              "       1925, 1989, 1972, 1986, 1956, 2002, 1992, 1964, 1952, 1961, 2006,\n",
              "       1988, 1962, 1939, 1946, 1967, 1975, 1980, 1910, 1983, 1978, 1905,\n",
              "       1971, 2010, 1945, 1924, 1990, 1914, 1926, 2004, 1923, 2007, 1976,\n",
              "       1949, 1999, 1901, 1993, 1920, 1997, 1943, 1957, 1940, 1918, 1928,\n",
              "       1974, 1911, 1936, 1937, 1982, 1908, 1931, 1998, 1913, 2013, 1907,\n",
              "       1958, 2012, 1912, 2011, 1917, 1932, 1944, 1902, 2009, 1903, 1970,\n",
              "       2015, 1934, 1938, 1919, 1906, 1935])"
            ]
          },
          "metadata": {},
          "execution_count": 29
        }
      ],
      "source": [
        "#Year built\n",
        "house['yr_built'].unique()"
      ]
    },
    {
      "cell_type": "code",
      "execution_count": 30,
      "metadata": {
        "colab": {
          "base_uri": "https://localhost:8080/"
        },
        "id": "LfNY9-gY-im7",
        "outputId": "11b69555-9bbb-4d23-9cba-8327327f6f64"
      },
      "outputs": [
        {
          "output_type": "execute_result",
          "data": {
            "text/plain": [
              "array([   0, 1991, 2002, 2010, 1999, 1992, 2013, 1994, 1978, 2005, 2008,\n",
              "       2003, 1984, 1954, 2014, 2011, 1974, 1983, 1945, 1990, 1988, 1957,\n",
              "       1977, 1981, 1995, 2000, 1998, 1970, 1989, 2004, 1986, 2009, 2007,\n",
              "       1987, 1973, 2006, 1985, 2001, 1980, 1971, 1979, 1997, 1950, 1969,\n",
              "       1948, 2015, 1968, 2012, 1963, 1951, 1993, 1962, 1996, 1972, 1953,\n",
              "       1955, 1982, 1956, 1940, 1976, 1946, 1975, 1958, 1964, 1959, 1960,\n",
              "       1967, 1965, 1934, 1944])"
            ]
          },
          "metadata": {},
          "execution_count": 30
        }
      ],
      "source": [
        "#Year renovated\n",
        "house['yr_renovated'].unique()"
      ]
    },
    {
      "cell_type": "code",
      "execution_count": 31,
      "metadata": {
        "colab": {
          "base_uri": "https://localhost:8080/",
          "height": 364
        },
        "id": "0xCXgZkR4VHV",
        "outputId": "4b8ad7a6-4bce-4be5-b3bd-72f028344f92"
      },
      "outputs": [
        {
          "output_type": "execute_result",
          "data": {
            "text/plain": [
              "            price  bedrooms  bathrooms  sqft_living    sqft_lot    floors  \\\n",
              "count   21608.000 21608.000  21608.000    21608.000   21608.000 21608.000   \n",
              "mean   540192.408     3.371      2.115     2079.959   15109.616     1.494   \n",
              "std    367399.634     0.930      0.770      918.506   41424.914     0.540   \n",
              "min     75000.000     0.000      0.000      290.000     520.000     1.000   \n",
              "25%    321837.500     3.000      1.750     1429.250    5040.000     1.000   \n",
              "50%    450000.000     3.000      2.250     1910.000    7620.000     1.500   \n",
              "75%    645000.000     4.000      2.500     2550.000   10690.500     2.000   \n",
              "max   7700000.000    33.000      8.000    13540.000 1651359.000     3.500   \n",
              "\n",
              "       waterfront      view  condition     grade  sqft_above  sqft_basement  \\\n",
              "count   21608.000 21608.000  21608.000 21608.000   21608.000      21608.000   \n",
              "mean        0.008     0.234      3.409     7.657    1788.415        291.544   \n",
              "std         0.087     0.766      0.651     1.175     828.141        442.613   \n",
              "min         0.000     0.000      1.000     1.000     290.000          0.000   \n",
              "25%         0.000     0.000      3.000     7.000    1190.000          0.000   \n",
              "50%         0.000     0.000      3.000     7.000    1560.000          0.000   \n",
              "75%         0.000     0.000      4.000     8.000    2210.000        560.000   \n",
              "max         1.000     4.000      5.000    13.000    9410.000       4820.000   \n",
              "\n",
              "       yr_built  yr_renovated       lat      long  sqft_living15  sqft_lot15  \n",
              "count 21608.000     21608.000 21608.000 21608.000      21608.000   21608.000  \n",
              "mean   1971.000        84.330    47.560  -122.214       1986.583   12770.108  \n",
              "std      29.371       401.517     0.139     0.141        685.421   27307.007  \n",
              "min    1900.000         0.000    47.156  -122.519        399.000     651.000  \n",
              "25%    1951.000         0.000    47.471  -122.328       1490.000    5100.000  \n",
              "50%    1975.000         0.000    47.572  -122.231       1840.000    7620.000  \n",
              "75%    1997.000         0.000    47.678  -122.125       2360.000   10083.250  \n",
              "max    2015.000      2015.000    47.778  -121.315       6210.000  871200.000  "
            ],
            "text/html": [
              "\n",
              "  <div id=\"df-2a3766ed-5822-4787-be6e-9d952c42c766\">\n",
              "    <div class=\"colab-df-container\">\n",
              "      <div>\n",
              "<style scoped>\n",
              "    .dataframe tbody tr th:only-of-type {\n",
              "        vertical-align: middle;\n",
              "    }\n",
              "\n",
              "    .dataframe tbody tr th {\n",
              "        vertical-align: top;\n",
              "    }\n",
              "\n",
              "    .dataframe thead th {\n",
              "        text-align: right;\n",
              "    }\n",
              "</style>\n",
              "<table border=\"1\" class=\"dataframe\">\n",
              "  <thead>\n",
              "    <tr style=\"text-align: right;\">\n",
              "      <th></th>\n",
              "      <th>price</th>\n",
              "      <th>bedrooms</th>\n",
              "      <th>bathrooms</th>\n",
              "      <th>sqft_living</th>\n",
              "      <th>sqft_lot</th>\n",
              "      <th>floors</th>\n",
              "      <th>waterfront</th>\n",
              "      <th>view</th>\n",
              "      <th>condition</th>\n",
              "      <th>grade</th>\n",
              "      <th>sqft_above</th>\n",
              "      <th>sqft_basement</th>\n",
              "      <th>yr_built</th>\n",
              "      <th>yr_renovated</th>\n",
              "      <th>lat</th>\n",
              "      <th>long</th>\n",
              "      <th>sqft_living15</th>\n",
              "      <th>sqft_lot15</th>\n",
              "    </tr>\n",
              "  </thead>\n",
              "  <tbody>\n",
              "    <tr>\n",
              "      <th>count</th>\n",
              "      <td>21608.000</td>\n",
              "      <td>21608.000</td>\n",
              "      <td>21608.000</td>\n",
              "      <td>21608.000</td>\n",
              "      <td>21608.000</td>\n",
              "      <td>21608.000</td>\n",
              "      <td>21608.000</td>\n",
              "      <td>21608.000</td>\n",
              "      <td>21608.000</td>\n",
              "      <td>21608.000</td>\n",
              "      <td>21608.000</td>\n",
              "      <td>21608.000</td>\n",
              "      <td>21608.000</td>\n",
              "      <td>21608.000</td>\n",
              "      <td>21608.000</td>\n",
              "      <td>21608.000</td>\n",
              "      <td>21608.000</td>\n",
              "      <td>21608.000</td>\n",
              "    </tr>\n",
              "    <tr>\n",
              "      <th>mean</th>\n",
              "      <td>540192.408</td>\n",
              "      <td>3.371</td>\n",
              "      <td>2.115</td>\n",
              "      <td>2079.959</td>\n",
              "      <td>15109.616</td>\n",
              "      <td>1.494</td>\n",
              "      <td>0.008</td>\n",
              "      <td>0.234</td>\n",
              "      <td>3.409</td>\n",
              "      <td>7.657</td>\n",
              "      <td>1788.415</td>\n",
              "      <td>291.544</td>\n",
              "      <td>1971.000</td>\n",
              "      <td>84.330</td>\n",
              "      <td>47.560</td>\n",
              "      <td>-122.214</td>\n",
              "      <td>1986.583</td>\n",
              "      <td>12770.108</td>\n",
              "    </tr>\n",
              "    <tr>\n",
              "      <th>std</th>\n",
              "      <td>367399.634</td>\n",
              "      <td>0.930</td>\n",
              "      <td>0.770</td>\n",
              "      <td>918.506</td>\n",
              "      <td>41424.914</td>\n",
              "      <td>0.540</td>\n",
              "      <td>0.087</td>\n",
              "      <td>0.766</td>\n",
              "      <td>0.651</td>\n",
              "      <td>1.175</td>\n",
              "      <td>828.141</td>\n",
              "      <td>442.613</td>\n",
              "      <td>29.371</td>\n",
              "      <td>401.517</td>\n",
              "      <td>0.139</td>\n",
              "      <td>0.141</td>\n",
              "      <td>685.421</td>\n",
              "      <td>27307.007</td>\n",
              "    </tr>\n",
              "    <tr>\n",
              "      <th>min</th>\n",
              "      <td>75000.000</td>\n",
              "      <td>0.000</td>\n",
              "      <td>0.000</td>\n",
              "      <td>290.000</td>\n",
              "      <td>520.000</td>\n",
              "      <td>1.000</td>\n",
              "      <td>0.000</td>\n",
              "      <td>0.000</td>\n",
              "      <td>1.000</td>\n",
              "      <td>1.000</td>\n",
              "      <td>290.000</td>\n",
              "      <td>0.000</td>\n",
              "      <td>1900.000</td>\n",
              "      <td>0.000</td>\n",
              "      <td>47.156</td>\n",
              "      <td>-122.519</td>\n",
              "      <td>399.000</td>\n",
              "      <td>651.000</td>\n",
              "    </tr>\n",
              "    <tr>\n",
              "      <th>25%</th>\n",
              "      <td>321837.500</td>\n",
              "      <td>3.000</td>\n",
              "      <td>1.750</td>\n",
              "      <td>1429.250</td>\n",
              "      <td>5040.000</td>\n",
              "      <td>1.000</td>\n",
              "      <td>0.000</td>\n",
              "      <td>0.000</td>\n",
              "      <td>3.000</td>\n",
              "      <td>7.000</td>\n",
              "      <td>1190.000</td>\n",
              "      <td>0.000</td>\n",
              "      <td>1951.000</td>\n",
              "      <td>0.000</td>\n",
              "      <td>47.471</td>\n",
              "      <td>-122.328</td>\n",
              "      <td>1490.000</td>\n",
              "      <td>5100.000</td>\n",
              "    </tr>\n",
              "    <tr>\n",
              "      <th>50%</th>\n",
              "      <td>450000.000</td>\n",
              "      <td>3.000</td>\n",
              "      <td>2.250</td>\n",
              "      <td>1910.000</td>\n",
              "      <td>7620.000</td>\n",
              "      <td>1.500</td>\n",
              "      <td>0.000</td>\n",
              "      <td>0.000</td>\n",
              "      <td>3.000</td>\n",
              "      <td>7.000</td>\n",
              "      <td>1560.000</td>\n",
              "      <td>0.000</td>\n",
              "      <td>1975.000</td>\n",
              "      <td>0.000</td>\n",
              "      <td>47.572</td>\n",
              "      <td>-122.231</td>\n",
              "      <td>1840.000</td>\n",
              "      <td>7620.000</td>\n",
              "    </tr>\n",
              "    <tr>\n",
              "      <th>75%</th>\n",
              "      <td>645000.000</td>\n",
              "      <td>4.000</td>\n",
              "      <td>2.500</td>\n",
              "      <td>2550.000</td>\n",
              "      <td>10690.500</td>\n",
              "      <td>2.000</td>\n",
              "      <td>0.000</td>\n",
              "      <td>0.000</td>\n",
              "      <td>4.000</td>\n",
              "      <td>8.000</td>\n",
              "      <td>2210.000</td>\n",
              "      <td>560.000</td>\n",
              "      <td>1997.000</td>\n",
              "      <td>0.000</td>\n",
              "      <td>47.678</td>\n",
              "      <td>-122.125</td>\n",
              "      <td>2360.000</td>\n",
              "      <td>10083.250</td>\n",
              "    </tr>\n",
              "    <tr>\n",
              "      <th>max</th>\n",
              "      <td>7700000.000</td>\n",
              "      <td>33.000</td>\n",
              "      <td>8.000</td>\n",
              "      <td>13540.000</td>\n",
              "      <td>1651359.000</td>\n",
              "      <td>3.500</td>\n",
              "      <td>1.000</td>\n",
              "      <td>4.000</td>\n",
              "      <td>5.000</td>\n",
              "      <td>13.000</td>\n",
              "      <td>9410.000</td>\n",
              "      <td>4820.000</td>\n",
              "      <td>2015.000</td>\n",
              "      <td>2015.000</td>\n",
              "      <td>47.778</td>\n",
              "      <td>-121.315</td>\n",
              "      <td>6210.000</td>\n",
              "      <td>871200.000</td>\n",
              "    </tr>\n",
              "  </tbody>\n",
              "</table>\n",
              "</div>\n",
              "      <button class=\"colab-df-convert\" onclick=\"convertToInteractive('df-2a3766ed-5822-4787-be6e-9d952c42c766')\"\n",
              "              title=\"Convert this dataframe to an interactive table.\"\n",
              "              style=\"display:none;\">\n",
              "        \n",
              "  <svg xmlns=\"http://www.w3.org/2000/svg\" height=\"24px\"viewBox=\"0 0 24 24\"\n",
              "       width=\"24px\">\n",
              "    <path d=\"M0 0h24v24H0V0z\" fill=\"none\"/>\n",
              "    <path d=\"M18.56 5.44l.94 2.06.94-2.06 2.06-.94-2.06-.94-.94-2.06-.94 2.06-2.06.94zm-11 1L8.5 8.5l.94-2.06 2.06-.94-2.06-.94L8.5 2.5l-.94 2.06-2.06.94zm10 10l.94 2.06.94-2.06 2.06-.94-2.06-.94-.94-2.06-.94 2.06-2.06.94z\"/><path d=\"M17.41 7.96l-1.37-1.37c-.4-.4-.92-.59-1.43-.59-.52 0-1.04.2-1.43.59L10.3 9.45l-7.72 7.72c-.78.78-.78 2.05 0 2.83L4 21.41c.39.39.9.59 1.41.59.51 0 1.02-.2 1.41-.59l7.78-7.78 2.81-2.81c.8-.78.8-2.07 0-2.86zM5.41 20L4 18.59l7.72-7.72 1.47 1.35L5.41 20z\"/>\n",
              "  </svg>\n",
              "      </button>\n",
              "      \n",
              "  <style>\n",
              "    .colab-df-container {\n",
              "      display:flex;\n",
              "      flex-wrap:wrap;\n",
              "      gap: 12px;\n",
              "    }\n",
              "\n",
              "    .colab-df-convert {\n",
              "      background-color: #E8F0FE;\n",
              "      border: none;\n",
              "      border-radius: 50%;\n",
              "      cursor: pointer;\n",
              "      display: none;\n",
              "      fill: #1967D2;\n",
              "      height: 32px;\n",
              "      padding: 0 0 0 0;\n",
              "      width: 32px;\n",
              "    }\n",
              "\n",
              "    .colab-df-convert:hover {\n",
              "      background-color: #E2EBFA;\n",
              "      box-shadow: 0px 1px 2px rgba(60, 64, 67, 0.3), 0px 1px 3px 1px rgba(60, 64, 67, 0.15);\n",
              "      fill: #174EA6;\n",
              "    }\n",
              "\n",
              "    [theme=dark] .colab-df-convert {\n",
              "      background-color: #3B4455;\n",
              "      fill: #D2E3FC;\n",
              "    }\n",
              "\n",
              "    [theme=dark] .colab-df-convert:hover {\n",
              "      background-color: #434B5C;\n",
              "      box-shadow: 0px 1px 3px 1px rgba(0, 0, 0, 0.15);\n",
              "      filter: drop-shadow(0px 1px 2px rgba(0, 0, 0, 0.3));\n",
              "      fill: #FFFFFF;\n",
              "    }\n",
              "  </style>\n",
              "\n",
              "      <script>\n",
              "        const buttonEl =\n",
              "          document.querySelector('#df-2a3766ed-5822-4787-be6e-9d952c42c766 button.colab-df-convert');\n",
              "        buttonEl.style.display =\n",
              "          google.colab.kernel.accessAllowed ? 'block' : 'none';\n",
              "\n",
              "        async function convertToInteractive(key) {\n",
              "          const element = document.querySelector('#df-2a3766ed-5822-4787-be6e-9d952c42c766');\n",
              "          const dataTable =\n",
              "            await google.colab.kernel.invokeFunction('convertToInteractive',\n",
              "                                                     [key], {});\n",
              "          if (!dataTable) return;\n",
              "\n",
              "          const docLinkHtml = 'Like what you see? Visit the ' +\n",
              "            '<a target=\"_blank\" href=https://colab.research.google.com/notebooks/data_table.ipynb>data table notebook</a>'\n",
              "            + ' to learn more about interactive tables.';\n",
              "          element.innerHTML = '';\n",
              "          dataTable['output_type'] = 'display_data';\n",
              "          await google.colab.output.renderOutput(dataTable, element);\n",
              "          const docLink = document.createElement('div');\n",
              "          docLink.innerHTML = docLinkHtml;\n",
              "          element.appendChild(docLink);\n",
              "        }\n",
              "      </script>\n",
              "    </div>\n",
              "  </div>\n",
              "  "
            ]
          },
          "metadata": {},
          "execution_count": 31
        }
      ],
      "source": [
        "#Mean,Median,Standard Deviation and percentile\n",
        "house.describe()"
      ]
    },
    {
      "cell_type": "code",
      "source": [
        "#Mean\n",
        "house.mean()"
      ],
      "metadata": {
        "colab": {
          "base_uri": "https://localhost:8080/"
        },
        "id": "Bl8Zpl5tbOso",
        "outputId": "8e4f34e4-fef0-46e1-d06b-bba9cd93d4b9"
      },
      "execution_count": 104,
      "outputs": [
        {
          "output_type": "execute_result",
          "data": {
            "text/plain": [
              "price           540192.408\n",
              "bedrooms             3.371\n",
              "bathrooms            2.115\n",
              "sqft_living       2079.959\n",
              "sqft_lot         15109.616\n",
              "floors               1.494\n",
              "waterfront           0.008\n",
              "view                 0.234\n",
              "condition            3.409\n",
              "grade                7.657\n",
              "sqft_above        1788.415\n",
              "sqft_basement      291.544\n",
              "yr_built          1971.000\n",
              "yr_renovated        84.330\n",
              "lat                 47.560\n",
              "long              -122.214\n",
              "sqft_living15     1986.583\n",
              "sqft_lot15       12770.108\n",
              "dtype: float64"
            ]
          },
          "metadata": {},
          "execution_count": 104
        }
      ]
    },
    {
      "cell_type": "code",
      "source": [
        "#Median\n",
        "house.median()"
      ],
      "metadata": {
        "colab": {
          "base_uri": "https://localhost:8080/"
        },
        "id": "4HjU55egbXpf",
        "outputId": "02e4af8d-fb48-4c55-8b24-001f99c17604"
      },
      "execution_count": 105,
      "outputs": [
        {
          "output_type": "execute_result",
          "data": {
            "text/plain": [
              "price           450000.000\n",
              "bedrooms             3.000\n",
              "bathrooms            2.250\n",
              "sqft_living       1910.000\n",
              "sqft_lot          7620.000\n",
              "floors               1.500\n",
              "waterfront           0.000\n",
              "view                 0.000\n",
              "condition            3.000\n",
              "grade                7.000\n",
              "sqft_above        1560.000\n",
              "sqft_basement        0.000\n",
              "yr_built          1975.000\n",
              "yr_renovated         0.000\n",
              "lat                 47.572\n",
              "long              -122.231\n",
              "sqft_living15     1840.000\n",
              "sqft_lot15        7620.000\n",
              "dtype: float64"
            ]
          },
          "metadata": {},
          "execution_count": 105
        }
      ]
    },
    {
      "cell_type": "code",
      "execution_count": 32,
      "metadata": {
        "colab": {
          "base_uri": "https://localhost:8080/"
        },
        "id": "gvX8tGQA6ysx",
        "outputId": "dabcdd19-f7af-41fb-b3ae-97a94487529f"
      },
      "outputs": [
        {
          "output_type": "stream",
          "name": "stdout",
          "text": [
            "year built and latitude are negatively skewdes meaning that the left\n",
            "tail is long relative to the right tail while the othe attributes are\n",
            "positively skewed meaning that the right tail is long relative to the left tail.\n"
          ]
        },
        {
          "output_type": "execute_result",
          "data": {
            "text/plain": [
              "price            4.021\n",
              "bedrooms         1.974\n",
              "bathrooms        0.511\n",
              "sqft_living      1.471\n",
              "sqft_lot        13.059\n",
              "floors           0.616\n",
              "waterfront      11.384\n",
              "view             3.397\n",
              "condition        1.033\n",
              "grade            0.772\n",
              "sqft_above       1.447\n",
              "sqft_basement    1.578\n",
              "yr_built        -0.470\n",
              "yr_renovated     4.552\n",
              "lat             -0.485\n",
              "long             0.885\n",
              "sqft_living15    1.108\n",
              "sqft_lot15       9.506\n",
              "dtype: float64"
            ]
          },
          "metadata": {},
          "execution_count": 32
        }
      ],
      "source": [
        "#Skewness\n",
        "skew= house.skew(axis=0, skipna=True, level = None,numeric_only = None)\n",
        "print('''year built and latitude are negatively skewdes meaning that the left\n",
        "tail is long relative to the right tail while the othe attributes are\n",
        "positively skewed meaning that the right tail is long relative to the left tail.''')\n",
        "skew"
      ]
    },
    {
      "cell_type": "code",
      "execution_count": 33,
      "metadata": {
        "colab": {
          "base_uri": "https://localhost:8080/"
        },
        "id": "l0kAXRud7MSA",
        "outputId": "3500943d-631f-402a-a62d-b5da9c489fb5"
      },
      "outputs": [
        {
          "output_type": "execute_result",
          "data": {
            "text/plain": [
              "price            34.515\n",
              "bedrooms         49.066\n",
              "bathrooms         1.279\n",
              "sqft_living       5.242\n",
              "sqft_lot        285.019\n",
              "floors           -0.485\n",
              "waterfront      127.602\n",
              "view             10.901\n",
              "condition         0.525\n",
              "grade             1.192\n",
              "sqft_above        3.402\n",
              "sqft_basement     2.714\n",
              "yr_built         -0.657\n",
              "yr_renovated     18.722\n",
              "lat              -0.677\n",
              "long              1.050\n",
              "sqft_living15     1.597\n",
              "sqft_lot15      150.733\n",
              "dtype: float64"
            ]
          },
          "metadata": {},
          "execution_count": 33
        }
      ],
      "source": [
        "#Kurtosis\n",
        "house.kurtosis(axis=0, skipna=True,level=None, numeric_only = None)"
      ]
    },
    {
      "cell_type": "markdown",
      "metadata": {
        "id": "-UVTuD09srJm"
      },
      "source": [
        "**Plotting pie charts**"
      ]
    },
    {
      "cell_type": "code",
      "execution_count": 34,
      "metadata": {
        "colab": {
          "base_uri": "https://localhost:8080/",
          "height": 282
        },
        "id": "bFsouu8Qsl6g",
        "outputId": "ae8504e9-500c-41da-f314-64179d047efa"
      },
      "outputs": [
        {
          "output_type": "display_data",
          "data": {
            "text/plain": [
              "<Figure size 432x288 with 1 Axes>"
            ],
            "image/png": "[encoded data removed]"
          },
          "metadata": {}
        },
        {
          "output_type": "stream",
          "name": "stdout",
          "text": [
            "Most of the houses sold had a view rating of 0\n"
          ]
        }
      ],
      "source": [
        "#The view pie chart representation\n",
        "house_view = house['view'].value_counts()\n",
        "\n",
        "\n",
        "#plotting pie chart\n",
        "plt.pie(house_view,labels = house_view.index,autopct = '%1.1f%%',shadow = True, startangle = 190)\n",
        "\n",
        "#specify axis type\n",
        "plt.axis('equal')\n",
        "\n",
        "#set title\n",
        "plt.title('House View representation')\n",
        "\n",
        "#show plot\n",
        "plt.show()\n",
        "#Explanation\n",
        "print(\"Most of the houses sold had a view rating of 0\")"
      ]
    },
    {
      "cell_type": "code",
      "execution_count": 35,
      "metadata": {
        "colab": {
          "base_uri": "https://localhost:8080/",
          "height": 282
        },
        "id": "ZI5aGEqfwoYs",
        "outputId": "7a5950c1-ece8-47d0-c4d9-12ae123e5745"
      },
      "outputs": [
        {
          "output_type": "display_data",
          "data": {
            "text/plain": [
              "<Figure size 432x288 with 1 Axes>"
            ],
            "image/png": "[encoded data removed]"
          },
          "metadata": {}
        },
        {
          "output_type": "stream",
          "name": "stdout",
          "text": [
            "Over 90% of the houses sold had a condition rating of 3, 4 and 5\n"
          ]
        }
      ],
      "source": [
        "#The view pie chart representation\n",
        "house_condition = house['condition'].value_counts()\n",
        "\n",
        "\n",
        "#plotting pie chart\n",
        "plt.pie(house_condition,labels = house_condition.index,autopct = '%1.1f%%',shadow = True, startangle = 190)\n",
        "\n",
        "#specify axis type\n",
        "plt.axis('equal')\n",
        "\n",
        "#set title\n",
        "plt.title('House condition representation')\n",
        "\n",
        "#show plot\n",
        "plt.show()\n",
        "\n",
        "#Explanation\n",
        "print(\"Over 90% of the houses sold had a condition rating of 3, 4 and 5\")"
      ]
    },
    {
      "cell_type": "markdown",
      "metadata": {
        "id": "9RFnljsA0zgT"
      },
      "source": [
        "The house whose condition was rated to 3 had the highest sales"
      ]
    },
    {
      "cell_type": "code",
      "execution_count": 36,
      "metadata": {
        "colab": {
          "base_uri": "https://localhost:8080/",
          "height": 283
        },
        "id": "wzW0VlnywpM2",
        "outputId": "777e83e2-1d10-41ee-e8e5-bdb51782b952"
      },
      "outputs": [
        {
          "output_type": "display_data",
          "data": {
            "text/plain": [
              "<Figure size 432x288 with 1 Axes>"
            ],
            "image/png": "[encoded data removed]"
          },
          "metadata": {}
        },
        {
          "output_type": "stream",
          "name": "stdout",
          "text": [
            "most of the houses sold had either 1 or 2 floors\n"
          ]
        }
      ],
      "source": [
        "#The floors pie chart representation\n",
        "house_floors= house['floors'].value_counts()\n",
        "\n",
        "\n",
        "#plotting pie chart\n",
        "plt.pie(house_floors,labels = house_floors.index,autopct = '%1.1f%%',shadow = True, startangle = 190)\n",
        "\n",
        "#specify axis type\n",
        "plt.axis('equal')\n",
        "\n",
        "#set title\n",
        "plt.title('House floors representation')\n",
        "\n",
        "\n",
        "#show plot\n",
        "plt.show()\n",
        "#Explanation\n",
        "print(\"most of the houses sold had either 1 or 2 floors\")"
      ]
    },
    {
      "cell_type": "code",
      "execution_count": 37,
      "metadata": {
        "colab": {
          "base_uri": "https://localhost:8080/",
          "height": 282
        },
        "id": "-24OeuYmwqFc",
        "outputId": "c80bb6c8-6d53-41de-8f6d-0beb96fa1973"
      },
      "outputs": [
        {
          "output_type": "display_data",
          "data": {
            "text/plain": [
              "<Figure size 432x288 with 1 Axes>"
            ],
            "image/png": "[encoded data removed]"
          },
          "metadata": {}
        },
        {
          "output_type": "stream",
          "name": "stdout",
          "text": [
            "Most of the houses sold had no waterfront\n"
          ]
        }
      ],
      "source": [
        "#The waterfront pie chart representation\n",
        "house_waterfront = house['waterfront'].value_counts()\n",
        "\n",
        "\n",
        "#plotting pie chart\n",
        "plt.pie(house_waterfront,labels = house_waterfront.index,autopct = '%1.1f%%',shadow = True, startangle = 190)\n",
        "\n",
        "#specify axis type\n",
        "plt.axis('equal')\n",
        "\n",
        "#set title\n",
        "plt.title('House waterfront representation')\n",
        "\n",
        "#show plot\n",
        "plt.show()\n",
        "#Explanation\n",
        "print(\"Most of the houses sold had no waterfront\")"
      ]
    },
    {
      "cell_type": "markdown",
      "metadata": {
        "id": "oEbAi5SHy-t0"
      },
      "source": [
        "The houses that had waterfront had more sales compared to the one which did not have"
      ]
    },
    {
      "cell_type": "code",
      "execution_count": 38,
      "metadata": {
        "colab": {
          "base_uri": "https://localhost:8080/",
          "height": 302
        },
        "id": "X_WBCVApwrNN",
        "outputId": "7b06d3a3-7c78-4277-cae1-274585c35e7e"
      },
      "outputs": [
        {
          "output_type": "stream",
          "name": "stdout",
          "text": [
            "Most of the houses sold were graded 7 and 8\n"
          ]
        },
        {
          "output_type": "display_data",
          "data": {
            "text/plain": [
              "<Figure size 432x288 with 1 Axes>"
            ],
            "image/png": "[encoded data removed]"
          },
          "metadata": {
            "needs_background": "light"
          }
        }
      ],
      "source": [
        "#Barchart for grade\n",
        "(house['grade'].value_counts()).plot.bar(title=\"House_grade\");\n",
        "\n",
        "#explanation\n",
        "print(\"Most of the houses sold were graded 7 and 8\")"
      ]
    },
    {
      "cell_type": "code",
      "execution_count": 39,
      "metadata": {
        "colab": {
          "base_uri": "https://localhost:8080/",
          "height": 294
        },
        "id": "759Pw63QwsN0",
        "outputId": "4dc31e90-ab06-484b-d596-9300dc549eb1"
      },
      "outputs": [
        {
          "output_type": "display_data",
          "data": {
            "text/plain": [
              "<Figure size 432x288 with 1 Axes>"
            ],
            "image/png": "[encoded data removed]"
          },
          "metadata": {
            "needs_background": "light"
          }
        }
      ],
      "source": [
        "#Histograph of Square feet area of packing layout\n",
        "plt.hist(house['sqft_lot'],bins=8)\n",
        "plt.title('Square feet area of packing layout')\n",
        "plt.show()"
      ]
    },
    {
      "cell_type": "code",
      "execution_count": 40,
      "metadata": {
        "colab": {
          "base_uri": "https://localhost:8080/",
          "height": 300
        },
        "id": "akGdb6ZN5WmK",
        "outputId": "8f9838c4-992d-4036-e4a7-b0419b6cd5ef"
      },
      "outputs": [
        {
          "output_type": "display_data",
          "data": {
            "text/plain": [
              "<Figure size 432x288 with 1 Axes>"
            ],
            "image/png": "[encoded data removed]"
          },
          "metadata": {
            "needs_background": "light"
          }
        },
        {
          "output_type": "stream",
          "name": "stdout",
          "text": [
            "most of the houses sold covered approximately 3000 square feet area Above\n"
          ]
        }
      ],
      "source": [
        "#Histograph of Square feet Above\n",
        "plt.hist(house['sqft_above'],bins=8)\n",
        "plt.title('Square feet area Above')\n",
        "plt.show()\n",
        "#Explanation\n",
        "print(\"most of the houses sold covered approximately 3000 square feet area Above\")"
      ]
    },
    {
      "cell_type": "code",
      "execution_count": 41,
      "metadata": {
        "colab": {
          "base_uri": "https://localhost:8080/",
          "height": 300
        },
        "id": "WmcNirVF5XZB",
        "outputId": "ea8ed2cd-f16b-4213-d1a9-140510e2f7a5"
      },
      "outputs": [
        {
          "output_type": "display_data",
          "data": {
            "text/plain": [
              "<Figure size 432x288 with 1 Axes>"
            ],
            "image/png": "[encoded data removed]"
          },
          "metadata": {
            "needs_background": "light"
          }
        },
        {
          "output_type": "stream",
          "name": "stdout",
          "text": [
            "most of the houses sold covered approximately 500 square feet area Above\n"
          ]
        }
      ],
      "source": [
        "#Histograph of Square feet basement\n",
        "plt.hist(house['sqft_basement'],bins=8)\n",
        "plt.title('Square feet area basement')\n",
        "plt.show()\n",
        "#Explanation\n",
        "print(\"most of the houses sold covered approximately 500 square feet area Above\")"
      ]
    },
    {
      "cell_type": "code",
      "execution_count": 42,
      "metadata": {
        "colab": {
          "base_uri": "https://localhost:8080/",
          "height": 317
        },
        "id": "dNG4xXco5YN6",
        "outputId": "e0dbb29c-834e-46e0-f0a3-a6c222d621c0"
      },
      "outputs": [
        {
          "output_type": "display_data",
          "data": {
            "text/plain": [
              "<Figure size 432x288 with 1 Axes>"
            ],
            "image/png": "[encoded data removed]"
          },
          "metadata": {
            "needs_background": "light"
          }
        },
        {
          "output_type": "stream",
          "name": "stdout",
          "text": [
            "Most of the houses sold covered approximately between 500 and 2500 \n",
            "sqft_living15 area Above\n"
          ]
        }
      ],
      "source": [
        "#Histograph of sqft_living15\n",
        "plt.hist(house['sqft_living15'],bins=8)\n",
        "plt.title('Ssqft_living15')\n",
        "plt.show()\n",
        "#Explanation\n",
        "print('''Most of the houses sold covered approximately between 500 and 2500 \n",
        "sqft_living15 area Above''')"
      ]
    },
    {
      "cell_type": "markdown",
      "metadata": {
        "id": "MQBx00p44HKt"
      },
      "source": [
        "### b) Bivariate Analysis"
      ]
    },
    {
      "cell_type": "code",
      "execution_count": 43,
      "metadata": {
        "id": "d_H7H-Ri4GEg",
        "colab": {
          "base_uri": "https://localhost:8080/",
          "height": 326
        },
        "outputId": "77f89dd6-f805-4d7a-ebb8-df6253cd1ef6"
      },
      "outputs": [
        {
          "output_type": "stream",
          "name": "stdout",
          "text": [
            "From the scatter plot the highest price and price variation were located\n",
            "between 47.5 and 47.7 latitude\n"
          ]
        },
        {
          "output_type": "display_data",
          "data": {
            "text/plain": [
              "<Figure size 432x288 with 1 Axes>"
            ],
            "image/png": "[encoded data removed]"
          },
          "metadata": {
            "needs_background": "light"
          }
        }
      ],
      "source": [
        "#scatter plot for price versus latitude\n",
        "sns.scatterplot(data=house,x='lat',y='price');\n",
        "\n",
        "#explanation\n",
        "print('''From the scatter plot the highest price and price variation were located\n",
        "between 47.5 and 47.7 latitude''')"
      ]
    },
    {
      "cell_type": "code",
      "source": [
        "#scatter plot for price versus longitude\n",
        "sns.scatterplot(data=house,x='long',y='price');\n",
        "#explanation\n",
        "print('''From the scatter plot the highest price and price variation were located\n",
        "between -122.4 and -122.2 latitude''')"
      ],
      "metadata": {
        "colab": {
          "base_uri": "https://localhost:8080/",
          "height": 326
        },
        "id": "OvvMjKAANL0Y",
        "outputId": "f6e7cbb8-83a6-4cef-9c47-3ab15679c72f"
      },
      "execution_count": 44,
      "outputs": [
        {
          "output_type": "stream",
          "name": "stdout",
          "text": [
            "From the scatter plot the highest price and price variation were located\n",
            "between -122.4 and -122.2 latitude\n"
          ]
        },
        {
          "output_type": "display_data",
          "data": {
            "text/plain": [
              "<Figure size 432x288 with 1 Axes>"
            ],
            "image/png": "[encoded data removed]"
          },
          "metadata": {
            "needs_background": "light"
          }
        }
      ]
    },
    {
      "cell_type": "code",
      "source": [
        "#scatter plot for price versus bedrooms\n",
        "sns.scatterplot(data=house,x='bedrooms',y='price');\n",
        "#explanation\n",
        "print('''From the scatter plot the highest price and price variation were recorded\n",
        "between -122.4 and -122.2 latitude''')"
      ],
      "metadata": {
        "colab": {
          "base_uri": "https://localhost:8080/",
          "height": 326
        },
        "id": "9544ch1BNMxY",
        "outputId": "aa5f1a3e-a553-437b-bb0a-c7bde8dc7307"
      },
      "execution_count": 45,
      "outputs": [
        {
          "output_type": "stream",
          "name": "stdout",
          "text": [
            "From the scatter plot the highest price and price variation were recorded\n",
            "between -122.4 and -122.2 latitude\n"
          ]
        },
        {
          "output_type": "display_data",
          "data": {
            "text/plain": [
              "<Figure size 432x288 with 1 Axes>"
            ],
            "image/png": "[encoded data removed]"
          },
          "metadata": {
            "needs_background": "light"
          }
        }
      ]
    },
    {
      "cell_type": "code",
      "source": [
        "#scatter plot for price versus sqft_living\n",
        "sns.scatterplot(data=house,x='sqft_living',y='price');\n",
        "\n",
        "#Explanation\n",
        "print(\"the price variation increases as the sqft_living increases\")"
      ],
      "metadata": {
        "colab": {
          "base_uri": "https://localhost:8080/",
          "height": 310
        },
        "id": "_ZQIWBdRNd6Y",
        "outputId": "be0c5366-b5c9-4439-a8f0-78198b8a514b"
      },
      "execution_count": 46,
      "outputs": [
        {
          "output_type": "stream",
          "name": "stdout",
          "text": [
            "the price variation increases as the sqft_living increases\n"
          ]
        },
        {
          "output_type": "display_data",
          "data": {
            "text/plain": [
              "<Figure size 432x288 with 1 Axes>"
            ],
            "image/png": "[encoded data removed]"
          },
          "metadata": {
            "needs_background": "light"
          }
        }
      ]
    },
    {
      "cell_type": "code",
      "source": [
        "#scatter plot for price versus view\n",
        "sns.scatterplot(data=house,x='view',y='price');\n",
        "\n",
        "#Explanation]\n",
        "print(\"price and view has no direct correlation\")"
      ],
      "metadata": {
        "colab": {
          "base_uri": "https://localhost:8080/",
          "height": 308
        },
        "id": "7FM6IbcCNfg4",
        "outputId": "677e8880-7ba7-4321-df02-a759082aed7d"
      },
      "execution_count": 47,
      "outputs": [
        {
          "output_type": "stream",
          "name": "stdout",
          "text": [
            "price and view has no direct correlation\n"
          ]
        },
        {
          "output_type": "display_data",
          "data": {
            "text/plain": [
              "<Figure size 432x288 with 1 Axes>"
            ],
            "image/png": "[encoded data removed]"
          },
          "metadata": {
            "needs_background": "light"
          }
        }
      ]
    },
    {
      "cell_type": "code",
      "source": [
        "#scatter plot for price versus floors\n",
        "sns.scatterplot(data=house,x='floors',y='price');\n",
        "\n",
        "#Explanation]\n",
        "print(\"price and floors has no direct correlation\")"
      ],
      "metadata": {
        "colab": {
          "base_uri": "https://localhost:8080/",
          "height": 308
        },
        "id": "tpQ1zqWgNgT5",
        "outputId": "429d8bd6-f8b4-4fbb-e12d-64ff094723fe"
      },
      "execution_count": 48,
      "outputs": [
        {
          "output_type": "stream",
          "name": "stdout",
          "text": [
            "price and floors has no direct correlation\n"
          ]
        },
        {
          "output_type": "display_data",
          "data": {
            "text/plain": [
              "<Figure size 432x288 with 1 Axes>"
            ],
            "image/png": "[encoded data removed]"
          },
          "metadata": {
            "needs_background": "light"
          }
        }
      ]
    },
    {
      "cell_type": "code",
      "source": [
        "#scatter plot for price versus floors\n",
        "sns.scatterplot(data=house,x='yr_built',y='price');\n",
        "\n",
        "#explanation\n",
        "print(\"house prices and price variation have been uniformly distributed across all the years\")"
      ],
      "metadata": {
        "colab": {
          "base_uri": "https://localhost:8080/",
          "height": 310
        },
        "id": "ncf93lrdQIXI",
        "outputId": "02e66479-e5e7-4d35-ef3b-4d3ed8ca65b3"
      },
      "execution_count": 49,
      "outputs": [
        {
          "output_type": "stream",
          "name": "stdout",
          "text": [
            "house prices and price variation have been uniformly distributed across all the years\n"
          ]
        },
        {
          "output_type": "display_data",
          "data": {
            "text/plain": [
              "<Figure size 432x288 with 1 Axes>"
            ],
            "image/png": "[encoded data removed]"
          },
          "metadata": {
            "needs_background": "light"
          }
        }
      ]
    },
    {
      "cell_type": "code",
      "source": [
        "#scatter plot for price versus floors\n",
        "sns.lineplot(data=house,x='yr_built',y='price');\n",
        "\n",
        "#explanation\n",
        "print(\"house prices and price variation have been uniformly distributed across all the years\")"
      ],
      "metadata": {
        "colab": {
          "base_uri": "https://localhost:8080/",
          "height": 310
        },
        "id": "xfuG7nDGQsuQ",
        "outputId": "52e182e1-8b00-41ae-d1fb-d19ad8fd4043"
      },
      "execution_count": 50,
      "outputs": [
        {
          "output_type": "stream",
          "name": "stdout",
          "text": [
            "house prices and price variation have been uniformly distributed across all the years\n"
          ]
        },
        {
          "output_type": "display_data",
          "data": {
            "text/plain": [
              "<Figure size 432x288 with 1 Axes>"
            ],
            "image/png": "[encoded data removed]"
          },
          "metadata": {
            "needs_background": "light"
          }
        }
      ]
    },
    {
      "cell_type": "markdown",
      "metadata": {
        "id": "esrG4aY2E_xD"
      },
      "source": [
        "##<font color=\"green\"> Solving the Question</font>"
      ]
    },
    {
      "cell_type": "markdown",
      "metadata": {
        "id": "5cQvnO7REGoU"
      },
      "source": [
        "##5.Multiple Linear regression"
      ]
    },
    {
      "cell_type": "markdown",
      "metadata": {
        "id": "6bLZseVGHL7m"
      },
      "source": [
        "### a) Defining the independent and adependent variables"
      ]
    },
    {
      "cell_type": "code",
      "source": [
        "#independent variable and dependent variable\n",
        "X,y = house[[ 'bedrooms', 'bathrooms', 'sqft_living', 'sqft_lot', 'floors',\n",
        "       'waterfront', 'view', 'condition', 'grade', 'sqft_above',\n",
        "       'sqft_basement', 'yr_built', 'yr_renovated', 'lat', 'long',\n",
        "       'sqft_living15', 'sqft_lot15']],house['price']\n",
        "\n",
        "\n"
      ],
      "metadata": {
        "id": "QrbjM76bXsY3"
      },
      "execution_count": 51,
      "outputs": []
    },
    {
      "cell_type": "markdown",
      "metadata": {
        "id": "nedezMgwHiT9"
      },
      "source": [
        "### b) Spliting the dataset"
      ]
    },
    {
      "cell_type": "code",
      "source": [
        "X_train, X_test, y_train, y_test = train_test_split(X, y, test_size=0.2, random_state=0)"
      ],
      "metadata": {
        "id": "EVfGvvpmSFPC"
      },
      "execution_count": 52,
      "outputs": []
    },
    {
      "cell_type": "code",
      "source": [
        "#training the algorith\n",
        "regressor=LinearRegression()\n",
        "regressor.fit(X_train,y_train)\n",
        "\n",
        "import statsmodels.api as sm\n",
        "#add a constant\n",
        "X_train=sm.add_constant(X_train)\n",
        "\n",
        "#Summary in linear regression\n",
        "model = sm.OLS(y_train,X_train).fit()\n",
        "\n",
        "print(model.summary())"
      ],
      "metadata": {
        "colab": {
          "base_uri": "https://localhost:8080/"
        },
        "id": "D0IWRETTgO9M",
        "outputId": "91e2d4fb-f23f-453a-c423-d44bff9e95e8"
      },
      "execution_count": 53,
      "outputs": [
        {
          "output_type": "stream",
          "name": "stdout",
          "text": [
            "                            OLS Regression Results                            \n",
            "==============================================================================\n",
            "Dep. Variable:                  price   R-squared:                       0.697\n",
            "Model:                            OLS   Adj. R-squared:                  0.697\n",
            "Method:                 Least Squares   F-statistic:                     2488.\n",
            "Date:                Sun, 24 Apr 2022   Prob (F-statistic):               0.00\n",
            "Time:                        20:35:58   Log-Likelihood:            -2.3591e+05\n",
            "No. Observations:               17286   AIC:                         4.719e+05\n",
            "Df Residuals:                   17269   BIC:                         4.720e+05\n",
            "Df Model:                          16                                         \n",
            "Covariance Type:            nonrobust                                         \n",
            "=================================================================================\n",
            "                    coef    std err          t      P>|t|      [0.025      0.975]\n",
            "---------------------------------------------------------------------------------\n",
            "const         -3.811e+07    1.8e+06    -21.149      0.000   -4.16e+07   -3.46e+07\n",
            "bedrooms      -3.284e+04   2118.114    -15.506      0.000    -3.7e+04   -2.87e+04\n",
            "bathrooms      3.844e+04   3690.029     10.417      0.000    3.12e+04    4.57e+04\n",
            "sqft_living     110.9823      2.559     43.363      0.000     105.966     115.999\n",
            "sqft_lot          0.1681      0.056      3.025      0.002       0.059       0.277\n",
            "floors          438.1179   4093.170      0.107      0.915   -7584.911    8461.147\n",
            "waterfront     6.268e+05   1.93e+04     32.425      0.000    5.89e+05    6.65e+05\n",
            "view           4.754e+04   2442.478     19.464      0.000    4.28e+04    5.23e+04\n",
            "condition      3.249e+04   2667.341     12.181      0.000    2.73e+04    3.77e+04\n",
            "grade          9.884e+04   2454.004     40.278      0.000     9.4e+04    1.04e+05\n",
            "sqft_above       72.4730      2.556     28.358      0.000      67.464      77.482\n",
            "sqft_basement    38.5099      3.004     12.819      0.000      32.622      44.398\n",
            "yr_built      -2375.4338     82.188    -28.903      0.000   -2536.530   -2214.338\n",
            "yr_renovated     23.9443      4.125      5.805      0.000      15.859      32.029\n",
            "lat            5.588e+05   1.19e+04     46.953      0.000    5.36e+05    5.82e+05\n",
            "long          -1.266e+05   1.36e+04     -9.335      0.000   -1.53e+05      -1e+05\n",
            "sqft_living15    25.3606      3.889      6.522      0.000      17.738      32.983\n",
            "sqft_lot15       -0.4415      0.083     -5.293      0.000      -0.605      -0.278\n",
            "==============================================================================\n",
            "Omnibus:                    14254.295   Durbin-Watson:                   2.003\n",
            "Prob(Omnibus):                  0.000   Jarque-Bera (JB):          1246608.158\n",
            "Skew:                           3.432   Prob(JB):                         0.00\n",
            "Kurtosis:                      44.033   Cond. No.                     3.61e+17\n",
            "==============================================================================\n",
            "\n",
            "Warnings:\n",
            "[1] Standard Errors assume that the covariance matrix of the errors is correctly specified.\n",
            "[2] The smallest eigenvalue is 3.42e-22. This might indicate that there are\n",
            "strong multicollinearity problems or that the design matrix is singular.\n"
          ]
        }
      ]
    },
    {
      "cell_type": "markdown",
      "source": [
        "- For a uinit increase in bedrooms price decreases by -3.284e+04 units  \n",
        "- For a uinit increase in bathrooms price increses by 3.844e+04 units \n",
        "- For a uinit increase in sqft_living price increases by 110.9823 units      \n"
      ],
      "metadata": {
        "id": "Y0UW4HiCZCRe"
      }
    },
    {
      "cell_type": "code",
      "source": [
        "#printing the intercept and the slope\n",
        "#Intercept\n",
        "print(\"intercept:\",regressor.intercept_)\n",
        "\n",
        "#slope\n",
        "print(\"Slope:\", regressor.coef_)"
      ],
      "metadata": {
        "colab": {
          "base_uri": "https://localhost:8080/"
        },
        "id": "XWBrzGWtgskd",
        "outputId": "0b5dfac0-c09c-427e-8f33-8fd226537da4"
      },
      "execution_count": 54,
      "outputs": [
        {
          "output_type": "stream",
          "name": "stdout",
          "text": [
            "intercept: -38106757.33289945\n",
            "Slope: [-3.28425320e+04  3.84382155e+04  1.10982515e+02  1.68104682e-01\n",
            "  4.38117876e+02  6.26818420e+05  4.75407185e+04  3.24921832e+04\n",
            "  9.88423593e+04  7.24727939e+01  3.85097212e+01 -2.37543384e+03\n",
            "  2.39443070e+01  5.58833649e+05 -1.26629031e+05  2.53605599e+01\n",
            " -4.41504212e-01]\n"
          ]
        }
      ]
    },
    {
      "cell_type": "code",
      "source": [
        "#Fitting linear regression model\n",
        "model = sm.OLS(y,X).fit()\n",
        "\n",
        "\n",
        "#View model summary\n",
        "pd.set_option('display.float_format', lambda x: '%.3f' % x)\n"
      ],
      "metadata": {
        "id": "vTKZCNbwdz2T"
      },
      "execution_count": 55,
      "outputs": []
    },
    {
      "cell_type": "markdown",
      "source": [
        "### c) Prediction"
      ],
      "metadata": {
        "id": "c58oNjIGj8Bs"
      }
    },
    {
      "cell_type": "code",
      "source": [
        "#making prediction\n",
        "y_pred = regressor.predict(X_test)\n",
        "\n",
        "#making the comparrision between the actual price and the predicted price\n",
        "price_prediction = pd.DataFrame({'Actual_Price':y_test,'Predicted_price':y_pred})\n",
        "price_prediction"
      ],
      "metadata": {
        "colab": {
          "base_uri": "https://localhost:8080/",
          "height": 423
        },
        "id": "I44uaTs7hWmt",
        "outputId": "724e78c5-873c-4626-8438-86abf5c8ab3e"
      },
      "execution_count": 56,
      "outputs": [
        {
          "output_type": "execute_result",
          "data": {
            "text/plain": [
              "       Actual_Price  Predicted_price\n",
              "9791     216500.000        75681.755\n",
              "10281    451000.000       361193.869\n",
              "19722    673000.000       634411.851\n",
              "20059    650000.000       443758.751\n",
              "21204   1060000.000       841526.193\n",
              "...             ...              ...\n",
              "17763    530000.000       705772.246\n",
              "13212    370000.000       540951.523\n",
              "8109     440000.000       536151.418\n",
              "19727    334950.000       210670.108\n",
              "16124   1930000.000      1113333.227\n",
              "\n",
              "[4322 rows x 2 columns]"
            ],
            "text/html": [
              "\n",
              "  <div id=\"df-83b21586-2691-49f3-a963-4ba213cf12a3\">\n",
              "    <div class=\"colab-df-container\">\n",
              "      <div>\n",
              "<style scoped>\n",
              "    .dataframe tbody tr th:only-of-type {\n",
              "        vertical-align: middle;\n",
              "    }\n",
              "\n",
              "    .dataframe tbody tr th {\n",
              "        vertical-align: top;\n",
              "    }\n",
              "\n",
              "    .dataframe thead th {\n",
              "        text-align: right;\n",
              "    }\n",
              "</style>\n",
              "<table border=\"1\" class=\"dataframe\">\n",
              "  <thead>\n",
              "    <tr style=\"text-align: right;\">\n",
              "      <th></th>\n",
              "      <th>Actual_Price</th>\n",
              "      <th>Predicted_price</th>\n",
              "    </tr>\n",
              "  </thead>\n",
              "  <tbody>\n",
              "    <tr>\n",
              "      <th>9791</th>\n",
              "      <td>216500.000</td>\n",
              "      <td>75681.755</td>\n",
              "    </tr>\n",
              "    <tr>\n",
              "      <th>10281</th>\n",
              "      <td>451000.000</td>\n",
              "      <td>361193.869</td>\n",
              "    </tr>\n",
              "    <tr>\n",
              "      <th>19722</th>\n",
              "      <td>673000.000</td>\n",
              "      <td>634411.851</td>\n",
              "    </tr>\n",
              "    <tr>\n",
              "      <th>20059</th>\n",
              "      <td>650000.000</td>\n",
              "      <td>443758.751</td>\n",
              "    </tr>\n",
              "    <tr>\n",
              "      <th>21204</th>\n",
              "      <td>1060000.000</td>\n",
              "      <td>841526.193</td>\n",
              "    </tr>\n",
              "    <tr>\n",
              "      <th>...</th>\n",
              "      <td>...</td>\n",
              "      <td>...</td>\n",
              "    </tr>\n",
              "    <tr>\n",
              "      <th>17763</th>\n",
              "      <td>530000.000</td>\n",
              "      <td>705772.246</td>\n",
              "    </tr>\n",
              "    <tr>\n",
              "      <th>13212</th>\n",
              "      <td>370000.000</td>\n",
              "      <td>540951.523</td>\n",
              "    </tr>\n",
              "    <tr>\n",
              "      <th>8109</th>\n",
              "      <td>440000.000</td>\n",
              "      <td>536151.418</td>\n",
              "    </tr>\n",
              "    <tr>\n",
              "      <th>19727</th>\n",
              "      <td>334950.000</td>\n",
              "      <td>210670.108</td>\n",
              "    </tr>\n",
              "    <tr>\n",
              "      <th>16124</th>\n",
              "      <td>1930000.000</td>\n",
              "      <td>1113333.227</td>\n",
              "    </tr>\n",
              "  </tbody>\n",
              "</table>\n",
              "<p>4322 rows × 2 columns</p>\n",
              "</div>\n",
              "      <button class=\"colab-df-convert\" onclick=\"convertToInteractive('df-83b21586-2691-49f3-a963-4ba213cf12a3')\"\n",
              "              title=\"Convert this dataframe to an interactive table.\"\n",
              "              style=\"display:none;\">\n",
              "        \n",
              "  <svg xmlns=\"http://www.w3.org/2000/svg\" height=\"24px\"viewBox=\"0 0 24 24\"\n",
              "       width=\"24px\">\n",
              "    <path d=\"M0 0h24v24H0V0z\" fill=\"none\"/>\n",
              "    <path d=\"M18.56 5.44l.94 2.06.94-2.06 2.06-.94-2.06-.94-.94-2.06-.94 2.06-2.06.94zm-11 1L8.5 8.5l.94-2.06 2.06-.94-2.06-.94L8.5 2.5l-.94 2.06-2.06.94zm10 10l.94 2.06.94-2.06 2.06-.94-2.06-.94-.94-2.06-.94 2.06-2.06.94z\"/><path d=\"M17.41 7.96l-1.37-1.37c-.4-.4-.92-.59-1.43-.59-.52 0-1.04.2-1.43.59L10.3 9.45l-7.72 7.72c-.78.78-.78 2.05 0 2.83L4 21.41c.39.39.9.59 1.41.59.51 0 1.02-.2 1.41-.59l7.78-7.78 2.81-2.81c.8-.78.8-2.07 0-2.86zM5.41 20L4 18.59l7.72-7.72 1.47 1.35L5.41 20z\"/>\n",
              "  </svg>\n",
              "      </button>\n",
              "      \n",
              "  <style>\n",
              "    .colab-df-container {\n",
              "      display:flex;\n",
              "      flex-wrap:wrap;\n",
              "      gap: 12px;\n",
              "    }\n",
              "\n",
              "    .colab-df-convert {\n",
              "      background-color: #E8F0FE;\n",
              "      border: none;\n",
              "      border-radius: 50%;\n",
              "      cursor: pointer;\n",
              "      display: none;\n",
              "      fill: #1967D2;\n",
              "      height: 32px;\n",
              "      padding: 0 0 0 0;\n",
              "      width: 32px;\n",
              "    }\n",
              "\n",
              "    .colab-df-convert:hover {\n",
              "      background-color: #E2EBFA;\n",
              "      box-shadow: 0px 1px 2px rgba(60, 64, 67, 0.3), 0px 1px 3px 1px rgba(60, 64, 67, 0.15);\n",
              "      fill: #174EA6;\n",
              "    }\n",
              "\n",
              "    [theme=dark] .colab-df-convert {\n",
              "      background-color: #3B4455;\n",
              "      fill: #D2E3FC;\n",
              "    }\n",
              "\n",
              "    [theme=dark] .colab-df-convert:hover {\n",
              "      background-color: #434B5C;\n",
              "      box-shadow: 0px 1px 3px 1px rgba(0, 0, 0, 0.15);\n",
              "      filter: drop-shadow(0px 1px 2px rgba(0, 0, 0, 0.3));\n",
              "      fill: #FFFFFF;\n",
              "    }\n",
              "  </style>\n",
              "\n",
              "      <script>\n",
              "        const buttonEl =\n",
              "          document.querySelector('#df-83b21586-2691-49f3-a963-4ba213cf12a3 button.colab-df-convert');\n",
              "        buttonEl.style.display =\n",
              "          google.colab.kernel.accessAllowed ? 'block' : 'none';\n",
              "\n",
              "        async function convertToInteractive(key) {\n",
              "          const element = document.querySelector('#df-83b21586-2691-49f3-a963-4ba213cf12a3');\n",
              "          const dataTable =\n",
              "            await google.colab.kernel.invokeFunction('convertToInteractive',\n",
              "                                                     [key], {});\n",
              "          if (!dataTable) return;\n",
              "\n",
              "          const docLinkHtml = 'Like what you see? Visit the ' +\n",
              "            '<a target=\"_blank\" href=https://colab.research.google.com/notebooks/data_table.ipynb>data table notebook</a>'\n",
              "            + ' to learn more about interactive tables.';\n",
              "          element.innerHTML = '';\n",
              "          dataTable['output_type'] = 'display_data';\n",
              "          await google.colab.output.renderOutput(dataTable, element);\n",
              "          const docLink = document.createElement('div');\n",
              "          docLink.innerHTML = docLinkHtml;\n",
              "          element.appendChild(docLink);\n",
              "        }\n",
              "      </script>\n",
              "    </div>\n",
              "  </div>\n",
              "  "
            ]
          },
          "metadata": {},
          "execution_count": 56
        }
      ]
    },
    {
      "cell_type": "code",
      "source": [
        "#Evaluating the Algorithm\n",
        "print('Mean Absolute Error:',metrics.mean_absolute_error(y_test,y_pred))\n",
        "print('Mean Squared error:',metrics.mean_squared_error(y_test,y_pred))\n",
        "print('Root Mean squared Error:',np.sqrt(metrics.mean_squared_error(y_test,y_pred)))"
      ],
      "metadata": {
        "colab": {
          "base_uri": "https://localhost:8080/"
        },
        "id": "pD6wJV5nih50",
        "outputId": "07fd9fa9-6d60-415d-c510-d4340bfdf271"
      },
      "execution_count": 57,
      "outputs": [
        {
          "output_type": "stream",
          "name": "stdout",
          "text": [
            "Mean Absolute Error: 123620.98056557344\n",
            "Mean Squared error: 38271021169.7814\n",
            "Root Mean squared Error: 195629.8064451872\n"
          ]
        }
      ]
    },
    {
      "cell_type": "markdown",
      "source": [
        "The RMSE is 36.21% of the actual mean hence linear regression is not the actual model for prediction"
      ],
      "metadata": {
        "id": "CKMu5-2kwHw1"
      }
    },
    {
      "cell_type": "markdown",
      "source": [
        "###c) Cross Validation"
      ],
      "metadata": {
        "id": "B9E7CHZFkIDs"
      }
    },
    {
      "cell_type": "code",
      "source": [
        "X,y = house[[ 'bedrooms', 'bathrooms', 'sqft_living', 'sqft_lot', 'floors',\n",
        "       'waterfront', 'view', 'condition', 'grade', 'sqft_above',\n",
        "       'sqft_basement', 'yr_built', 'yr_renovated', 'lat', 'long',\n",
        "       'sqft_living15', 'sqft_lot15']].values,house['price'].values"
      ],
      "metadata": {
        "id": "hsWz5z1zzskS"
      },
      "execution_count": 58,
      "outputs": []
    },
    {
      "cell_type": "code",
      "source": [
        "from sklearn.model_selection import KFold\n",
        "\n",
        "# defining folds\n",
        "folds = KFold(n_splits=5)\n",
        "\n",
        "print('we are using ' +str(folds.get_n_splits(X)) + ' folds')\n",
        "\n",
        "# We now create and assess 5 models based on the folds we created.\n",
        "RMSES = [] \n",
        "count = 1 \n",
        "for train_index, test_index in folds.split(X):\n",
        "  print('\\nTraining model ' + str(count))\n",
        "  \n",
        "  # set up the train and test based on the split determined by KFold\n",
        "  X_train, X_test = X[train_index], X[test_index]\n",
        "  y_train, y_test = y[train_index], y[test_index]\n",
        "  \n",
        "  # fit a model accordingly\n",
        "  regressor = LinearRegression()  \n",
        "  regressor.fit(X_train, y_train)\n",
        "  \n",
        "  # assess the accuraccy of the model\n",
        "  y_pred = regressor.predict(X_test)\n",
        "  \n",
        "  rmse_value =  np.sqrt(metrics.mean_squared_error(y_test, y_pred))\n",
        "  RMSES.append(rmse_value)\n",
        "  \n",
        "  print('Model ' + str(count) + ' Root Mean Squared Error:',rmse_value)\n",
        "  count = count + 1"
      ],
      "metadata": {
        "colab": {
          "base_uri": "https://localhost:8080/"
        },
        "id": "cZbQxuKWkRlk",
        "outputId": "49f2b30a-8e28-4ff3-9242-3e83be3f5e12"
      },
      "execution_count": 59,
      "outputs": [
        {
          "output_type": "stream",
          "name": "stdout",
          "text": [
            "we are using 5 folds\n",
            "\n",
            "Training model 1\n",
            "Model 1 Root Mean Squared Error: 216049.60207635394\n",
            "\n",
            "Training model 2\n",
            "Model 2 Root Mean Squared Error: 209759.80839528062\n",
            "\n",
            "Training model 3\n",
            "Model 3 Root Mean Squared Error: 191093.72101900718\n",
            "\n",
            "Training model 4\n",
            "Model 4 Root Mean Squared Error: 194424.67052557017\n",
            "\n",
            "Training model 5\n",
            "Model 5 Root Mean Squared Error: 209109.1123162034\n"
          ]
        }
      ]
    },
    {
      "cell_type": "markdown",
      "source": [
        "Models 1 ,2 , and 5 has higher RMSE values which means that the models needs to be investigated further."
      ],
      "metadata": {
        "id": "ptAd5AT6wkX1"
      }
    },
    {
      "cell_type": "markdown",
      "source": [
        "### d) Residual Plot"
      ],
      "metadata": {
        "id": "XaRwHiQAp7MP"
      }
    },
    {
      "cell_type": "code",
      "source": [
        "#prediction for house prices\n",
        "y_predict = regressor.predict(X_test)\n",
        "\n",
        "#creating residual by subtracting test value from predicted value\n",
        "residuals = np.subtract(y_predict,y_test)\n",
        "\n",
        "#describing the residual\n",
        "pd.DataFrame(residuals).describe()\n",
        "\n",
        "residuals.mean()"
      ],
      "metadata": {
        "colab": {
          "base_uri": "https://localhost:8080/"
        },
        "id": "Qzhk4d6HqF-u",
        "outputId": "7a8c3fcd-587c-4f91-c5ec-1f3cbd15ec84"
      },
      "execution_count": 60,
      "outputs": [
        {
          "output_type": "execute_result",
          "data": {
            "text/plain": [
              "-29028.584623532082"
            ]
          },
          "metadata": {},
          "execution_count": 60
        }
      ]
    },
    {
      "cell_type": "code",
      "source": [
        "#residual plot\n",
        "plt.scatter(y_predict,residuals, color='blue')\n",
        "plt.ylabel('residual')\n",
        "plt.xlabel('fitted values')\n",
        "plt.axhline(y=residuals.mean(),color='red',linewidth=1)\n",
        "plt.show()"
      ],
      "metadata": {
        "colab": {
          "base_uri": "https://localhost:8080/",
          "height": 290
        },
        "id": "tQXNsupCzBSc",
        "outputId": "0a3567c6-36ec-4bb8-9da8-13f540db64da"
      },
      "execution_count": 61,
      "outputs": [
        {
          "output_type": "display_data",
          "data": {
            "text/plain": [
              "<Figure size 432x288 with 1 Axes>"
            ],
            "image/png": "[encoded data removed]"
          },
          "metadata": {
            "needs_background": "light"
          }
        }
      ]
    },
    {
      "cell_type": "markdown",
      "source": [
        "The plot takes a cone shape meaaning there is heteroscedasticity and this impies that that the issue is not caused by underlined bias and this will be further investigated by performing  bartlett test"
      ],
      "metadata": {
        "id": "mH4tBgSZ0Rv1"
      }
    },
    {
      "cell_type": "markdown",
      "source": [
        "**Heteroskedasticity test**"
      ],
      "metadata": {
        "id": "xY4L8wMs1Oj0"
      }
    },
    {
      "cell_type": "code",
      "source": [
        "import scipy as sp\n",
        "test_result, p_value = sp.stats.bartlett(y_predict,residuals)\n",
        "\n",
        "#calculate critical value of the chi squared distribution\n",
        "degree_of_freedom = len(y_predict)-1\n",
        "probability = 1- p_value\n",
        "\n",
        "critical_value = sp.stats.chi2.ppf(probability, degree_of_freedom)\n",
        "\n",
        "#test whether variance is homogeneous across our dataset\n",
        "if(test_result > critical_value):\n",
        "  print('The variance are unequal, and the model should be reassessed')\n",
        "else:\n",
        "  print('The variance are homogeneous')"
      ],
      "metadata": {
        "colab": {
          "base_uri": "https://localhost:8080/"
        },
        "id": "93Kc9JXX1DKD",
        "outputId": "abd21cf1-9dd8-40ca-95da-487b59d5a922"
      },
      "execution_count": 62,
      "outputs": [
        {
          "output_type": "stream",
          "name": "stdout",
          "text": [
            "The variance are homogeneous\n"
          ]
        }
      ]
    },
    {
      "cell_type": "markdown",
      "source": [
        "## Challenging the solution with other models"
      ],
      "metadata": {
        "id": "5iJ8LNX-CDjd"
      }
    },
    {
      "cell_type": "markdown",
      "metadata": {
        "id": "bTGVTEGDELfz"
      },
      "source": [
        "###6.Quantile Regression\n",
        "\n",
        "- Deals with percentile\n",
        "- Hypothesis is set by default\n",
        "\n",
        "- outliers\n",
        "-high skewness\n",
        "-heteroscedasticity\n",
        "\n",
        "**Limitations**\n",
        "- It is to be kept in mind that the coefficients which we get in quantile regression for a particular quantile should differ significantly from those we obtain from linear regression.\n",
        "- If it is not so then our usage of quantile regression isn't justifiable. This can be done by observing the confidence intervals of regression coefficients of the estimates obtained from both the regressions.\n",
        "\n",
        "-Ridge regression will perform better when the outcome is a function of many predictors, all with coefficients of roughly equal size."
      ]
    },
    {
      "cell_type": "markdown",
      "metadata": {
        "id": "qVuM6e0zEQRD"
      },
      "source": [
        "###7.Lasso regression\n",
        "\n",
        "-performs feature selection by shrinking coefficients to zero\n",
        "- normality is not assumed\n",
        "\n",
        "- Lasso regression might perform better in a situation where some of the predictors have large coefficients, and the remaining predictors have very small coefficients\n",
        "\n",
        "- In Lasso regression, if a group of predictors is highly correlated, lasso picks only one of them and shrinks the others to zero. "
      ]
    },
    {
      "cell_type": "code",
      "source": [
        "#Dependent and independent variables\n",
        "X,y = house[[ 'bedrooms', 'bathrooms', 'sqft_living', 'sqft_lot', 'floors',\n",
        "       'waterfront', 'view', 'condition', 'grade', 'sqft_above',\n",
        "       'sqft_basement', 'yr_built', 'yr_renovated', 'lat', 'long',\n",
        "       'sqft_living15', 'sqft_lot15']].values,house['price'].values"
      ],
      "metadata": {
        "id": "_eOlVDl8n1Ba"
      },
      "execution_count": 63,
      "outputs": []
    },
    {
      "cell_type": "code",
      "source": [
        "from sklearn import linear_model\n",
        "from sklearn.metrics import mean_squared_error\n",
        "from sklearn.preprocessing import StandardScaler\n",
        "#Scaling the data\n",
        "scaler = StandardScaler()\n",
        "scaler.fit(X)\n",
        "X = scaler.transform(X)"
      ],
      "metadata": {
        "id": "RjOCpgt8n9YQ"
      },
      "execution_count": 64,
      "outputs": []
    },
    {
      "cell_type": "code",
      "source": [
        "#Creating lasso model\n",
        "lasso = linear_model.Lasso()\n",
        "\n",
        "#fitting the model\n",
        "lasso.fit(X,y)"
      ],
      "metadata": {
        "colab": {
          "base_uri": "https://localhost:8080/"
        },
        "id": "R9mHG1XOoU-Z",
        "outputId": "db7605df-c03e-4310-9109-e3f88452a47d"
      },
      "execution_count": 65,
      "outputs": [
        {
          "output_type": "execute_result",
          "data": {
            "text/plain": [
              "Lasso()"
            ]
          },
          "metadata": {},
          "execution_count": 65
        }
      ]
    },
    {
      "cell_type": "code",
      "source": [
        "#printing score,MSE and coefficients\n",
        "print(\"lasso score:\", lasso.score(X,y))\n",
        "print(\"lasso MSE:\", mean_squared_error(y, lasso.predict(X)))\n",
        "print(\"lasso coef:\", lasso.coef_)\n",
        "print('Root Mean squared Error:',np.sqrt(y, lasso.predict(X)))"
      ],
      "metadata": {
        "colab": {
          "base_uri": "https://localhost:8080/"
        },
        "id": "PQkUxJfzpNgU",
        "outputId": "a131aa2f-3cbd-440c-e1f1-25d2bc847c59"
      },
      "execution_count": 66,
      "outputs": [
        {
          "output_type": "stream",
          "name": "stdout",
          "text": [
            "lasso score: 0.6954710465375181\n",
            "lasso MSE: 41104174460.74734\n",
            "lasso coef: [-31769.44374354  32424.57430828 256755.07691825   5255.97888026\n",
            "    449.75297634  50831.79363184  37996.65535565  20236.83700672\n",
            " 114411.18481849 -82761.97831086 -58770.79740555 -72195.23900402\n",
            "   8734.24458098  77765.69101753 -16474.6710401   18793.96560341\n",
            " -10728.2289733 ]\n",
            "Root Mean squared Error: [471.06262853 733.48483284 424.26406871 ... 634.114343   632.45553203\n",
            " 570.08771255]\n"
          ]
        }
      ]
    },
    {
      "cell_type": "code",
      "source": [
        "#Spliting the data\n",
        "X_train, X_test, y_train, y_test = train_test_split(X, y, test_size=0.25, random_state=101)\n",
        "parameters = {'alpha': np.concatenate((np.arange(0.1,2,0.1), np.arange(2, 5, 0.5), np.arange(5, 25, 1)))}\n"
      ],
      "metadata": {
        "id": "X7aE5BvOs5qB"
      },
      "execution_count": 67,
      "outputs": []
    },
    {
      "cell_type": "code",
      "source": [
        "#fitting the model \n",
        "linear = linear_model.LinearRegression()\n",
        "lasso = linear_model.Lasso() \n",
        "gridlasso = GridSearchCV(lasso, parameters, scoring ='r2') \n"
      ],
      "metadata": {
        "id": "4uLVpjRjtmwf"
      },
      "execution_count": 68,
      "outputs": []
    },
    {
      "cell_type": "code",
      "source": [
        "# Fitting models \n",
        "gridlasso.fit(X_train, y_train) \n",
        "linear.fit(X_train, y_train) \n",
        "print(\"lasso best parameters:\", gridlasso.best_params_) \n",
        "print(\"lasso score:\", gridlasso.score(X_test, y_test))\n",
        "print(\"linear score:\", linear.score(X_test, y_test)) \n",
        "print(\"lasso MSE:\", mean_squared_error(y_test, gridlasso.predict(X_test)))\n",
        "print(\"linear MSE:\", mean_squared_error(y_test, linear.predict(X_test))) \n",
        "print(\"lasso best estimator coef:\", gridlasso.best_estimator_.coef_)\n",
        "print(\"linear coef:\", linear.coef_)"
      ],
      "metadata": {
        "colab": {
          "base_uri": "https://localhost:8080/"
        },
        "id": "sa4G5_u3t8nv",
        "outputId": "f07f4a38-2349-4f01-be51-129177b9f823"
      },
      "execution_count": 69,
      "outputs": [
        {
          "output_type": "stream",
          "name": "stdout",
          "text": [
            "lasso best parameters: {'alpha': 24.0}\n",
            "lasso score: 0.7014619087958887\n",
            "linear score: 0.701364454216594\n",
            "lasso MSE: 39043305560.22448\n",
            "linear MSE: 39056050831.36324\n",
            "lasso best estimator coef: [-31109.31320123  31908.50998696 206196.77014809   7236.73766672\n",
            "    467.76839615  49527.64707136  37363.68079389  19318.76451727\n",
            " 115175.37794059 -35220.52240856 -32238.48892522 -72070.88726813\n",
            "   8721.28552413  78025.05163156 -16362.46705263  16990.10118548\n",
            " -11744.28453154]\n",
            "linear coef: [-3.10354869e+04  3.24727459e+04  6.95581745e+17  7.22927977e+03\n",
            "  6.51722485e+02  4.94732180e+04  3.73669116e+04  1.93197623e+04\n",
            "  1.15109467e+05 -6.27148861e+17 -3.35189190e+17 -7.20555958e+04\n",
            "  8.66500739e+03  7.80379290e+04 -1.63807249e+04  1.72531499e+04\n",
            " -1.17665948e+04]\n"
          ]
        }
      ]
    },
    {
      "cell_type": "code",
      "source": [
        "#Printing the summary of lasso\n",
        "gridlasso  = sm.OLS(y_train,X_train).fit()\n",
        "\n",
        "print(model.summary())"
      ],
      "metadata": {
        "colab": {
          "base_uri": "https://localhost:8080/"
        },
        "id": "NGh8e3KWvdqn",
        "outputId": "b28bd4c4-c571-47cf-819c-6cfa209d3cfa"
      },
      "execution_count": 70,
      "outputs": [
        {
          "output_type": "stream",
          "name": "stdout",
          "text": [
            "                                 OLS Regression Results                                \n",
            "=======================================================================================\n",
            "Dep. Variable:                  price   R-squared (uncentered):                   0.901\n",
            "Model:                            OLS   Adj. R-squared (uncentered):              0.901\n",
            "Method:                 Least Squares   F-statistic:                          1.232e+04\n",
            "Date:                Sun, 24 Apr 2022   Prob (F-statistic):                        0.00\n",
            "Time:                        20:37:26   Log-Likelihood:                     -2.9497e+05\n",
            "No. Observations:               21608   AIC:                                  5.900e+05\n",
            "Df Residuals:                   21592   BIC:                                  5.901e+05\n",
            "Df Model:                          16                                                  \n",
            "Covariance Type:            nonrobust                                                  \n",
            "=================================================================================\n",
            "                    coef    std err          t      P>|t|      [0.025      0.975]\n",
            "---------------------------------------------------------------------------------\n",
            "bedrooms      -3.566e+04   1926.722    -18.508      0.000   -3.94e+04   -3.19e+04\n",
            "bathrooms      4.588e+04   3314.979     13.839      0.000    3.94e+04    5.24e+04\n",
            "sqft_living     108.6241      2.313     46.955      0.000     104.090     113.158\n",
            "sqft_lot          0.0342      0.049      0.702      0.483      -0.061       0.130\n",
            "floors         1.561e+04   3595.357      4.341      0.000    8561.035    2.27e+04\n",
            "waterfront     5.912e+05   1.77e+04     33.382      0.000    5.56e+05    6.26e+05\n",
            "view           5.227e+04   2171.754     24.070      0.000     4.8e+04    5.65e+04\n",
            "condition      2.509e+04   2369.339     10.591      0.000    2.04e+04    2.97e+04\n",
            "grade          1.078e+05   2147.160     50.200      0.000    1.04e+05    1.12e+05\n",
            "sqft_above       59.3671      2.244     26.457      0.000      54.969      63.765\n",
            "sqft_basement    49.2570      2.652     18.571      0.000      44.058      54.456\n",
            "yr_built      -3224.1047     65.401    -49.297      0.000   -3352.296   -3095.913\n",
            "yr_renovated     13.8713      3.714      3.735      0.000       6.592      21.151\n",
            "lat            4.862e+05   1.02e+04     47.831      0.000    4.66e+05    5.06e+05\n",
            "long           1.434e+05   4169.631     34.387      0.000    1.35e+05    1.52e+05\n",
            "sqft_living15    12.4762      3.440      3.627      0.000       5.734      19.218\n",
            "sqft_lot15       -0.5381      0.074     -7.225      0.000      -0.684      -0.392\n",
            "==============================================================================\n",
            "Omnibus:                    18481.324   Durbin-Watson:                   1.988\n",
            "Prob(Omnibus):                  0.000   Jarque-Bera (JB):          1803279.027\n",
            "Skew:                           3.614   Prob(JB):                         0.00\n",
            "Kurtosis:                      47.166   Cond. No.                     1.14e+17\n",
            "==============================================================================\n",
            "\n",
            "Warnings:\n",
            "[1] Standard Errors assume that the covariance matrix of the errors is correctly specified.\n",
            "[2] The smallest eigenvalue is 4.27e-21. This might indicate that there are\n",
            "strong multicollinearity problems or that the design matrix is singular.\n"
          ]
        }
      ]
    },
    {
      "cell_type": "markdown",
      "source": [
        "- For a uinit increase in bedrooms price decreases by -3.566e+04 units  \n",
        "- For a uinit increase in bathrooms price increses by 4.588e+04 units \n",
        "- For a uinit increase in sqft_living price increases by 108.6241 units      \n",
        "- For a uinit increase in sqft_lot price increses by  0.0342 units    \n",
        "- For a uinit increase in floors price increses by 1.561e+04 units  \n"
      ],
      "metadata": {
        "id": "3yq24xJ9X4xQ"
      }
    },
    {
      "cell_type": "code",
      "source": [
        "#lasso visualization\n",
        "coefsLasso = [] \n",
        "\n",
        "# Building Lasso for 200 values of alpha and write the coefficients into array\n",
        "alphasLasso = np.arange (0, 20, 0.1) \n",
        "for i in range(200):\n",
        "    lasso = linear_model.Lasso(alpha=alphasLasso[i])\n",
        "    lasso.fit(X_train, y_train)\n",
        "    coefsLasso.append(lasso.coef_) \n",
        "\n",
        "# Building Lasso coefficient plots\n",
        "# \n",
        "plt.figure(figsize = (16,7))\n",
        "\n",
        "plt.subplot(121)\n",
        "plt.plot(alphasLasso, coefsLasso)\n",
        "plt.title('Lasso coefficients')\n",
        "plt.xlabel('alpha')\n",
        "plt.ylabel('coefs')\n",
        "\n",
        "plt.show()\n"
      ],
      "metadata": {
        "colab": {
          "base_uri": "https://localhost:8080/",
          "height": 457
        },
        "id": "bArdLZrju39X",
        "outputId": "f01de236-9dde-4a8a-f897-5115fcec1aca"
      },
      "execution_count": 71,
      "outputs": [
        {
          "output_type": "display_data",
          "data": {
            "text/plain": [
              "<Figure size 1152x504 with 1 Axes>"
            ],
            "image/png": "[encoded data removed]"
          },
          "metadata": {
            "needs_background": "light"
          }
        }
      ]
    },
    {
      "cell_type": "markdown",
      "metadata": {
        "id": "uA-lEDvEEWmD"
      },
      "source": [
        "###8.Ridge regression\n"
      ]
    },
    {
      "cell_type": "code",
      "source": [
        "#Feature variables\n",
        "X=house.drop(columns=['price'])\n",
        "\n",
        "#Target variables\n",
        "y=house['price']"
      ],
      "metadata": {
        "id": "NbIMaXA0V504"
      },
      "execution_count": 72,
      "outputs": []
    },
    {
      "cell_type": "code",
      "source": [
        "#Base model mean squared error\n",
        "regression = LinearRegression()\n",
        "regression.fit(X,y)\n",
        "y_true = y\n",
        "y_pred=regression.predict(X)\n",
        "print(\"Coefficients:\",regression.coef_)\n",
        "first_model =(mean_squared_error(y_true=y,y_pred=regression.predict(X)))\n",
        "print(\"Mean square error:\",first_model)"
      ],
      "metadata": {
        "colab": {
          "base_uri": "https://localhost:8080/"
        },
        "id": "AE3gOvYAzogP",
        "outputId": "1c2d4fed-710f-4063-f15f-66d883b86bb6"
      },
      "execution_count": 73,
      "outputs": [
        {
          "output_type": "stream",
          "name": "stdout",
          "text": [
            "Coefficients: [-3.41588451e+04  4.21063816e+04  1.08780579e+02  1.26960538e-01\n",
            "  8.33027342e+02  5.87489229e+05  4.95938482e+04  3.10989633e+04\n",
            "  9.73312995e+04  7.08140127e+01  3.79665667e+01 -2.45811401e+03\n",
            "  2.17555901e+01  5.61188725e+05 -1.16995169e+05  2.74294780e+01\n",
            " -3.92986675e-01]\n",
            "Mean square error: 41104174422.5116\n"
          ]
        }
      ]
    },
    {
      "cell_type": "code",
      "source": [
        "#Defining ridgr regression\n",
        "ridge= Ridge(normalize=True)\n",
        "search= GridSearchCV(estimator=ridge,param_grid={'alpha':np.logspace(-5,2,8)},scoring='neg_mean_squared_error',n_jobs=1,refit=True,cv=10)"
      ],
      "metadata": {
        "id": "Zmxx78cCxQ1O"
      },
      "execution_count": 74,
      "outputs": []
    },
    {
      "cell_type": "code",
      "source": [
        "#determine the alpha \n",
        "search.fit(X,y)\n",
        "search.best_params_"
      ],
      "metadata": {
        "colab": {
          "base_uri": "https://localhost:8080/"
        },
        "id": "T1nq3Ur0yrdX",
        "outputId": "416f8788-cde9-4402-9759-f2ba636e0e08"
      },
      "execution_count": 75,
      "outputs": [
        {
          "output_type": "execute_result",
          "data": {
            "text/plain": [
              "{'alpha': 0.01}"
            ]
          },
          "metadata": {},
          "execution_count": 75
        }
      ]
    },
    {
      "cell_type": "code",
      "source": [
        "#detemining the strength of the model\n",
        "{'alpha':0.01}\n",
        "abs(search.best_score_)\n"
      ],
      "metadata": {
        "colab": {
          "base_uri": "https://localhost:8080/"
        },
        "id": "tThFrD-YzMjH",
        "outputId": "1c34bfd7-e6bf-4bfe-db0c-3e801f84ef2f"
      },
      "execution_count": 91,
      "outputs": [
        {
          "output_type": "execute_result",
          "data": {
            "text/plain": [
              "41621989393.53528"
            ]
          },
          "metadata": {},
          "execution_count": 91
        }
      ]
    },
    {
      "cell_type": "markdown",
      "source": [
        "the value 41621989393.53528 which is themean squared error is worse than the\n",
        "mean squared error for baseline model which is 41104174422.51162\n",
        "\n",
        "hence we will perform ridge confirmation by fitting the model with ridge information and fitting the mean squared error"
      ],
      "metadata": {
        "id": "Ero5LEGv1r8-"
      }
    },
    {
      "cell_type": "code",
      "source": [
        "#confirmation\n",
        "ridge=Ridge(normalize=True,alpha=0.01)\n",
        "ridge.fit(X,y)\n",
        "second_model=(mean_squared_error(y_true=y,y_pred=regression.predict(X)))\n",
        "print(\"Mean Squared error:\",second_model)\n",
        "print(\"RMSE: \",np.sqrt(metrics.mean_squared_error(y_true=y,y_pred=regression.predict(X))))"
      ],
      "metadata": {
        "colab": {
          "base_uri": "https://localhost:8080/"
        },
        "id": "0mDc-eKf2Lwv",
        "outputId": "d6265ccd-26ff-4f5d-9d70-44b5686ebf51"
      },
      "execution_count": 77,
      "outputs": [
        {
          "output_type": "stream",
          "name": "stdout",
          "text": [
            "Mean Squared error: 41104174422.5116\n",
            "RMSE:  202741.64451959936\n"
          ]
        }
      ]
    },
    {
      "cell_type": "markdown",
      "source": [
        "41104174422.51162 is lower than the 41592394469.90386. This is because the last results are not cross-validated and they also indicate that there is little difference between the ridge as it is confirmed with the coefficients in each model found below"
      ],
      "metadata": {
        "id": "441BZW073G5H"
      }
    },
    {
      "cell_type": "code",
      "source": [
        "coef_dict_baseline = {}\n",
        "for coef,feat in zip(regression.coef_, house.columns):\n",
        "  coef_dict_baseline[feat]=coef\n",
        "coef_dict_baseline"
      ],
      "metadata": {
        "colab": {
          "base_uri": "https://localhost:8080/"
        },
        "id": "KpZMnNd-4JGe",
        "outputId": "f18dfdd1-3396-419f-ff7f-1bde3af56eed"
      },
      "execution_count": 92,
      "outputs": [
        {
          "output_type": "execute_result",
          "data": {
            "text/plain": [
              "{'bathrooms': 108.78057931656521,\n",
              " 'bedrooms': 42106.38162727906,\n",
              " 'condition': 97331.29945677936,\n",
              " 'floors': 587489.2290002764,\n",
              " 'grade': 70.81401269054021,\n",
              " 'lat': -116995.16921303383,\n",
              " 'long': 27.42947803892529,\n",
              " 'price': -34158.84511896979,\n",
              " 'sqft_above': 37.96656667099122,\n",
              " 'sqft_basement': -2458.1140065008517,\n",
              " 'sqft_living': 0.12696053801754467,\n",
              " 'sqft_living15': -0.3929866750456179,\n",
              " 'sqft_lot': 833.0273424004376,\n",
              " 'view': 31098.963318998998,\n",
              " 'waterfront': 49593.848179756096,\n",
              " 'yr_built': 21.755590119154803,\n",
              " 'yr_renovated': 561188.7247240745}"
            ]
          },
          "metadata": {},
          "execution_count": 92
        }
      ]
    },
    {
      "cell_type": "markdown",
      "source": [
        "The coefficient values are about the same which means that the penalization made little difference with this dataset."
      ],
      "metadata": {
        "id": "5t-e_MxJ5l2W"
      }
    },
    {
      "cell_type": "code",
      "source": [
        "#add a constant\n",
        "X=sm.add_constant(X)\n",
        "\n",
        "#Summary in Ridge regression\n",
        "ridge = sm.OLS(y,X).fit()\n",
        "\n",
        "print(ridge.summary())"
      ],
      "metadata": {
        "colab": {
          "base_uri": "https://localhost:8080/"
        },
        "id": "zjZ-hLd8TcT_",
        "outputId": "747668d2-9a83-4e18-d06e-4bb1063f7c34"
      },
      "execution_count": 93,
      "outputs": [
        {
          "output_type": "stream",
          "name": "stdout",
          "text": [
            "                            OLS Regression Results                            \n",
            "==============================================================================\n",
            "Dep. Variable:                  price   R-squared:                       0.695\n",
            "Model:                            OLS   Adj. R-squared:                  0.695\n",
            "Method:                 Least Squares   F-statistic:                     3082.\n",
            "Date:                Sun, 24 Apr 2022   Prob (F-statistic):               0.00\n",
            "Time:                        20:41:06   Log-Likelihood:            -2.9470e+05\n",
            "No. Observations:               21608   AIC:                         5.894e+05\n",
            "Df Residuals:                   21591   BIC:                         5.896e+05\n",
            "Df Model:                          16                                         \n",
            "Covariance Type:            nonrobust                                         \n",
            "=================================================================================\n",
            "                    coef    std err          t      P>|t|      [0.025      0.975]\n",
            "---------------------------------------------------------------------------------\n",
            "const         -3.686e+07    1.6e+06    -23.089      0.000      -4e+07   -3.37e+07\n",
            "bedrooms      -3.416e+04   1904.522    -17.936      0.000   -3.79e+04   -3.04e+04\n",
            "bathrooms      4.211e+04   3278.939     12.841      0.000    3.57e+04    4.85e+04\n",
            "sqft_living     108.7811      2.285     47.599      0.000     104.302     113.261\n",
            "sqft_lot          0.1270      0.048      2.629      0.009       0.032       0.222\n",
            "floors          833.0273   3609.042      0.231      0.817   -6240.961    7907.016\n",
            "waterfront     5.875e+05   1.75e+04     33.580      0.000    5.53e+05    6.22e+05\n",
            "view           4.959e+04   2148.616     23.082      0.000    4.54e+04    5.38e+04\n",
            "condition       3.11e+04   2355.078     13.205      0.000    2.65e+04    3.57e+04\n",
            "grade          9.733e+04   2168.977     44.874      0.000    9.31e+04    1.02e+05\n",
            "sqft_above       70.8135      2.271     31.175      0.000      66.361      75.266\n",
            "sqft_basement    37.9660      2.665     14.244      0.000      32.742      43.191\n",
            "yr_built      -2458.1140     72.630    -33.845      0.000   -2600.473   -2315.755\n",
            "yr_renovated     21.7556      3.685      5.904      0.000      14.533      28.978\n",
            "lat            5.612e+05   1.06e+04     53.173      0.000    5.41e+05    5.82e+05\n",
            "long           -1.17e+05    1.2e+04     -9.745      0.000   -1.41e+05   -9.35e+04\n",
            "sqft_living15    27.4295      3.459      7.929      0.000      20.649      34.210\n",
            "sqft_lot15       -0.3930      0.074     -5.322      0.000      -0.538      -0.248\n",
            "==============================================================================\n",
            "Omnibus:                    18510.451   Durbin-Watson:                   1.993\n",
            "Prob(Omnibus):                  0.000   Jarque-Bera (JB):          1871169.697\n",
            "Skew:                           3.611   Prob(JB):                         0.00\n",
            "Kurtosis:                      48.013   Cond. No.                     1.18e+17\n",
            "==============================================================================\n",
            "\n",
            "Warnings:\n",
            "[1] Standard Errors assume that the covariance matrix of the errors is correctly specified.\n",
            "[2] The smallest eigenvalue is 3.97e-21. This might indicate that there are\n",
            "strong multicollinearity problems or that the design matrix is singular.\n"
          ]
        }
      ]
    },
    {
      "cell_type": "markdown",
      "source": [
        "\n",
        "- For a uinit increase in bedrooms price decreases by -3.416e+04 units  \n",
        "- For a uinit increase in bathrooms price increses by 4.211e+04 units \n",
        "- For a uinit increase in sqft_living price increases by 108.7811 units      \n",
        "- For a uinit increase in sqft_lot price increses by  0.1270 units    \n",
        "- For a uinit increase in floors price increses by 833.0273 units  \n",
        "- For a uinit increase in waterfront price increses by 5.875e+05 units  \n",
        "- For a uinit increase in view price increses by  4.959e+04 units  \n",
        "- For a uinit increase in condition price increses by 3.11e+04 units  \n",
        "- For a uinit increase in grade price increses by  9.733e+04 units  \n",
        "- For a uinit increase in sqft_above price increses by  70.8135 units      \n",
        "- For a uinit increase in sqft_basement price increses by  37.9660 units     \n",
        "- For a uinit increase in yr_built price decreases by  -2458.1140 units    \n",
        "- For a uinit increase in yr_renovated price increses by  21.7556 units     \n",
        "- For a uinit increase in lat price increses by  5.612e+05 units  \n",
        "- For a uinit increase in long price decreases by  -1.17e+05 units  \n",
        "- For a uinit increase in sqft_living15 price increses by 27.4295 units     \n",
        "- For a uinit increase in sqft_lot15 price decreases by  -0.3930 units"
      ],
      "metadata": {
        "id": "wKX1wvo1VE7a"
      }
    },
    {
      "cell_type": "markdown",
      "metadata": {
        "id": "n6rvG9e6Ea1D"
      },
      "source": [
        "###9.Elastic Net Regression\n",
        "\n",
        "- On top of the least-squares method, it introduces a penalty on regression coefficients which is a convex combination of lasso and ridge penalty.\n",
        "- It encourages group effect in case of highly correlated variables. \n",
        "- There are no limitations on the number of selected variables. This is a limitation of the Lasso regression method.\n",
        "- A limitation of Elastic net regression is that it can suffer from double shrinkage, which leads to increased bias and poor predictions."
      ]
    },
    {
      "cell_type": "code",
      "source": [
        "#Elastic net model\n",
        "elastic = ElasticNet(normalize=True)\n",
        "search=GridSearchCV(estimator=elastic,param_grid={'alpha':np.logspace(-5,2,8),'l1_ratio':[.2,.4,.6,.8]},scoring='neg_mean_squared_error',n_jobs=1,refit=True,cv=10)\n"
      ],
      "metadata": {
        "id": "8rlj6AlX82ds"
      },
      "execution_count": 94,
      "outputs": []
    },
    {
      "cell_type": "code",
      "source": [
        "#Fit the model and display best parameter\n",
        "search.fit(X,y)\n",
        "search.best_params_\n"
      ],
      "metadata": {
        "colab": {
          "base_uri": "https://localhost:8080/"
        },
        "id": "OV0v4ROt98HV",
        "outputId": "e7b23fc4-f3e7-41e2-b368-706f9aeb4545"
      },
      "execution_count": 95,
      "outputs": [
        {
          "output_type": "execute_result",
          "data": {
            "text/plain": [
              "{'alpha': 1e-05, 'l1_ratio': 0.8}"
            ]
          },
          "metadata": {},
          "execution_count": 95
        }
      ]
    },
    {
      "cell_type": "code",
      "source": [
        "#Best score\n",
        "abs(search.best_score_)"
      ],
      "metadata": {
        "colab": {
          "base_uri": "https://localhost:8080/"
        },
        "id": "7RDDkuAt-qzp",
        "outputId": "0f12a32f-ef13-4106-e3e9-d5d8e7324e49"
      },
      "execution_count": 96,
      "outputs": [
        {
          "output_type": "execute_result",
          "data": {
            "text/plain": [
              "41621989393.53528"
            ]
          },
          "metadata": {},
          "execution_count": 96
        }
      ]
    },
    {
      "cell_type": "code",
      "source": [
        "#settint the hyperparameters for clarification\n",
        "elastic=ElasticNet(normalize=True,alpha=0.00005, l1_ratio=0.8)\n",
        "elastic.fit(X,y)\n",
        "second_model=(mean_squared_error(y_true=y,y_pred=elastic.predict(X)))\n",
        "print(\"RMSE: \",np.sqrt(metrics.mean_squared_error(y_true=y,y_pred=elastic.predict(X))))\n",
        "print(second_model)\n"
      ],
      "metadata": {
        "colab": {
          "base_uri": "https://localhost:8080/"
        },
        "id": "lRAniSAL_AzO",
        "outputId": "afe25db4-3674-4de4-a9b0-8ca187788672"
      },
      "execution_count": 97,
      "outputs": [
        {
          "output_type": "stream",
          "name": "stdout",
          "text": [
            "RMSE:  205731.61881141373\n",
            "42325498978.76485\n"
          ]
        }
      ]
    },
    {
      "cell_type": "code",
      "source": [
        "#add a constant\n",
        "X=sm.add_constant(X)\n",
        "\n",
        "#Summary in ElasticNet regression\n",
        "elastic = sm.OLS(y,X).fit()\n",
        "\n",
        "print(elastic.summary())"
      ],
      "metadata": {
        "colab": {
          "base_uri": "https://localhost:8080/"
        },
        "id": "Wfu5KVhLXIZH",
        "outputId": "0e495df8-2f9d-420a-c0a2-253f5e8f4327"
      },
      "execution_count": 98,
      "outputs": [
        {
          "output_type": "stream",
          "name": "stdout",
          "text": [
            "                            OLS Regression Results                            \n",
            "==============================================================================\n",
            "Dep. Variable:                  price   R-squared:                       0.695\n",
            "Model:                            OLS   Adj. R-squared:                  0.695\n",
            "Method:                 Least Squares   F-statistic:                     3082.\n",
            "Date:                Sun, 24 Apr 2022   Prob (F-statistic):               0.00\n",
            "Time:                        20:41:35   Log-Likelihood:            -2.9470e+05\n",
            "No. Observations:               21608   AIC:                         5.894e+05\n",
            "Df Residuals:                   21591   BIC:                         5.896e+05\n",
            "Df Model:                          16                                         \n",
            "Covariance Type:            nonrobust                                         \n",
            "=================================================================================\n",
            "                    coef    std err          t      P>|t|      [0.025      0.975]\n",
            "---------------------------------------------------------------------------------\n",
            "const         -3.686e+07    1.6e+06    -23.089      0.000      -4e+07   -3.37e+07\n",
            "bedrooms      -3.416e+04   1904.522    -17.936      0.000   -3.79e+04   -3.04e+04\n",
            "bathrooms      4.211e+04   3278.939     12.841      0.000    3.57e+04    4.85e+04\n",
            "sqft_living     108.7811      2.285     47.599      0.000     104.302     113.261\n",
            "sqft_lot          0.1270      0.048      2.629      0.009       0.032       0.222\n",
            "floors          833.0273   3609.042      0.231      0.817   -6240.961    7907.016\n",
            "waterfront     5.875e+05   1.75e+04     33.580      0.000    5.53e+05    6.22e+05\n",
            "view           4.959e+04   2148.616     23.082      0.000    4.54e+04    5.38e+04\n",
            "condition       3.11e+04   2355.078     13.205      0.000    2.65e+04    3.57e+04\n",
            "grade          9.733e+04   2168.977     44.874      0.000    9.31e+04    1.02e+05\n",
            "sqft_above       70.8135      2.271     31.175      0.000      66.361      75.266\n",
            "sqft_basement    37.9660      2.665     14.244      0.000      32.742      43.191\n",
            "yr_built      -2458.1140     72.630    -33.845      0.000   -2600.473   -2315.755\n",
            "yr_renovated     21.7556      3.685      5.904      0.000      14.533      28.978\n",
            "lat            5.612e+05   1.06e+04     53.173      0.000    5.41e+05    5.82e+05\n",
            "long           -1.17e+05    1.2e+04     -9.745      0.000   -1.41e+05   -9.35e+04\n",
            "sqft_living15    27.4295      3.459      7.929      0.000      20.649      34.210\n",
            "sqft_lot15       -0.3930      0.074     -5.322      0.000      -0.538      -0.248\n",
            "==============================================================================\n",
            "Omnibus:                    18510.451   Durbin-Watson:                   1.993\n",
            "Prob(Omnibus):                  0.000   Jarque-Bera (JB):          1871169.697\n",
            "Skew:                           3.611   Prob(JB):                         0.00\n",
            "Kurtosis:                      48.013   Cond. No.                     1.18e+17\n",
            "==============================================================================\n",
            "\n",
            "Warnings:\n",
            "[1] Standard Errors assume that the covariance matrix of the errors is correctly specified.\n",
            "[2] The smallest eigenvalue is 3.97e-21. This might indicate that there are\n",
            "strong multicollinearity problems or that the design matrix is singular.\n"
          ]
        }
      ]
    },
    {
      "cell_type": "markdown",
      "source": [
        "- For a uinit increase in bedrooms price decreases by -3.416e+04 units  \n",
        "- For a uinit increase in bathrooms price increses by 4.211e+04 units \n",
        "- For a uinit increase in sqft_living price increases by 108.7811 units      \n",
        "- For a uinit increase in sqft_lot price increses by  0.1270 units    \n",
        "- For a uinit increase in floors price increses by 833.0273 units  \n",
        "- For a uinit increase in waterfront price increses by 5.875e+05 units  \n",
        "- For a uinit increase in view price increses by  4.959e+04 units  \n",
        "- For a uinit increase in condition price increses by 3.11e+04 units  \n",
        "- For a uinit increase in grade price increses by  9.733e+04 units  \n",
        "- For a uinit increase in sqft_above price increses by  70.8135 units      \n",
        "- For a uinit increase in sqft_basement price increses by  37.9660 units     \n",
        "- For a uinit increase in yr_built price decreases by  -2458.1140 units    \n",
        "- For a uinit increase in yr_renovated price increses by  21.7556 units     \n",
        "- For a uinit increase in lat price increses by  5.612e+05 units  \n",
        "- For a uinit increase in long price decreases by  -1.17e+05 units  \n",
        "- For a uinit increase in sqft_living15 price increses by 27.4295 units     \n",
        "- For a uinit increase in sqft_lot15 price decreases by  -0.3930 units"
      ],
      "metadata": {
        "id": "atSCYeK-Y05g"
      }
    },
    {
      "cell_type": "markdown",
      "metadata": {
        "id": "Sc28w77rE0iD"
      },
      "source": [
        "##11.Conclusion\n",
        "\n",
        "Linear regression remained to be the best model according to the analysis since it had the highest R-Square and the lowest RMSE"
      ]
    },
    {
      "cell_type": "code",
      "source": [
        "#idependent variables\n",
        "X=house.drop(columns=['price'])\n",
        "y=house['price']"
      ],
      "metadata": {
        "id": "5RNpqTUnsLRA"
      },
      "execution_count": 99,
      "outputs": []
    },
    {
      "cell_type": "code",
      "source": [
        "from sklearn.linear_model import LinearRegression, Lasso, Ridge, ElasticNet\n",
        "#comparission between linear,Lasso,Ridge and ElasticNet\n",
        "house_lr = LinearRegression()\n",
        "house_ls = Lasso()\n",
        "house_rg = Ridge()\n",
        "house_en = ElasticNet()\n",
        "models = [(house_lr,'Linear Regression'),\n",
        "          (house_ls, 'Lasso'),\n",
        "          (house_rg, 'Ridge'),\n",
        "          (house_en, 'ElasticNet')]\n"
      ],
      "metadata": {
        "id": "Jjlw1clgqB0Q"
      },
      "execution_count": 100,
      "outputs": []
    },
    {
      "cell_type": "code",
      "source": [
        "#Scale the data\n",
        "house_ss = StandardScaler()\n",
        "#target variable\n",
        "X_scaled = house_ss.fit_transform(X=X)\n",
        "\n",
        "#spliting the data\n",
        "X_train, X_test, y_train, y_test = train_test_split(X_scaled,y,test_size=0.25,random_state=0)\n",
        "\n"
      ],
      "metadata": {
        "id": "WpWGJdNur04q"
      },
      "execution_count": 101,
      "outputs": []
    },
    {
      "cell_type": "code",
      "source": [
        "#fitting the model and graph coefficients\n",
        "for model in models:\n",
        "  model[0].fit(X_train,y_train)\n",
        "  pd.Series(model[0].coef_,index=X.columns).plot(kind='barh')\n",
        "  plt.title(model[1])\n",
        "  plt.xlabel('Coefficient value')\n",
        "  plt.ylabel('feature name')\n",
        "  plt.show()"
      ],
      "metadata": {
        "colab": {
          "base_uri": "https://localhost:8080/",
          "height": 1000
        },
        "id": "7xcW5fHstQRD",
        "outputId": "b6171a9e-7e67-407b-8cf7-577ba2600801"
      },
      "execution_count": 102,
      "outputs": [
        {
          "output_type": "display_data",
          "data": {
            "text/plain": [
              "<Figure size 432x288 with 1 Axes>"
            ],
            "image/png": "[encoded data removed]"
          },
          "metadata": {
            "needs_background": "light"
          }
        },
        {
          "output_type": "display_data",
          "data": {
            "text/plain": [
              "<Figure size 432x288 with 1 Axes>"
            ],
            "image/png": "[encoded data removed]"
          },
          "metadata": {
            "needs_background": "light"
          }
        },
        {
          "output_type": "display_data",
          "data": {
            "text/plain": [
              "<Figure size 432x288 with 1 Axes>"
            ],
            "image/png": "[encoded data removed]"
          },
          "metadata": {
            "needs_background": "light"
          }
        },
        {
          "output_type": "display_data",
          "data": {
            "text/plain": [
              "<Figure size 432x288 with 1 Axes>"
            ],
            "image/png": "[encoded data removed]"
          },
          "metadata": {
            "needs_background": "light"
          }
        }
      ]
    },
    {
      "cell_type": "code",
      "source": [
        "#model scores\n",
        "for model in models:\n",
        "  mse =mean_squared_error(model[0].predict(X_test),y_test)\n",
        "  rmse =np.sqrt(metrics.mean_squared_error(model[0].predict(X_test),y_test))\n",
        "  print(f\"Root Mean Squared Error of {model[1]}:{rmse:.2f}\")"
      ],
      "metadata": {
        "colab": {
          "base_uri": "https://localhost:8080/"
        },
        "id": "dPWxtIofux3f",
        "outputId": "6b131644-1f03-4c94-a86a-f43751dca793"
      },
      "execution_count": 103,
      "outputs": [
        {
          "output_type": "stream",
          "name": "stdout",
          "text": [
            "Root Mean Squared Error of Linear Regression:196354.72\n",
            "Root Mean Squared Error of Lasso:196354.95\n",
            "Root Mean Squared Error of Ridge:196354.15\n",
            "Root Mean Squared Error of ElasticNet:202961.34\n"
          ]
        }
      ]
    },
    {
      "cell_type": "markdown",
      "source": [
        "Accord to the analysis, the best model is ridge regression sinse it has the lowest RMSE of 196354.15 while the worst model is ElasticNet since it has RMSE of 202961.34"
      ],
      "metadata": {
        "id": "qZ8Ijs8iy0MB"
      }
    },
    {
      "cell_type": "markdown",
      "source": [
        "### Coefficient interpretation in different models"
      ],
      "metadata": {
        "id": "g48GCGRsZcNQ"
      }
    },
    {
      "cell_type": "markdown",
      "source": [
        "**LinearRegression**\n",
        "\n",
        "- For a uinit increase in bedrooms price decreases by -3.284e+04 units  \n",
        "- For a uinit increase in bathrooms price increses by 3.844e+04 units \n",
        "- For a uinit increase in sqft_living price increases by 110.9823 units \n",
        "\n",
        "**Lasso Regression**\n",
        "\n",
        "- For a uinit increase in bedrooms price decreases by -3.566e+04 units\n",
        "- For a uinit increase in bathrooms price increses by 4.588e+04 units\n",
        "- For a uinit increase in sqft_living price increases by 108.6241 units\n",
        "\n",
        "**Ridge Regression**\n",
        "\n",
        "- For a uinit increase in bedrooms price decreases by -3.416e+04 units  \n",
        "- For a uinit increase in bathrooms price increses by 4.211e+04 units \n",
        "- For a uinit increase in sqft_living price increases by 108.7811 units  \n",
        "\n",
        "**ElasticNet**\n",
        "\n",
        "- For a uinit increase in bedrooms price decreases by -3.416e+04 units  \n",
        "- For a uinit increase in bathrooms price increses by 4.211e+04 units \n",
        "- For a uinit increase in sqft_living price increases by 108.7811 units "
      ],
      "metadata": {
        "id": "NSYXijxmZyg-"
      }
    },
    {
      "cell_type": "markdown",
      "metadata": {
        "id": "_jylr3JzE40T"
      },
      "source": [
        "##12.Recommendation\n",
        "\n",
        "More data is needed in order to improve the accuracy of the model."
      ]
    }
  ],
  "metadata": {
    "colab": {
      "collapsed_sections": [
        "D0d4adxrF4gY"
      ],
      "name": "Regressions.ipynb",
      "provenance": [],
      "toc_visible": true
    },
    "kernelspec": {
      "display_name": "Python 3",
      "name": "python3"
    },
    "language_info": {
      "name": "python"
    }
  },
  "nbformat": 4,
  "nbformat_minor": 0
}